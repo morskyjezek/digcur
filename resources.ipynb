#Here's what you'll need

Install these things:
