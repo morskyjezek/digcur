{
 "cells": [
  {
   "cell_type": "markdown",
   "metadata": {},
   "source": [
    "# Grabbing MODS for LC Web archives"
   ]
  },
  {
   "cell_type": "markdown",
   "metadata": {},
   "source": [
    "Here are a few IDs that can be used to pull out records that are represented on the LC website [loc.gov](http://www.loc.gov/) as of August 2018:\n",
    "\n",
    "These are newer MODS records that don't have LCSH:\n",
    "```\n",
    "lcwaN0010234,lcwaN0001999,lcwaN0003238,lcwaN0010144,lcwaN0010145,\n",
    "lcwaN0012178,lcwaN0012179,lcwaN0012180,lcwaN0012184,lcwaN0012195,\n",
    "lcwaN0010932,lcwaN0010933,lcwaN0010936,lcwaN0010937,lcwaN0010940,\n",
    "```\n",
    "\n",
    "These have LCSH in `<subject>`:\n",
    "\n",
    "`lcwaN0010888,lcwaN0010226,lcwaN0009692,lcwaN0009700,lcwaN0010401`\n",
    "\n",
    "These are election sites that include `<subject>` with both lcsh and local:\n",
    "`lcwaE0008846,lcwaE0008263,lcwaE0008338,lcwaE0008918,lcwaE0008001`"
   ]
  },
  {
   "cell_type": "code",
   "execution_count": 1,
   "metadata": {},
   "outputs": [
    {
     "name": "stdout",
     "output_type": "stream",
     "text": [
      "25\n"
     ]
    }
   ],
   "source": [
    "#a list of LCWA site IDs that can be used to retrieve corresponding records\n",
    "siteIDs = [\n",
    "            'lcwaN0010234','lcwaN0001999','lcwaN0003238','lcwaN0010144','lcwaN0010145',\n",
    "            'lcwaN0012178','lcwaN0012179','lcwaN0012180','lcwaN0012184','lcwaN0012195',\n",
    "            'lcwaN0010932','lcwaN0010933','lcwaN0010936','lcwaN0010937','lcwaN0010940',\n",
    "            'lcwaN0010888','lcwaN0010226','lcwaN0009692','lcwaN0009700','lcwaN0010401', #Note: these records are older and have a different structure\n",
    "            'lcwaE0008846','lcwaE0008263','lcwaE0008338','lcwaE0008918','lcwaE0008001'\n",
    "          ]\n",
    "\n",
    "print(len(siteIDs))"
   ]
  },
  {
   "cell_type": "markdown",
   "metadata": {},
   "source": [
    "URLS for corresponding IDs can be formed as follows:"
   ]
  },
  {
   "cell_type": "markdown",
   "metadata": {},
   "source": [
    "`lcwaN0010888,https://cdn.loc.gov/service/webcapture/project_1/mods/lcwaN0010888.xml`"
   ]
  },
  {
   "cell_type": "markdown",
   "metadata": {},
   "source": [
    "Below is a function `request_single_lcwa_MODS()` that will take an lcwa identifier and format request (here, xml) to request a MODS file. You can use this to generate collections of MODS records, which can be grouped in a `<modsCollection>` group. "
   ]
  },
  {
   "cell_type": "code",
   "execution_count": 2,
   "metadata": {},
   "outputs": [
    {
     "name": "stdout",
     "output_type": "stream",
     "text": [
      "{'Date': 'Mon, 27 Aug 2018 01:01:35 GMT', 'Content-Type': 'text/xml', 'Transfer-Encoding': 'chunked', 'Connection': 'keep-alive', 'Set-Cookie': '__cfduid=dac995cd5603f413afdbdf9bb9354b7a31535331695; expires=Tue, 27-Aug-19 01:01:35 GMT; path=/; domain=.loc.gov; HttpOnly', 'Last-Modified': 'Tue, 12 Jun 2018 17:37:27 GMT', 'ETag': 'W/\"25672b74-997-56e7551e84a87\"', 'Access-Control-Allow-Origin': '*', 'CF-Cache-Status': 'HIT', 'Vary': 'Accept-Encoding', 'Expires': 'Mon, 27 Aug 2018 05:01:35 GMT', 'Cache-Control': 'public, max-age=14400', 'Expect-CT': 'max-age=604800, report-uri=\"https://report-uri.cloudflare.com/cdn-cgi/beacon/expect-ct\"', 'Server': 'cloudflare', 'CF-RAY': '450a9b991e8023e4-IAD', 'Content-Encoding': 'gzip'}\n",
      "<mods version=\"3.4\" xmlns=\"http://www.loc.gov/mods/v3\" xmlns:xlink=\"http://www.w3.org/1999/xlink\" xmlns:xsi=\"http://www.w3.org/2001/XMLSchema-instance\" xsi:schemaLocation=\"http://www.loc.gov/mods/v3 http://www.loc.gov/standards/mods/v3/mods-3-4.xsd\"><identifier>lcwaN0010234</identifier><identifier invalid=\"yes\" type=\"database id\">85999</identifier><identifier invalid=\"yes\" type=\"database id\">109353</identifier><titleInfo><title>Slate Magazine</title></titleInfo><language><languageTerm authority=\"iso639-2b\" type=\"code\">eng</languageTerm></language><physicalDescription><form authority=\"marcform\">electronic</form><internetMediaType>text/html</internetMediaType><digitalOrigin>born digital</digitalOrigin></physicalDescription><targetAudience>general</targetAudience><typeOfResource>text</typeOfResource><genre authority=\"marcgt\">web site</genre><originInfo><place><placeTerm type=\"text\">United States</placeTerm></place></originInfo><abstract /><relatedItem type=\"host\"><titleInfo><title>General News on the Internet Web Archive</title></titleInfo></relatedItem><relatedItem type=\"host\"><titleInfo><title>Serial and Government Publications Division</title></titleInfo></relatedItem><relatedItem displayLabel=\"URL\" type=\"constituent\"><identifier displayLabel=\"Access URL\" type=\"uri\">http://www.slate.com/</identifier><identifier type=\"database id\">15046</identifier><location><url displayLabel=\"thumbnail image\">http://cdn.loc.gov/service/webcapture/project_1/thumbnails/lcwaS0015046.jpg</url></location><part type=\"scope\"><text displayLabel=\"domain\">http://slate.com</text><text displayLabel=\"domain\">http://twitter.com/slate</text><text displayLabel=\"domain\">http://www.facebook.com/Slate</text><text displayLabel=\"domain\">http://www.instagram.com/slate</text></part></relatedItem><location><url displayLabel=\"Archived site\">http://www.loc.gov/item/lcwaN0010234</url></location><location><physicalLocation>Library of Congress, Washington, D.C., 20540 USA</physicalLocation><physicalLocation authority=\"marcorg\">dlc</physicalLocation></location><accessCondition type=\"restrictionOnAccess\">None</accessCondition><recordInfo><recordContentSource authority=\"marcorg\">dlc</recordContentSource><recordCreationDate encoding=\"iso8601\">20180608</recordCreationDate><recordIdentifier source=\"dlc\">lcwaN0010234</recordIdentifier><languageOfCataloging><languageTerm authority=\"iso639-2b\" type=\"code\">eng</languageTerm></languageOfCataloging></recordInfo></mods>\n",
      "Type:  <class 'bytes'>\n"
     ]
    }
   ],
   "source": [
    "import requests\n",
    "import xml.etree.ElementTree as ET\n",
    "\n",
    "count = 0\n",
    "endpoint = 'https://cdn.loc.gov/service/webcapture/project_1/mods/'\n",
    "\n",
    "def request_single_lcwa_MODS(lcwa,fo):\n",
    "    endpoint = 'https://cdn.loc.gov/service/webcapture/project_1/mods/'\n",
    "    urlRequest = endpoint + lcwa + '.' + fo\n",
    "    response = requests.get(urlRequest)\n",
    "    return response\n",
    "\n",
    "for x in siteIDs:\n",
    "    count = count + 1\n",
    "    if count > 1:\n",
    "        break\n",
    "    response_back = request_single_lcwa_MODS(x, 'xml')\n",
    "    returnedHeaders = response_back.headers\n",
    "    returnedContent = response_back.content\n",
    "    print(returnedHeaders)\n",
    "    print(returnedContent.decode('UTF-8'))\n",
    "    print('Type: ',type(returnedContent))\n",
    "    "
   ]
  },
  {
   "cell_type": "markdown",
   "metadata": {},
   "source": [
    "Some of the records (anything in the list with an index of 10 or greater) are generated differently, including a top-level XML declaration and line-by-line printing with indentation rather than run-in text. This is better for human readability and should not substantively affect parsing. Resulting collections of mods will still be valid XML.  "
   ]
  },
  {
   "cell_type": "code",
   "execution_count": 3,
   "metadata": {},
   "outputs": [
    {
     "name": "stdout",
     "output_type": "stream",
     "text": [
      "<?xml version='1.0' encoding='UTF-8'?>\n",
      "<mods version=\"3.4\" xmlns=\"http://www.loc.gov/mods/v3\" xmlns:xlink=\"http://www.w3.org/1999/xlink\"\n",
      "    xmlns:xsi=\"http://www.w3.org/2001/XMLSchema-instance\"\n",
      "    xsi:schemaLocation=\"http://www.loc.gov/mods/v3 http://www.loc.gov/standards/mods/v3/mods-3-4.xsd\">\n",
      "    <identifier>lcwaN0010888</identifier>\n",
      "    <titleInfo>\n",
      "        <title>Cute Overload! ;)</title>\n",
      "    </titleInfo>\n",
      "    <name authority=\"naf\" type=\"corporate\">\n",
      "        <namePart><!-- TODO: Insert name authority here. --></namePart>\n",
      "    </name>\n",
      "    <language>\n",
      "        <languageTerm authority=\"iso639-2b\" type=\"code\">eng</languageTerm>\n",
      "    </language>\n",
      "    <physicalDescription>\n",
      "        <form authority=\"marcform\">electronic</form>\n",
      "        <internetMediaType>text/html</internetMediaType>\n",
      "        <digitalOrigin>born digital</digitalOrigin>\n",
      "    </physicalDescription>\n",
      "    <targetAudience>general</targetAudience>\n",
      "    <typeOfResource>text</typeOfResource>\n",
      "    <genre authority=\"marcgt\">web site</genre>\n",
      "    <originInfo>\n",
      "        <place>\n",
      "            <placeTerm type=\"text\">United States</placeTerm>\n",
      "        </place>\n",
      "    </originInfo>\n",
      "    <abstract>Cute Overload was a widely read blog created by Megan Frost featuring commentary, photos and videos related to various aspects of cuteness in animals. The site's hosts would take submissions and publish what they decided were the most cute pictures for their readers. Through this, they developed a set of \"rules of cuteness,\" or reasons why something appears adorable, as well as a glossary of their specialized slang used in captions. The site won a range of awards and documents the way the web functions as a platform for sharing pictures of cute animals.\n",
      "    </abstract>\n",
      "    <subject authority=\"keyword\">\n",
      "        <topic><!-- TODO: add tags (comma separated). --></topic>\n",
      "    </subject>\n",
      "    <subject authority=\"lcsh\">\n",
      "        <name authority=\"naf\" type=\"corporate\">\n",
      "            <namePart><!-- TODO: Insert name authority here (can be same as name authority above, under title). --></namePart>\n",
      "        </name>\n",
      "    </subject>\n",
      "    <subject authority=\"lcsh\">\n",
      "        <topic>Animals</topic>\n",
      "        <genre>Pictorial works</genre>\n",
      "    </subject>\n",
      "    <!-- TODO: Insert LCSH subject heading combinations as appropriate, delete unused tags. Each tag can be repeated within subject block. View https://cdn.loc.gov/service/webcapture/project_1/mods/lcwa00093007.xml for example. See Rick for any specific questions. -->\n",
      "    <!-- Note: repeat entire subject block for each set of LCSH, can repeat as many times as necessary. -->\n",
      "    <subject authority=\"lcwabt\">\n",
      "        <topic>Folklore and Mythology</topic>\n",
      "    </subject>\n",
      "    <!-- Note: lcwabt subject topics autopopulated from digiboard subjects. -->\n",
      "    <relatedItem type=\"host\">\n",
      "        <titleInfo>\n",
      "            <title>Web Cultures Web Archive</title>\n",
      "        </titleInfo>\n",
      "    </relatedItem>\n",
      "    <relatedItem type=\"host\">\n",
      "        <titleInfo>\n",
      "            <title>American Folklife Center</title>\n",
      "        </titleInfo>\n",
      "    </relatedItem>\n",
      "    <relatedItem displayLabel=\"URL\" type=\"constituent\">\n",
      "        <identifier displayLabel=\"Access URL\" type=\"uri\">http://cuteoverload.com/</identifier>\n",
      "        <identifier type=\"database id\">15912</identifier>\n",
      "        <location>\n",
      "            <url displayLabel=\"thumbnail image\"\n",
      "                >http://cdn.loc.gov/service/webcapture/project_1/thumbnails/lcwaS0015912.jpg</url>\n",
      "        </location>\n",
      "        <part type=\"scope\">\n",
      "            <text displayLabel=\"domain\">http://cuteoverload.com</text>\n",
      "            <text displayLabel=\"domain\">http://www.facebook.com/pages/Cute-Overload/106666030072</text>\n",
      "            <text displayLabel=\"domain\">http://pinterest.com/source/cuteoverload.com/</text>\n",
      "            <text displayLabel=\"domain\">http://www.twitter.com/cuteoverload</text>\n",
      "        </part>\n",
      "    </relatedItem>\n",
      "    <location>\n",
      "        <url displayLabel=\"Archived site\">http://www.loc.gov/item/lcwaN0010888</url>\n",
      "    </location>\n",
      "    <location>\n",
      "        <physicalLocation>Library of Congress, Washington, D.C., 20540 USA</physicalLocation>\n",
      "        <physicalLocation authority=\"marcorg\">dlc</physicalLocation>\n",
      "    </location>\n",
      "    <accessCondition type=\"restrictionOnAccess\">None</accessCondition>\n",
      "    <recordInfo>\n",
      "        <recordContentSource authority=\"marcorg\">dlc</recordContentSource>\n",
      "        <recordCreationDate encoding=\"iso8601\">20170418</recordCreationDate>\n",
      "        <recordIdentifier source=\"dlc\">lcwaN0010888</recordIdentifier>\n",
      "        <languageOfCataloging>\n",
      "            <languageTerm authority=\"iso639-2b\" type=\"code\">eng</languageTerm>\n",
      "        </languageOfCataloging>\n",
      "    </recordInfo>\n",
      "</mods>\n",
      "\n"
     ]
    }
   ],
   "source": [
    "mods = request_single_lcwa_MODS('lcwaN0010888','xml')\n",
    "\n",
    "print(mods.content.decode('UTF-8'))"
   ]
  },
  {
   "cell_type": "code",
   "execution_count": 4,
   "metadata": {},
   "outputs": [
    {
     "name": "stdout",
     "output_type": "stream",
     "text": [
      "Pulling record for lcwaN0010234\n",
      "writing lcwaN0010234 to file\n",
      "Pulling record for lcwaN0001999\n",
      "writing lcwaN0001999 to file\n",
      "wrote 2 MODS to 2018_lcwa_MODS_single.xml\n"
     ]
    }
   ],
   "source": [
    "fname = '2018_lcwa_MODS_single.xml'\n",
    "count2 = 0\n",
    "with open(fname,'w') as f:\n",
    "    f.write('<?xml version=\"1.0\" encoding=\"UTF-8\"?>\\n<modsCollection>\\n')\n",
    "    for x in siteIDs:\n",
    "        #use this count to limit the number of mods records that are written to the output file\n",
    "        if count2 > 1:\n",
    "            break\n",
    "        count2 = count2 + 1\n",
    "        print('Pulling record for',x)\n",
    "        mods_response = request_single_lcwa_MODS(x,'xml')\n",
    "        f.write(mods_response.content.decode('UTF-8'))\n",
    "        f.write('\\n')\n",
    "        print('writing',x,'to file')\n",
    "    f.write('</modsCollection>')\n",
    "    print('wrote',count2,'MODS to',fname)\n"
   ]
  }
 ],
 "metadata": {
  "kernelspec": {
   "display_name": "Python 3",
   "language": "python",
   "name": "python3"
  },
  "language_info": {
   "codemirror_mode": {
    "name": "ipython",
    "version": 3
   },
   "file_extension": ".py",
   "mimetype": "text/x-python",
   "name": "python",
   "nbconvert_exporter": "python",
   "pygments_lexer": "ipython3",
   "version": "3.6.4"
  }
 },
 "nbformat": 4,
 "nbformat_minor": 2
}
