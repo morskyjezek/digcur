{
 "cells": [
  {
   "cell_type": "markdown",
   "id": "329e0e5e-2f83-45a0-b7ae-6eff78a4e1e2",
   "metadata": {},
   "source": [
    "## Smithsonian OpenAccess Collection Data API\n",
    "\n",
    "Let's use requests to scrape some data from an API endpoint. In this case, we can use the Smithsonian's [Open Access API](https://edan.si.edu/openaccess/apidocs/#api-_), which is a REST API that responds to HTTP requests. See the documentation at [https://edan.si.edu/openaccess/apidocs/#api-_footer](https://edan.si.edu/openaccess/apidocs/#api-_footer)\n",
    "\n",
    "The documentation for requests can be found here: http://docs.python-requests.org/en/master/ \n",
    "\n",
    "The endpoint for the search query of the \"content\" API, which \n",
    "provides information for individual items is `https://api.si.edu/openaccess/api/v1.0/content/:id`.\n",
    "\n",
    "To use the Smithsonian APIs, you will need an API key from the data.gov\n",
    "API key generator. Register with [https://api.data.gov/signup/](https://api.data.gov/signup/) to get a key."
   ]
  },
  {
   "cell_type": "code",
   "execution_count": 1,
   "id": "95e66b10-0eb2-44c1-ab14-ae5ee8d2f018",
   "metadata": {},
   "outputs": [],
   "source": [
    "import requests"
   ]
  },
  {
   "cell_type": "code",
   "execution_count": 2,
   "id": "1b2915cc-c49d-4abb-88fb-e4d420da4b3d",
   "metadata": {},
   "outputs": [],
   "source": [
    "statsEndpoint = 'https://api.si.edu/openaccess/api/v1.0/stats'"
   ]
  },
  {
   "cell_type": "code",
   "execution_count": 3,
   "id": "43f281c3-0879-4668-911c-d1d2805ddb51",
   "metadata": {},
   "outputs": [],
   "source": [
    "API_Key = 'S26CqhCprwb819ULBJQG62Le5ySrxuCV5L3Ktiov'"
   ]
  },
  {
   "cell_type": "markdown",
   "id": "48499bf4-4143-43a9-a709-01acc5410376",
   "metadata": {},
   "source": [
    "The content API fetches metadata about objects in the Smithsonian's\n",
    "collections using the ID or URL of the object.\n",
    "\n",
    "For example, in this case to get information about an album in\n",
    "the Folkways Records Collection, we will use the id `edanmdm:siris_arc_231998`.\n",
    "\n",
    "To pass in the parameters, we can use a dictionary! Let's try using `params`"
   ]
  },
  {
   "cell_type": "code",
   "execution_count": 4,
   "id": "cafa6694-8396-4bd4-8878-be17610107c8",
   "metadata": {},
   "outputs": [],
   "source": [
    "key = {\n",
    "    'api_key': API_Key\n",
    "}"
   ]
  },
  {
   "cell_type": "markdown",
   "id": "47ba3a88-7bca-4179-823b-2d82db4f021e",
   "metadata": {},
   "source": [
    "First, let's try a basic call to the stats API, to see if things are working:"
   ]
  },
  {
   "cell_type": "code",
   "execution_count": 5,
   "id": "496af6ee-3e74-47be-a187-fca703b7eb9c",
   "metadata": {},
   "outputs": [
    {
     "name": "stdout",
     "output_type": "stream",
     "text": [
      "You requested: https://api.si.edu/openaccess/api/v1.0/stats?api_key=S26CqhCprwb819ULBJQG62Le5ySrxuCV5L3Ktiov\n",
      "HTTP server response code: 200\n",
      "HTTP response headers {'Date': 'Sun, 16 Jan 2022 23:58:18 GMT', 'Content-Type': 'application/json;charset=utf-8', 'Transfer-Encoding': 'chunked', 'Connection': 'keep-alive', 'Vary': 'Accept-Encoding', 'X-RateLimit-Limit': '1000', 'X-RateLimit-Remaining': '996', 'Access-Control-Allow-Origin': 'https://edan.si.edu', 'Age': '0', 'Via': 'https/1.1 api-umbrella (ApacheTrafficServer [cMsSf ])', 'X-Cache': 'MISS', 'Strict-Transport-Security': 'max-age=31536000; preload', 'Content-Encoding': 'gzip'}\n",
      "\n",
      "Your request has this content type:\n",
      " application/json;charset=utf-8\n"
     ]
    }
   ],
   "source": [
    "r = requests.get(statsEndpoint, params = key)\n",
    "\n",
    "print('You requested:',r.url)\n",
    "print('HTTP server response code:',r.status_code)\n",
    "print('HTTP response headers',r.headers)\n",
    "\n",
    "# notice that the headers method returns a dictionary, too? \n",
    "# We could ask what sort of content it's returning:\n",
    "\n",
    "print('\\nYour request has this content type:\\n',r.headers['content-type'])"
   ]
  },
  {
   "cell_type": "markdown",
   "id": "c63d0d8b-9be7-42ea-b575-3fae4f6fa9f8",
   "metadata": {},
   "source": [
    "So the request has returned a json object! Access the response using the `.text` method. "
   ]
  },
  {
   "cell_type": "code",
   "execution_count": 6,
   "id": "3e30e013-d7d5-43f9-99a6-8b9651442b1a",
   "metadata": {},
   "outputs": [
    {
     "data": {
      "text/plain": [
       "'{\\n  \"status\": 200,\\n  \"responseCode\": 1,\\n  \"response\": {\\n    \"time\": \"2022-01\",\\n    \"units\": [\\n      {\\n        \"total_objects\": 4230673,\\n        \"metrics\": {\\n          \"CC0_records\": 4230673,\\n          \"CC0_records_with_CC0_media\": 3065372\\n        },\\n        \"unit\": \"NMNHBOTANY\"\\n      },\\n      {\\n        \"total_objects\": 1960541,\\n        \"metrics\": {\\n          \"CC0_records\": 1960541,\\n          \"CC0_records_with_CC0_media\": 39645\\n        },\\n        \"unit\": \"NMNHINV\"\\n      },\\n      {\\n        \"total_'"
      ]
     },
     "execution_count": 6,
     "metadata": {},
     "output_type": "execute_result"
    }
   ],
   "source": [
    "r.text[:500]"
   ]
  },
  {
   "cell_type": "code",
   "execution_count": 7,
   "id": "73316652-7767-43fe-9c3e-78122fac2386",
   "metadata": {},
   "outputs": [
    {
     "data": {
      "text/plain": [
       "str"
      ]
     },
     "execution_count": 7,
     "metadata": {},
     "output_type": "execute_result"
    }
   ],
   "source": [
    "type(r.text)"
   ]
  },
  {
   "cell_type": "markdown",
   "id": "dd982c2c-fa38-4188-a38a-a550a2130bdc",
   "metadata": {},
   "source": [
    "#### API Call question\n",
    "\n",
    "We want to make a request to the Smithsonian API. Can you fill in the following & explain the missing elements? \n",
    "\n",
    "```\n",
    "https://api.si.edu/openaccess/api/v1.0/content/:_____\n",
    "```\n",
    "\n",
    "What other items might you use after the `?`..."
   ]
  },
  {
   "cell_type": "markdown",
   "id": "10a3f69a-27a8-45ca-a673-42755764a65a",
   "metadata": {},
   "source": [
    "## Object information\n",
    "\n",
    "Now, let's try using the \"content\" API to get information about individual objects:"
   ]
  },
  {
   "cell_type": "code",
   "execution_count": 8,
   "id": "b77342bb-2d05-4043-8880-970bed594a93",
   "metadata": {},
   "outputs": [],
   "source": [
    "contentEndpoint = 'https://api.si.edu/openaccess/api/v1.0/content/'\n",
    "\n",
    "object_id = 'edanmdm:siris_arc_231998' # Smithsonian Folkways Music of Hungary\n",
    "\n",
    "parameters = {\n",
    "    'api_key' : API_Key\n",
    "}"
   ]
  },
  {
   "cell_type": "code",
   "execution_count": 9,
   "id": "d28abafa-7cf2-4189-a15e-6362a2c1239d",
   "metadata": {},
   "outputs": [
    {
     "name": "stdout",
     "output_type": "stream",
     "text": [
      "You requested: https://api.si.edu/openaccess/api/v1.0/content/edanmdm:siris_arc_231998?api_key=S26CqhCprwb819ULBJQG62Le5ySrxuCV5L3Ktiov\n",
      "HTTP server response code: 200\n",
      "HTTP response headers {'Date': 'Sun, 16 Jan 2022 23:58:18 GMT', 'Content-Type': 'application/json;charset=utf-8', 'Transfer-Encoding': 'chunked', 'Connection': 'keep-alive', 'Vary': 'Accept-Encoding', 'X-RateLimit-Limit': '1000', 'X-RateLimit-Remaining': '995', 'Access-Control-Allow-Origin': 'https://edan.si.edu', 'Age': '0', 'Via': 'https/1.1 api-umbrella (ApacheTrafficServer [cMsSf ])', 'X-Cache': 'MISS', 'Strict-Transport-Security': 'max-age=31536000; preload', 'Content-Encoding': 'gzip'}\n",
      "\n",
      "Your request has this content type:\n",
      " application/json;charset=utf-8\n"
     ]
    }
   ],
   "source": [
    "requestURL = contentEndpoint + object_id\n",
    "\n",
    "r = requests.get(requestURL, params = parameters)\n",
    "\n",
    "print('You requested:',r.url)\n",
    "print('HTTP server response code:',r.status_code)\n",
    "print('HTTP response headers',r.headers)\n",
    "\n",
    "# notice that the headers method returns a dictionary, too? \n",
    "# We could ask what sort of content it's returning:\n",
    "\n",
    "print('\\nYour request has this content type:\\n',r.headers['content-type'])"
   ]
  },
  {
   "cell_type": "markdown",
   "id": "5d16dc58-5340-4231-ac05-3d5567a2d314",
   "metadata": {},
   "source": [
    "Take a look at the response information:"
   ]
  },
  {
   "cell_type": "code",
   "execution_count": 10,
   "id": "9316d739-96e7-466e-813e-a6ce5e3c2846",
   "metadata": {},
   "outputs": [
    {
     "data": {
      "text/plain": [
       "'{\\n  \"status\": 200,\\n  \"responseCode\": 1,\\n  \"response\": {\\n    \"id\": \"edanmdm-siris_arc_231998\",\\n    \"title\": \"Folk music of Hungary [sound recording] / recorded in Hungary under the supervision of Bela Bartok\",\\n    \"unitCode\": \"CFCHFOLKLIFE\",\\n    \"type\": \"edanmdm\",\\n    \"url\": \"edanmdm:siris_arc_231998\",\\n    \"content\": {\\n      \"descriptiveNonRepeating\": {\\n        \"record_ID\": \"siris_arc_231998\",\\n        \"unit_code\": \"CFCHFOLKLIFE\",\\n        \"title_sort\": \"FOLK MUSIC OF HUNGARY SOUND RECORDING RECORD'"
      ]
     },
     "execution_count": 10,
     "metadata": {},
     "output_type": "execute_result"
    }
   ],
   "source": [
    "r.text[:500]"
   ]
  },
  {
   "cell_type": "markdown",
   "id": "37123701-a331-44ae-b40d-f0b6a926468a",
   "metadata": {},
   "source": [
    "Use the built-in `.json()` decoder in requests"
   ]
  },
  {
   "cell_type": "code",
   "execution_count": 11,
   "id": "95d83a5a-88e5-40b9-ba24-dbfb554acb7f",
   "metadata": {},
   "outputs": [
    {
     "name": "stdout",
     "output_type": "stream",
     "text": [
      "id\n",
      "title\n",
      "unitCode\n",
      "type\n",
      "url\n",
      "content\n",
      "hash\n",
      "docSignature\n",
      "timestamp\n",
      "lastTimeUpdated\n",
      "version\n"
     ]
    }
   ],
   "source": [
    "object_json = r.json()\n",
    "\n",
    "for element in object_json['response']:\n",
    "    print(element)"
   ]
  },
  {
   "cell_type": "code",
   "execution_count": 12,
   "id": "cd00c52a-f9dc-40e6-a3e2-d331788da4e2",
   "metadata": {},
   "outputs": [
    {
     "name": "stdout",
     "output_type": "stream",
     "text": [
      "id : edanmdm-siris_arc_231998\n",
      "title : Folk music of Hungary [sound recording] / recorded in Hungary under the supervision of Bela Bartok\n",
      "unitCode : CFCHFOLKLIFE\n",
      "type : edanmdm\n",
      "url : edanmdm:siris_arc_231998\n",
      "content : {'descriptiveNonRepeating': {'record_ID': 'siris_arc_231998', 'unit_code': 'CFCHFOLKLIFE', 'title_sort': 'FOLK MUSIC OF HUNGARY SOUND RECORDING RECORDED IN HUNGARY UNDER THE SUPERVISION OF BELA BARTOK', 'title': {'label': 'Title', 'content': 'Folk music of Hungary [sound recording] / recorded in Hungary under the supervision of Bela Bartok'}, 'metadata_usage': {'access': 'CC0'}, 'data_source': 'Ralph Rinzler Folklife Archives and Collections'}, 'indexedStructured': {'date': ['1950s'], 'object_type': ['Archival materials', 'Phonograph records'], 'culture': ['Hungarians'], 'name': [{'type': 'personal_main', 'content': 'Bartók, Béla'}, {'type': 'personal_main', 'content': 'Cowell, Henry'}, {'type': 'personal_main', 'content': 'Bartok, Peter'}, {'type': 'personal_main', 'content': 'Clyne, Ronald'}], 'topic': ['Folk music', 'Music', 'Folk songs, Hungarian'], 'language': ['English language', 'Hungarian language'], 'place': ['Hungary'], 'online_media_type': ['Images']}, 'freetext': {'date': [{'label': 'Date', 'content': '1950'}], 'setName': [{'label': 'See more items in', 'content': 'Folkways Records Collection 1948-1986'}], 'identifier': [{'label': 'Local number', 'content': 'Folkways 4000 ; Folkways 1000'}, {'label': 'Local number', 'content': 'FW04000'}], 'notes': [{'label': 'Notes', 'content': \"Booklet of notes with commentary by Peter Bartók, notes by Henry Cowell, song lyrics in Hungarian and English, and facsimiles from Bela Bartók's publications (8 p. : ill.) inserted in container.\"}, {'label': 'Notes', 'content': 'Recorded in Hungary.'}, {'label': 'Notes', 'content': 'Related materials may be found in the Moses and Frances Asch Collection, also held by this repository. Related materials may include correspondence between the studio, producers, and/or performers; original cover art designs; original production materials; business records; and audiotapes from studio production.'}, {'label': 'Table of contents', 'content': 'Come on girls, to the spinning-house -- On the sandy bank of the creek -- Beautiful is the spring -- I live on the bank of Theiss River -- The cemetery\\'s gate -- Clouds are gathering -- Pray to God -- Everlasting love -- They are playing the bagpipe -- He who wants to become a piper -- Baranyim -- Sajaju -- Vasvari -- O live, O love -- I am a prisoner -- Where have you been, \"Siskin\"? -- My dog Rajna -- On the border of Baranva county -- On the hoof of the horse of Francis Joe'}, {'label': 'Track information', 'content': '102. On the Sandy Bank of the Creek'}, {'label': 'Track information', 'content': '101. Come on Girls, To the Spinning House'}, {'label': 'Track information', 'content': '103. Beautiful is the Spring'}, {'label': 'Track information', 'content': '104. I Live on the Brink of the Theiss River'}, {'label': 'Track information', 'content': \"105. The Cemetary's Gate\"}, {'label': 'Track information', 'content': '106. Clouds are Gathering'}, {'label': 'Track information', 'content': '107. I Pray to God'}, {'label': 'Track information', 'content': '108. Everlasting Love'}, {'label': 'Track information', 'content': '109. They are Playing the Bagpipe'}, {'label': 'Track information', 'content': '110. He Who Wants to Be a Piper'}, {'label': 'Track information', 'content': '111. O Love, O Love'}, {'label': 'Track information', 'content': '112. I Am a Prisoner'}, {'label': 'Track information', 'content': '113. Where Have You Been Siskin, This Night'}, {'label': 'Track information', 'content': '114. My Dog, Rajna'}, {'label': 'Track information', 'content': '115. On the Border in Baranya County'}, {'label': 'Publisher number', 'content': 'FM 4000 Folkways Records'}, {'label': 'Repository Loc.', 'content': 'Smithsonian Institution, Center for Folklife and Cultural Heritage, Ralph Rinzler Folklife Archives and Collections, 600 Maryland Ave., S.W., Suite 2001, Washington, D.C. 20024. Call 202-633-7322 for appointment. Fax: 202-633-7019. Email: rinzlerarchives@si.edu'}], 'culture': [{'label': 'Culture', 'content': 'Hungarians'}], 'name': [{'label': 'recordist', 'content': 'Bartók, Béla 1881-1945'}, {'label': 'commentator', 'content': 'Cowell, Henry 1897-1965'}, {'label': 'commentator', 'content': 'Bartok, Peter 1924-'}, {'label': 'cover designer', 'content': 'Clyne, Ronald 1925-2006'}], 'topic': [{'label': 'Topic', 'content': 'World music'}, {'label': 'Topic', 'content': 'Folk songs, Hungarian'}, {'label': 'Topic', 'content': 'Folk music'}], 'place': [{'label': 'Place', 'content': 'Hungary'}], 'physicalDescription': [{'label': 'Physical description', 'content': '1 phonograph record : analog, 33 1/3 rpm ; 12 in'}], 'dataSource': [{'label': 'Data Source', 'content': 'Ralph Rinzler Folklife Archives and Collections'}], 'objectRights': [{'label': 'Restrictions & Rights', 'content': 'Restrictions on access'}], 'objectType': [{'label': 'Type', 'content': 'Phonograph records'}]}}\n",
      "hash : 37f223cc01d392f9b3bffd834480ea81a9bf8903\n",
      "docSignature : e7d5b0dfc555761060988321a3bbe83a5c6e80be_76f46adf9ee59c333d3d21a747fbd370\n",
      "timestamp : 1636362611\n",
      "lastTimeUpdated : 1636362609\n",
      "version : \n"
     ]
    }
   ],
   "source": [
    "object = object_json['response']\n",
    "\n",
    "for k, v in object.items():\n",
    "    print(k,':',v)"
   ]
  },
  {
   "cell_type": "markdown",
   "id": "c66ebe1a-c747-4591-a924-c7ddea6712ea",
   "metadata": {},
   "source": [
    "#### Resources\n",
    "\n",
    "* [Real Python working with JSON data](https://realpython.com/python-json/)\n",
    "* [Python json module documentation](https://docs.python.org/3/library/json.html)"
   ]
  },
  {
   "cell_type": "markdown",
   "id": "c70adc2a-6e77-4c58-ae33-f8340d4177b4",
   "metadata": {},
   "source": [
    "### Parsing the Data from the API using json module\n",
    "\n",
    "Now, we can get the response, let's save to a file. To do this, use the `json` module. "
   ]
  },
  {
   "cell_type": "code",
   "execution_count": 13,
   "id": "2a815bcc-7433-4073-bffa-345eaf066bb8",
   "metadata": {},
   "outputs": [],
   "source": [
    "import json"
   ]
  },
  {
   "cell_type": "code",
   "execution_count": 14,
   "id": "d98f4034-b536-460c-b73c-05fae676d635",
   "metadata": {},
   "outputs": [
    {
     "name": "stdout",
     "output_type": "stream",
     "text": [
      "status\n",
      "responseCode\n",
      "response\n"
     ]
    }
   ],
   "source": [
    "data = json.loads(r.text)\n",
    "\n",
    "# what are the keys?\n",
    "for element in data:\n",
    "    print(element)"
   ]
  },
  {
   "cell_type": "code",
   "execution_count": 15,
   "id": "8688a793-45dc-4910-b991-78efda7fa0ed",
   "metadata": {
    "tags": []
   },
   "outputs": [
    {
     "name": "stdout",
     "output_type": "stream",
     "text": [
      "id : edanmdm-siris_arc_231998\n",
      "title : Folk music of Hungary [sound recording] / recorded in Hungary under the supervision of Bela Bartok\n",
      "unitCode : CFCHFOLKLIFE\n",
      "type : edanmdm\n",
      "url : edanmdm:siris_arc_231998\n",
      "content : {'descriptiveNonRepeating': {'record_ID': 'siris_arc_231998', 'unit_code': 'CFCHFOLKLIFE', 'title_sort': 'FOLK MUSIC OF HUNGARY SOUND RECORDING RECORDED IN HUNGARY UNDER THE SUPERVISION OF BELA BARTOK', 'title': {'label': 'Title', 'content': 'Folk music of Hungary [sound recording] / recorded in Hungary under the supervision of Bela Bartok'}, 'metadata_usage': {'access': 'CC0'}, 'data_source': 'Ralph Rinzler Folklife Archives and Collections'}, 'indexedStructured': {'date': ['1950s'], 'object_type': ['Archival materials', 'Phonograph records'], 'culture': ['Hungarians'], 'name': [{'type': 'personal_main', 'content': 'Bartók, Béla'}, {'type': 'personal_main', 'content': 'Cowell, Henry'}, {'type': 'personal_main', 'content': 'Bartok, Peter'}, {'type': 'personal_main', 'content': 'Clyne, Ronald'}], 'topic': ['Folk music', 'Music', 'Folk songs, Hungarian'], 'language': ['English language', 'Hungarian language'], 'place': ['Hungary'], 'online_media_type': ['Images']}, 'freetext': {'date': [{'label': 'Date', 'content': '1950'}], 'setName': [{'label': 'See more items in', 'content': 'Folkways Records Collection 1948-1986'}], 'identifier': [{'label': 'Local number', 'content': 'Folkways 4000 ; Folkways 1000'}, {'label': 'Local number', 'content': 'FW04000'}], 'notes': [{'label': 'Notes', 'content': \"Booklet of notes with commentary by Peter Bartók, notes by Henry Cowell, song lyrics in Hungarian and English, and facsimiles from Bela Bartók's publications (8 p. : ill.) inserted in container.\"}, {'label': 'Notes', 'content': 'Recorded in Hungary.'}, {'label': 'Notes', 'content': 'Related materials may be found in the Moses and Frances Asch Collection, also held by this repository. Related materials may include correspondence between the studio, producers, and/or performers; original cover art designs; original production materials; business records; and audiotapes from studio production.'}, {'label': 'Table of contents', 'content': 'Come on girls, to the spinning-house -- On the sandy bank of the creek -- Beautiful is the spring -- I live on the bank of Theiss River -- The cemetery\\'s gate -- Clouds are gathering -- Pray to God -- Everlasting love -- They are playing the bagpipe -- He who wants to become a piper -- Baranyim -- Sajaju -- Vasvari -- O live, O love -- I am a prisoner -- Where have you been, \"Siskin\"? -- My dog Rajna -- On the border of Baranva county -- On the hoof of the horse of Francis Joe'}, {'label': 'Track information', 'content': '102. On the Sandy Bank of the Creek'}, {'label': 'Track information', 'content': '101. Come on Girls, To the Spinning House'}, {'label': 'Track information', 'content': '103. Beautiful is the Spring'}, {'label': 'Track information', 'content': '104. I Live on the Brink of the Theiss River'}, {'label': 'Track information', 'content': \"105. The Cemetary's Gate\"}, {'label': 'Track information', 'content': '106. Clouds are Gathering'}, {'label': 'Track information', 'content': '107. I Pray to God'}, {'label': 'Track information', 'content': '108. Everlasting Love'}, {'label': 'Track information', 'content': '109. They are Playing the Bagpipe'}, {'label': 'Track information', 'content': '110. He Who Wants to Be a Piper'}, {'label': 'Track information', 'content': '111. O Love, O Love'}, {'label': 'Track information', 'content': '112. I Am a Prisoner'}, {'label': 'Track information', 'content': '113. Where Have You Been Siskin, This Night'}, {'label': 'Track information', 'content': '114. My Dog, Rajna'}, {'label': 'Track information', 'content': '115. On the Border in Baranya County'}, {'label': 'Publisher number', 'content': 'FM 4000 Folkways Records'}, {'label': 'Repository Loc.', 'content': 'Smithsonian Institution, Center for Folklife and Cultural Heritage, Ralph Rinzler Folklife Archives and Collections, 600 Maryland Ave., S.W., Suite 2001, Washington, D.C. 20024. Call 202-633-7322 for appointment. Fax: 202-633-7019. Email: rinzlerarchives@si.edu'}], 'culture': [{'label': 'Culture', 'content': 'Hungarians'}], 'name': [{'label': 'recordist', 'content': 'Bartók, Béla 1881-1945'}, {'label': 'commentator', 'content': 'Cowell, Henry 1897-1965'}, {'label': 'commentator', 'content': 'Bartok, Peter 1924-'}, {'label': 'cover designer', 'content': 'Clyne, Ronald 1925-2006'}], 'topic': [{'label': 'Topic', 'content': 'World music'}, {'label': 'Topic', 'content': 'Folk songs, Hungarian'}, {'label': 'Topic', 'content': 'Folk music'}], 'place': [{'label': 'Place', 'content': 'Hungary'}], 'physicalDescription': [{'label': 'Physical description', 'content': '1 phonograph record : analog, 33 1/3 rpm ; 12 in'}], 'dataSource': [{'label': 'Data Source', 'content': 'Ralph Rinzler Folklife Archives and Collections'}], 'objectRights': [{'label': 'Restrictions & Rights', 'content': 'Restrictions on access'}], 'objectType': [{'label': 'Type', 'content': 'Phonograph records'}]}}\n",
      "hash : 37f223cc01d392f9b3bffd834480ea81a9bf8903\n",
      "docSignature : e7d5b0dfc555761060988321a3bbe83a5c6e80be_76f46adf9ee59c333d3d21a747fbd370\n",
      "timestamp : 1636362611\n",
      "lastTimeUpdated : 1636362609\n",
      "version : \n"
     ]
    }
   ],
   "source": [
    "for key, val in data['response'].items():\n",
    "    print(key,':',val)"
   ]
  },
  {
   "cell_type": "code",
   "execution_count": 16,
   "id": "fe8a5f76-949a-46aa-862d-3d9d41c715fb",
   "metadata": {},
   "outputs": [
    {
     "name": "stdout",
     "output_type": "stream",
     "text": [
      "11\n"
     ]
    }
   ],
   "source": [
    "print(len(data['response']))"
   ]
  },
  {
   "cell_type": "code",
   "execution_count": 17,
   "id": "2647c57b-c159-4298-ba64-1aa2b2025fec",
   "metadata": {},
   "outputs": [
    {
     "name": "stdout",
     "output_type": "stream",
     "text": [
      "edanmdm-siris_arc_231998\n"
     ]
    }
   ],
   "source": [
    "object_id = data['response']['id']\n",
    "\n",
    "print(object_id)"
   ]
  },
  {
   "cell_type": "markdown",
   "id": "0d35e3bb-4061-433d-992a-3e886d6ef2c4",
   "metadata": {},
   "source": [
    "Compare to the online display.\n",
    "See https://collections.si.edu/search/detail/edanmdm:siris_arc_231998\n",
    "\n",
    "Is it possible to extract each result into its own file? "
   ]
  },
  {
   "cell_type": "code",
   "execution_count": 18,
   "id": "396df1b0-9a7b-47e9-bd73-d91f0b3679e4",
   "metadata": {},
   "outputs": [
    {
     "name": "stdout",
     "output_type": "stream",
     "text": [
      "11\n"
     ]
    }
   ],
   "source": [
    "# block testing an extaction of each result into a separate file\n",
    "\n",
    "data = json.loads(r.text)\n",
    "\n",
    "#grab the images into a list\n",
    "objectInfo = data['response']\n",
    "print(len(objectInfo))"
   ]
  },
  {
   "cell_type": "code",
   "execution_count": 19,
   "id": "b065c73f-5787-4d96-83de-f2e7e9a5cd14",
   "metadata": {},
   "outputs": [
    {
     "ename": "NameError",
     "evalue": "name 'kittensList' is not defined",
     "output_type": "error",
     "traceback": [
      "\u001b[0;31m---------------------------------------------------------------------------\u001b[0m",
      "\u001b[0;31mNameError\u001b[0m                                 Traceback (most recent call last)",
      "\u001b[0;32m<ipython-input-19-c7fcc3172a5a>\u001b[0m in \u001b[0;36m<module>\u001b[0;34m\u001b[0m\n\u001b[1;32m      4\u001b[0m \u001b[0mn\u001b[0m \u001b[0;34m=\u001b[0m \u001b[0;36m0\u001b[0m\u001b[0;34m\u001b[0m\u001b[0;34m\u001b[0m\u001b[0m\n\u001b[1;32m      5\u001b[0m \u001b[0;34m\u001b[0m\u001b[0m\n\u001b[0;32m----> 6\u001b[0;31m \u001b[0;32mfor\u001b[0m \u001b[0mitem\u001b[0m \u001b[0;32min\u001b[0m \u001b[0mkittensList\u001b[0m\u001b[0;34m:\u001b[0m\u001b[0;34m\u001b[0m\u001b[0;34m\u001b[0m\u001b[0m\n\u001b[0m\u001b[1;32m      7\u001b[0m     \u001b[0mn\u001b[0m \u001b[0;34m=\u001b[0m \u001b[0mn\u001b[0m \u001b[0;34m+\u001b[0m \u001b[0;36m1\u001b[0m\u001b[0;34m\u001b[0m\u001b[0;34m\u001b[0m\u001b[0m\n\u001b[1;32m      8\u001b[0m     \u001b[0mfile\u001b[0m \u001b[0;34m=\u001b[0m \u001b[0mfname\u001b[0m \u001b[0;34m+\u001b[0m \u001b[0mstr\u001b[0m\u001b[0;34m(\u001b[0m\u001b[0mn\u001b[0m\u001b[0;34m)\u001b[0m \u001b[0;34m+\u001b[0m \u001b[0mformat\u001b[0m\u001b[0;34m\u001b[0m\u001b[0;34m\u001b[0m\u001b[0m\n",
      "\u001b[0;31mNameError\u001b[0m: name 'kittensList' is not defined"
     ]
    }
   ],
   "source": [
    "## this is from Python 105a, TODO update\n",
    "fname = 'kitten-result-'\n",
    "format = '.json'\n",
    "n = 0 \n",
    "\n",
    "for item in kittensList:\n",
    "    n = n + 1\n",
    "    file = fname + str(n) + format\n",
    "#    print(item)\n",
    "    with open(file, 'w') as f:\n",
    "        f.write(json.dumps(item))#, f, encoding='utf-8', sort_keys=True)\n",
    "        print('wrote',file)\n",
    "print('wrote',n,'files!')"
   ]
  },
  {
   "cell_type": "markdown",
   "id": "cdf59e71-5f9b-4ed6-9631-d0f31ca91314",
   "metadata": {},
   "source": [
    "How could we extract the image URLs?                       "
   ]
  },
  {
   "cell_type": "code",
   "execution_count": 20,
   "id": "298c5732-509a-4bea-9cbc-b485a0373e0b",
   "metadata": {},
   "outputs": [
    {
     "name": "stdout",
     "output_type": "stream",
     "text": [
      "descriptiveNonRepeating\n",
      "indexedStructured\n",
      "freetext\n"
     ]
    }
   ],
   "source": [
    "for key in objectInfo['content']:\n",
    "    print(key)"
   ]
  },
  {
   "cell_type": "code",
   "execution_count": 21,
   "id": "fe37f149-057c-43e3-b12d-5f78cdd04f73",
   "metadata": {},
   "outputs": [
    {
     "name": "stdout",
     "output_type": "stream",
     "text": [
      "date\n",
      "object_type\n",
      "culture\n",
      "name\n",
      "topic\n",
      "language\n",
      "place\n",
      "online_media_type\n"
     ]
    }
   ],
   "source": [
    "for info in objectInfo['content']['indexedStructured']:\n",
    "    print(info)"
   ]
  },
  {
   "cell_type": "code",
   "execution_count": 22,
   "id": "b8d4f37b-95b6-4afd-8e16-96d26c0d5490",
   "metadata": {},
   "outputs": [],
   "source": [
    "# doesn't seem to be a image url list ... \n"
   ]
  },
  {
   "cell_type": "markdown",
   "id": "f51ccdf6-c0ff-49bf-b4f9-a545159cf23c",
   "metadata": {},
   "source": [
    "---\n",
    "\n",
    "This section explores using a different object to uncover other properties. Namely, Alexander Graham Bell's 1885 Mary Had a Little Lamb recording done at Volta Labs (`edanmdm:nmah_852778`)."
   ]
  },
  {
   "cell_type": "code",
   "execution_count": 23,
   "id": "d90d5188-0a1c-490b-b5de-b00b104909ea",
   "metadata": {},
   "outputs": [],
   "source": [
    "object_id = 'edanmdm:nmah_852778' # Alexander Graham Bell's 1885 Mary Had a Little Lamb from Volta Labs"
   ]
  },
  {
   "cell_type": "code",
   "execution_count": 24,
   "id": "d45f083d-5b6d-4fd0-82f4-f2606b39184e",
   "metadata": {},
   "outputs": [
    {
     "data": {
      "text/plain": [
       "{'api_key': 'S26CqhCprwb819ULBJQG62Le5ySrxuCV5L3Ktiov'}"
      ]
     },
     "execution_count": 24,
     "metadata": {},
     "output_type": "execute_result"
    }
   ],
   "source": [
    "parameters"
   ]
  },
  {
   "cell_type": "code",
   "execution_count": 25,
   "id": "91c5844d-6120-4302-8801-60e7c95b308c",
   "metadata": {},
   "outputs": [
    {
     "name": "stdout",
     "output_type": "stream",
     "text": [
      "https://api.si.edu/openaccess/api/v1.0/content/edanmdm:nmah_852778?api_key=S26CqhCprwb819ULBJQG62Le5ySrxuCV5L3Ktiov \n",
      " 200 \n",
      " {'Date': 'Sun, 16 Jan 2022 23:59:00 GMT', 'Content-Type': 'application/json;charset=utf-8', 'Transfer-Encoding': 'chunked', 'Connection': 'keep-alive', 'Vary': 'Accept-Encoding', 'X-RateLimit-Limit': '1000', 'X-RateLimit-Remaining': '994', 'Access-Control-Allow-Origin': 'https://edan.si.edu', 'Age': '0', 'Via': 'https/1.1 api-umbrella (ApacheTrafficServer [cMsSf ])', 'X-Cache': 'MISS', 'Strict-Transport-Security': 'max-age=31536000; preload', 'Content-Encoding': 'gzip'}\n"
     ]
    }
   ],
   "source": [
    "request_URL = contentEndpoint + object_id\n",
    "\n",
    "r = requests.get(request_URL, params=parameters)\n",
    "\n",
    "print(r.url,\n",
    "      '\\n',\n",
    "      r.status_code,\n",
    "      '\\n',\n",
    "     r.headers)"
   ]
  },
  {
   "cell_type": "code",
   "execution_count": 26,
   "id": "9936a065-2284-441a-93d8-f41799ece8db",
   "metadata": {},
   "outputs": [
    {
     "name": "stdout",
     "output_type": "stream",
     "text": [
      "status\n",
      "responseCode\n",
      "response\n"
     ]
    }
   ],
   "source": [
    "for element in r.json():\n",
    "    print(element)"
   ]
  },
  {
   "cell_type": "code",
   "execution_count": 27,
   "id": "5d8447aa-1905-4e90-b2df-45e845c4c5e4",
   "metadata": {},
   "outputs": [
    {
     "name": "stdout",
     "output_type": "stream",
     "text": [
      "id\n",
      "title\n",
      "unitCode\n",
      "type\n",
      "url\n",
      "content\n",
      "hash\n",
      "docSignature\n",
      "timestamp\n",
      "lastTimeUpdated\n",
      "version\n"
     ]
    }
   ],
   "source": [
    "for element in r.json()['response']:\n",
    "    print(element)"
   ]
  },
  {
   "cell_type": "code",
   "execution_count": 28,
   "id": "91a9ebf8-1d04-4a2c-88c1-773b406b47e8",
   "metadata": {},
   "outputs": [
    {
     "name": "stdout",
     "output_type": "stream",
     "text": [
      "{\n",
      "  \"status\": 200,\n",
      "  \"responseCode\": 1,\n",
      "  \"response\": {\n",
      "    \"id\": \"edanmdm-nmah_852778\",\n",
      "    \"title\": \"Volta Laboratory Experimental Recording\",\n",
      "    \"unitCode\": \"NMAH\",\n",
      "    \"type\": \"edanmdm\",\n",
      "    \"url\": \"edanmdm:nmah_852778\",\n",
      "    \"content\": {\n",
      "      \"descriptiveNonRepeating\": {\n",
      "        \"record_ID\": \"nmah_852778\",\n",
      "        \"unit_code\": \"NMAH\",\n",
      "        \"title_sort\": \"VOLTA LABORATORY EXPERIMENTAL RECORDING\",\n",
      "        \"guid\": \"http://n2t.net/ark:/65665/ng49ca746a6-ad40-704b-e053-15f76fa0b4fa\",\n",
      "        \"title\": {\n",
      "          \"label\": \"Title\",\n",
      "          \"content\": \"Volta Laboratory Experimental Recording\"\n",
      "        },\n",
      "        \"metadata_usage\": {\n",
      "          \"access\": \"CC0\"\n",
      "        },\n",
      "        \"data_source\": \"National Museum of American History\"\n",
      "      },\n",
      "      \"indexedStructured\": {\n",
      "        \"date\": [\n",
      "          \"1880s\"\n",
      "        ],\n",
      "        \"geoLocation\": [\n",
      "          {\n",
      "            \"Other\": {\n",
      "              \"type\": \"Place\",\n",
      "              \"content\": \"United States\"\n",
      "            }\n",
      "          },\n",
      "          {\n",
      "            \"Other\": {\n",
      "              \"type\": \"Place\",\n",
      "              \"content\": \"District of Columbia\"\n",
      "            }\n",
      "          },\n",
      "          {\n",
      "            \"Other\": {\n",
      "              \"type\": \"Place\",\n",
      "              \"content\": \"Washington\"\n",
      "            }\n",
      "          },\n",
      "          {\n",
      "            \"points\": {\n",
      "              \"point\": {\n",
      "                \"latitude\": {\n",
      "                  \"type\": \"decimal\",\n",
      "                  \"content\": \"38.8833\"\n",
      "                },\n",
      "                \"longitude\": {\n",
      "                  \"type\": \"decimal\",\n",
      "                  \"content\": \"-77.0333\"\n",
      "                }\n",
      "              }\n",
      "            }\n",
      "          }\n",
      "        ],\n",
      "        \"object_type\": [\n",
      "          \"experimental sound recording\"\n",
      "        ],\n",
      "        \"topic\": [\n",
      "          \"Musical instruments\",\n",
      "          \"Hear My Voice\",\n",
      "          \"Technology\",\n",
      "          \"Music\",\n",
      "          \"Communications\"\n",
      "        ],\n",
      "        \"place\": [\n",
      "          \"District of Columbia\",\n",
      "          \"United States\",\n",
      "          \"Washington\"\n",
      "        ],\n",
      "        \"online_media_type\": [\n",
      "          \"Images\",\n",
      "          \"Sound recordings\"\n",
      "        ]\n",
      "      },\n",
      "      \"freetext\": {\n",
      "        \"setName\": [\n",
      "          {\n",
      "            \"label\": \"See more items in\",\n",
      "            \"content\": \"Work and Industry: Mechanisms\"\n",
      "          },\n",
      "          {\n",
      "            \"label\": \"See more items in\",\n",
      "            \"content\": \"Communications\"\n",
      "          },\n",
      "          {\n",
      "            \"label\": \"See more items in\",\n",
      "            \"content\": \"Music & Musical Instruments\"\n",
      "          },\n",
      "          {\n",
      "            \"label\": \"See more items in\",\n",
      "            \"content\": \"Hear My Voice\"\n",
      "          }\n",
      "        ],\n",
      "        \"date\": [\n",
      "          {\n",
      "            \"label\": \"date made\",\n",
      "            \"content\": \"ca 1885\"\n",
      "          },\n",
      "          {\n",
      "            \"label\": \"date recorded\",\n",
      "            \"content\": \"1885-11-03\"\n",
      "          }\n",
      "        ],\n",
      "        \"identifier\": [\n",
      "          {\n",
      "            \"label\": \"ID Number\",\n",
      "            \"content\": \"ME.287654.11\"\n",
      "          },\n",
      "          {\n",
      "            \"label\": \"catalog number\",\n",
      "            \"content\": \"287654.11\"\n",
      "          },\n",
      "          {\n",
      "            \"label\": \"accession number\",\n",
      "            \"content\": \"57694\"\n",
      "          }\n",
      "        ],\n",
      "        \"notes\": [\n",
      "          {\n",
      "            \"label\": \"Description\",\n",
      "            \"content\": \"This is an experimental sound recording made in the Volta Laboratory, Washington, D.C., on 11 March 1885. The recording process involved focusing a beam of light, projecting it through a liquid, and causing sound waves to interrupt both the light and the liquid to expose a prepared photographic plate. The recording, which starts at the center and spirals outward, is of variable density, that is the areas of exposure vary in density according to volume and pitch of the sound recorded. Process is described in U.S. Patent 341,213 awarded Alexander Graham Bell, Chichester A. Bell, and Charles Sumner Tainter on 4 May 1886.\"\n",
      "          },\n",
      "          {\n",
      "            \"label\": \"Description\",\n",
      "            \"content\": \"Sound was recovered from this recording in 2011.\"\n",
      "          },\n",
      "          {\n",
      "            \"label\": \"Description\",\n",
      "            \"content\": \"Content summary: \\u201cMary had a little lamb\\u201d\"\n",
      "          },\n",
      "          {\n",
      "            \"label\": \"Description\",\n",
      "            \"content\": \"Content transcript (37 seconds):\"\n",
      "          },\n",
      "          {\n",
      "            \"label\": \"Description\",\n",
      "            \"content\": \"\\u201c [?]\\u2026Sumner Tainter and H. G. Rogers. This eleventh day of March, eighteen hundred and eighty-five. [trilled r sound] [indistinct phrase] Mary had a little lamb, and its fleece was white as snow [alternatively, black as soot?] . And wherever Mary went\\u2026Oh [indistinct word].\"\n",
      "          },\n",
      "          {\n",
      "            \"label\": \"Description\",\n",
      "            \"content\": \"Mary had a little lamb, and its fleece was white as snow [alternatively, black as soot?].\"\n",
      "          },\n",
      "          {\n",
      "            \"label\": \"Description\",\n",
      "            \"content\": \"And wherever Mary went, the little lamb was sure to go. How is this for high? [trill]\\u201d\"\n",
      "          },\n",
      "          {\n",
      "            \"label\": \"Description\",\n",
      "            \"content\": \"References:\"\n",
      "          },\n",
      "          {\n",
      "            \"label\": \"Description\",\n",
      "            \"content\": \"<a href=\\\"http://www.phonozoic.net/griffonage/pdfs/volta-discography.pdf\\\">Patrick Feaster, \\u201cA Discography of Volta Laboratory Recordings at the National Museum of American History\\u201d </a>\"\n",
      "          },\n",
      "          {\n",
      "            \"label\": \"Description\",\n",
      "            \"content\": \"Leslie J. Newville, \\u201cDevelopment of the Phonograph at Alexander Graham Bell's Volta Laboratory,\\u201d in Contributions from the Museum of History and Technology, United States National Museum Bulletin 218, Paper 5 (1959): 69-79.\"\n",
      "          },\n",
      "          {\n",
      "            \"label\": \"Description\",\n",
      "            \"content\": \"<a href=\\\"http://www.aes.org/aeshc/docs/recording.technology.history/graphophone.html\\\">Steven E. Schoenherr, \\u201cCharles Sumner Tainter and the Graphophone,\\u201d</a>\"\n",
      "          },\n",
      "          {\n",
      "            \"label\": \"Description\",\n",
      "            \"content\": \"Wile, Raymond R. \\\"The Development of Sound Recording at the Volta Laboratory,\\\" Association for Recorded Sound Collections Journal 21, No. 2, 1990, pp. 208-225.\"\n",
      "          },\n",
      "          {\n",
      "            \"label\": \"Location\",\n",
      "            \"content\": \"Currently not on view\"\n",
      "          }\n",
      "        ],\n",
      "        \"creditLine\": [\n",
      "          {\n",
      "            \"label\": \"Credit Line\",\n",
      "            \"content\": \"Gift of Alexander Graham Bell\"\n",
      "          }\n",
      "        ],\n",
      "        \"topic\": [\n",
      "          {\n",
      "            \"label\": \"subject\",\n",
      "            \"content\": \"Technology\"\n",
      "          }\n",
      "        ],\n",
      "        \"place\": [\n",
      "          {\n",
      "            \"label\": \"place made\",\n",
      "            \"content\": \"United States: District of Columbia, Washington\"\n",
      "          }\n",
      "        ],\n",
      "        \"physicalDescription\": [\n",
      "          {\n",
      "            \"label\": \"Physical Description\",\n",
      "            \"content\": \"glass, coated with photographic emulsion (overall material)\"\n",
      "          },\n",
      "          {\n",
      "            \"label\": \"Measurements\",\n",
      "            \"content\": \"overall: 1/8 in x 13 5/8 in; .3175 cm x 34.6075 cm\"\n",
      "          },\n",
      "          {\n",
      "            \"label\": \"Measurements\",\n",
      "            \"content\": \"center hole: 1/8 in x 1/4 in; .3175 cm x .635 cm\"\n",
      "          }\n",
      "        ],\n",
      "        \"dataSource\": [\n",
      "          {\n",
      "            \"label\": \"Data Source\",\n",
      "            \"content\": \"National Museum of American History\"\n",
      "          }\n",
      "        ],\n",
      "        \"objectType\": [\n",
      "          {\n",
      "            \"label\": \"Object Name\",\n",
      "            \"content\": \"experimental sound recording\"\n",
      "          }\n",
      "        ]\n",
      "      }\n",
      "    },\n",
      "    \"hash\": \"e6b1713059c978a689d3956ba731387a3f39c286\",\n",
      "    \"docSignature\": \"9fbe4254c7db9c60860e137d9d915167d9ac36a0_ed679a1606d9c9761aacffe541d2470f\",\n",
      "    \"timestamp\": \"1635409790\",\n",
      "    \"lastTimeUpdated\": \"1635409790\",\n",
      "    \"version\": \"\"\n",
      "  }\n",
      "}\n"
     ]
    }
   ],
   "source": [
    "object_info = json.loads(r.text)\n",
    "\n",
    "print(json.dumps(object_info, indent=2))"
   ]
  },
  {
   "cell_type": "code",
   "execution_count": null,
   "id": "bb914f69-14ec-4ac1-8deb-24c5bbdf95a4",
   "metadata": {},
   "outputs": [],
   "source": [
    "object_url = 'https://collections.si.edu/search/detail/edanmdm:nmah_852778'\n",
    "\n",
    "# see the following for information on workign with the Image Delivery Service\n",
    "# https://sirismm.si.edu/siris/ImageDisplay.htm\n",
    "\n",
    "# possible to find slideshows?\n",
    "# eg https://edan.si.edu/slideshow/viewer/?damspath=/Public_Sets/NMAH/NMAH-AC/AC0300/S01"
   ]
  }
 ],
 "metadata": {
  "kernelspec": {
   "display_name": "Python 3",
   "language": "python",
   "name": "python3"
  },
  "language_info": {
   "codemirror_mode": {
    "name": "ipython",
    "version": 3
   },
   "file_extension": ".py",
   "mimetype": "text/x-python",
   "name": "python",
   "nbconvert_exporter": "python",
   "pygments_lexer": "ipython3",
   "version": "3.8.8"
  }
 },
 "nbformat": 4,
 "nbformat_minor": 5
}
