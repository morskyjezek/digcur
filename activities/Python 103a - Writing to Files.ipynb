{
 "cells": [
  {
   "cell_type": "markdown",
   "metadata": {},
   "source": [
    "# Writing to files\n",
    "\n",
    "A few examples of writing to a file. This could be used in place of the first section of the Python 104 notebook, or can be updated to serve as a standalone file writing activity."
   ]
  },
  {
   "cell_type": "code",
   "execution_count": 1,
   "metadata": {},
   "outputs": [],
   "source": [
    "fout = 'sample-file.txt'\n",
    "\n",
    "lines = ['here\\'s line 1', 'line 2', 'line 3']\n",
    "\n",
    "with open (fout, 'w') as f:\n",
    "    for line in lines:\n",
    "        f.write(line + '\\n')\n"
   ]
  },
  {
   "cell_type": "code",
   "execution_count": 2,
   "metadata": {},
   "outputs": [
    {
     "name": "stdout",
     "output_type": "stream",
     "text": [
      "here's line 1\n",
      "line 2\n",
      "line 3\n"
     ]
    }
   ],
   "source": [
    "fhand = 'sample-file.txt'\n",
    "\n",
    "file = open(fhand, 'r')\n",
    "\n",
    "for line in file:\n",
    "    print(line.rstrip())"
   ]
  },
  {
   "cell_type": "code",
   "execution_count": 3,
   "metadata": {},
   "outputs": [
    {
     "name": "stdout",
     "output_type": "stream",
     "text": [
      "['stephen.marquard@uct.ac.za\\n', 'louis@media.berkeley.edu\\n', 'zqian@umich.edu\\n', 'rjlowe@iupui.edu\\n', 'cwen@iupui.edu\\n', 'gsilver@umich.edu\\n', 'wagnermr@iupui.edu\\n', 'antranig@caret.cam.ac.uk\\n', 'gopal.ramasammycook@gmail.com\\n', 'david.horwitz@uct.ac.za\\n', 'ray@media.berkeley.edu\\n'] \n",
      "\n",
      "\n",
      "stephen.marquard@uct.ac.za\n",
      "louis@media.berkeley.edu\n",
      "zqian@umich.edu\n",
      "rjlowe@iupui.edu\n",
      "cwen@iupui.edu\n",
      "gsilver@umich.edu\n",
      "wagnermr@iupui.edu\n",
      "antranig@caret.cam.ac.uk\n",
      "gopal.ramasammycook@gmail.com\n",
      "david.horwitz@uct.ac.za\n",
      "ray@media.berkeley.edu\n",
      "\n"
     ]
    }
   ],
   "source": [
    "file = '../assets/mbox-short.txt'\n",
    "fout = 'email-list.txt'\n",
    "emails = []\n",
    "\n",
    "with open(file, 'r') as f:\n",
    "    for line in f:\n",
    "        if line.startswith('From:'):\n",
    "            email = line[6:]\n",
    "            if email not in emails:\n",
    "                emails.append(email)\n",
    "print(emails, '\\n\\n')\n",
    "\n",
    "with open(fout, 'w') as f:\n",
    "    for email in emails:\n",
    "        f.write(email)\n",
    "\n",
    "print(open(fout).read())"
   ]
  },
  {
   "cell_type": "code",
   "execution_count": 4,
   "metadata": {},
   "outputs": [
    {
     "name": "stdout",
     "output_type": "stream",
     "text": [
      "stephen.marquard@uct.ac.za\r\n",
      "louis@media.berkeley.edu\r\n",
      "zqian@umich.edu\r\n",
      "rjlowe@iupui.edu\r\n",
      "cwen@iupui.edu\r\n",
      "gsilver@umich.edu\r\n",
      "wagnermr@iupui.edu\r\n",
      "antranig@caret.cam.ac.uk\r\n",
      "gopal.ramasammycook@gmail.com\r\n",
      "david.horwitz@uct.ac.za\r\n",
      "ray@media.berkeley.edu\r\n"
     ]
    }
   ],
   "source": [
    "!cat email-list.txt"
   ]
  }
 ],
 "metadata": {
  "kernelspec": {
   "display_name": "Python 3",
   "language": "python",
   "name": "python3"
  },
  "language_info": {
   "codemirror_mode": {
    "name": "ipython",
    "version": 3
   },
   "file_extension": ".py",
   "mimetype": "text/x-python",
   "name": "python",
   "nbconvert_exporter": "python",
   "pygments_lexer": "ipython3",
   "version": "3.6.4"
  }
 },
 "nbformat": 4,
 "nbformat_minor": 2
}
