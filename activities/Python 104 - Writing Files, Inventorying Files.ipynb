{
 "cells": [
  {
   "cell_type": "markdown",
   "metadata": {},
   "source": [
    "# Python 104 - Writing Files, Inventorying Files\n",
    "\n",
    "This notebook goes through the basics of writing files. We look through one basic example and one that extracts specific information from one file then writes it to a new file. After that, we look at a few modules that will help us to build an inventory of basic system information including filenames, locations (paths), and sizes. Once we identify this information we can use it to create an inventory manifest. \n",
    "\n",
    "First, let's look at the basics of writing files. "
   ]
  },
  {
   "cell_type": "markdown",
   "metadata": {},
   "source": [
    "## Writing Files\n",
    "\n",
    "The basic function for writing files is the `write()` function. This can be used to write contents from the argument or \n",
    "to write multi-line content. Unlike in other environments like the GUI or shell, where the open command is often assumed, \n",
    "you may need to `open()` and then `close()` files when working in python. You cannot write to a file that is not known and opened, and a file that is not closed may be corrupted. \n",
    "\n",
    "Fortunately, we can usually use the contexual opener:\n",
    "\n",
    "```python\n",
    "with open(file, 'w') as f:\n",
    "    ```\n",
    "\n",
    "This will automatically close the file when the loop completes. The `w` argument indicates that the file is opened in \"write\" mode. If the file doesn't exist, the file will be written. "
   ]
  },
  {
   "cell_type": "code",
   "execution_count": 1,
   "metadata": {},
   "outputs": [],
   "source": [
    "# Basic use of open() and write()\n",
    "\n",
    "line = 'Believe that life is worth living, and your belief will help create the fact.'\n",
    "# Credit William James https://en.wikiquote.org/wiki/William_James\n",
    "\n",
    "fout = open('quote-output.txt', 'w')\n",
    "\n",
    "fout.write(line)\n",
    "\n",
    "fout.close()"
   ]
  },
  {
   "cell_type": "code",
   "execution_count": 5,
   "metadata": {},
   "outputs": [
    {
     "name": "stdout",
     "output_type": "stream",
     "text": [
      "Believe that life is worth living, and your belief will help create the fact.\n"
     ]
    }
   ],
   "source": [
    "# use the with open() syntax to check if the file is there\n",
    "\n",
    "with open('quote-output.txt', 'r') as f:\n",
    "    print(f.read())"
   ]
  },
  {
   "cell_type": "markdown",
   "metadata": {},
   "source": [
    "We can also extract information from a file then reuse that in another file. \n",
    "For example, we could extract the email addresses from `mbox-short.txt` and create\n",
    "an address book file:"
   ]
  },
  {
   "cell_type": "code",
   "execution_count": 1,
   "metadata": {},
   "outputs": [
    {
     "name": "stdout",
     "output_type": "stream",
     "text": [
      "['stephen.marquard@uct.ac.za\\n', 'louis@media.berkeley.edu\\n', 'zqian@umich.edu\\n', 'rjlowe@iupui.edu\\n', 'cwen@iupui.edu\\n', 'gsilver@umich.edu\\n', 'wagnermr@iupui.edu\\n', 'antranig@caret.cam.ac.uk\\n', 'gopal.ramasammycook@gmail.com\\n', 'david.horwitz@uct.ac.za\\n', 'ray@media.berkeley.edu\\n'] \n",
      "\n",
      "\n",
      "stephen.marquard@uct.ac.za\n",
      "louis@media.berkeley.edu\n",
      "zqian@umich.edu\n",
      "rjlowe@iupui.edu\n",
      "cwen@iupui.edu\n",
      "gsilver@umich.edu\n",
      "wagnermr@iupui.edu\n",
      "antranig@caret.cam.ac.uk\n",
      "gopal.ramasammycook@gmail.com\n",
      "david.horwitz@uct.ac.za\n",
      "ray@media.berkeley.edu\n",
      "\n"
     ]
    }
   ],
   "source": [
    "# create a path to the file\n",
    "file = '../assets/mbox-short.txt'\n",
    "\n",
    "# set up a file name for a file to create\n",
    "fout = 'email-list.txt'\n",
    "\n",
    "#establish a list to record emails as they are identified\n",
    "emails = []\n",
    "\n",
    "# open the source file to extract emails\n",
    "with open(file, 'r') as f:\n",
    "    for line in f:\n",
    "        if line.startswith('From:'):\n",
    "            email = line[6:]\n",
    "            if email not in emails:\n",
    "                emails.append(email)\n",
    "print(emails, '\\n\\n')\n",
    "\n",
    "# open another file in write mode to write the emails.\n",
    "with open(fout, 'w') as f:\n",
    "    for email in emails:\n",
    "        f.write(email)\n",
    "\n",
    "print(open(fout).read())"
   ]
  },
  {
   "cell_type": "markdown",
   "metadata": {},
   "source": [
    "## Inventorying Files\n",
    "\n",
    "For this activity, we are going to use a few modules that allow us to interact with the file system. These should be somewhat familiar after we have already looked into basic shell commands.\n",
    "\n",
    "* `os` assists in using aspects of the operating system, in this case particularly file information and paths. See https://docs.python.org/3/library/os.html; \n",
    "* `os.path` is often called by itself and allows us to interact with file path and directory information. See https://docs.python.org/3/library/os.path.html#module-os.path. \n",
    "* `shutil` allows to access some shell utilities, like move, copy, rename, delete. See https://docs.python.org/3/library/shutil.html?highlight=shutils.\n",
    "\n",
    "We will also use the `csv` module since it will help us to write the information that we gather to a structured data file that can later be opened in Excel or other spreadsheet applications. "
   ]
  },
  {
   "cell_type": "code",
   "execution_count": 3,
   "metadata": {},
   "outputs": [],
   "source": [
    "import os\n",
    "from os.path import join, getsize\n",
    "import csv\n",
    "\n",
    "# set up the csv\n",
    "headers = [\n",
    "    'path',\n",
    "    'filename',\n",
    "    'file_extension',\n",
    "    'size'\n",
    "]"
   ]
  },
  {
   "cell_type": "markdown",
   "metadata": {},
   "source": [
    "Once we know what we want in the csv, how do we get that information? We can use the `os` module to get file information. We will use the `os.walk` function to \"walk\" over the file tree, identify folder lists, paths, and filenames.  "
   ]
  },
  {
   "cell_type": "code",
   "execution_count": 4,
   "metadata": {},
   "outputs": [
    {
     "name": "stdout",
     "output_type": "stream",
     "text": [
      "../assets/Bundle-web-files-small\n"
     ]
    }
   ],
   "source": [
    "walk_this_directory = os.path.join('..','assets','Bundle-web-files-small')\n",
    "\n",
    "print(walk_this_directory)"
   ]
  },
  {
   "cell_type": "code",
   "execution_count": 8,
   "metadata": {},
   "outputs": [
    {
     "name": "stdout",
     "output_type": "stream",
     "text": [
      "../assets/Bundle-web-files-small\n",
      "['audio', 'image', 'pdf', 'presentation', 'video']\n",
      "['04-04-21full.asf', 'glmp_cig.EQ.wm.p20.t12z', 'oct17cc.asx', 'vlwhcssc.asx']\n",
      "../assets/Bundle-web-files-small/audio\n",
      "[]\n",
      "['04-04-21full.asf', 'glmp_cig.EQ.wm.p20.t12z', 'oct17cc.asx', 'vlwhcssc.asx']\n",
      "../assets/Bundle-web-files-small/image\n",
      "[]\n",
      "['04-04-21full.asf', 'glmp_cig.EQ.wm.p20.t12z', 'oct17cc.asx', 'vlwhcssc.asx']\n",
      "../assets/Bundle-web-files-small/pdf\n",
      "[]\n",
      "['04-04-21full.asf', 'glmp_cig.EQ.wm.p20.t12z', 'oct17cc.asx', 'vlwhcssc.asx']\n",
      "../assets/Bundle-web-files-small/presentation\n",
      "[]\n",
      "['04-04-21full.asf', 'glmp_cig.EQ.wm.p20.t12z', 'oct17cc.asx', 'vlwhcssc.asx']\n",
      "../assets/Bundle-web-files-small/video\n",
      "[]\n",
      "['04-04-21full.asf', 'glmp_cig.EQ.wm.p20.t12z', 'oct17cc.asx', 'vlwhcssc.asx']\n"
     ]
    }
   ],
   "source": [
    "for FolderPaths, SubfolderNames, filenames in os.walk(walk_this_directory):\n",
    "    print(FolderPaths)\n",
    "    print(SubfolderNames)\n",
    "    print(files)"
   ]
  },
  {
   "cell_type": "code",
   "execution_count": 10,
   "metadata": {},
   "outputs": [
    {
     "name": "stdout",
     "output_type": "stream",
     "text": [
      "../assets/Bundle-web-files-small consumes 9069 bytes in 1 non-directory files\n",
      "../assets/Bundle-web-files-small/audio consumes 25856261 bytes in 4 non-directory files\n",
      "../assets/Bundle-web-files-small/image consumes 497284 bytes in 5 non-directory files\n",
      "../assets/Bundle-web-files-small/pdf consumes 149427 bytes in 5 non-directory files\n",
      "../assets/Bundle-web-files-small/presentation consumes 289792 bytes in 3 non-directory files\n",
      "../assets/Bundle-web-files-small/video consumes 115706 bytes in 4 non-directory files\n"
     ]
    }
   ],
   "source": [
    "# get information about how many files are in each directory and how much space they take up\n",
    "for FolderPaths, SubfolderNames, filenames in os.walk(walk_this_directory):\n",
    "    print(FolderPaths, \"consumes\", end=\" \")\n",
    "    print(sum(getsize(join(FolderPaths, name)) for name in filenames), end=\" \")\n",
    "    print(\"bytes in\", len(filenames), \"non-directory files\")\n"
   ]
  },
  {
   "cell_type": "code",
   "execution_count": null,
   "metadata": {},
   "outputs": [],
   "source": [
    "# get filepaths and names and sizes"
   ]
  },
  {
   "cell_type": "code",
   "execution_count": null,
   "metadata": {},
   "outputs": [],
   "source": [
    "# write to CSV with above-noted headers"
   ]
  },
  {
   "cell_type": "markdown",
   "metadata": {},
   "source": [
    "## Reflection Activities\n",
    "\n",
    "1. Write a script that can walk through a series of directories nad identify files based on their file extension. For example, perhaps you want to count the number of .pdf files or .jpg. Create file that can look for this information and then tally the files. Then, have the program output the list of filenames and filepaths in a CSV file. Call this file `extension_detector.py`. \n",
    "1. Write a script that creates a `master` and `derivative` directory within a subdirectory that has the file's name as its name. For example, if there are two files, one named `001.jpg` and `audition.wav`, there should be a directory named `001` and another named `audition`. Within these, there should be master and derivative folders. The original files should be in the `master` folder. Call this file `master_and_derivatives.py`.\n",
    "1. Create a script that will create an inventory of all the files in the assets folder `Bundle-web-files-small`. The inventory should be a CSV file, and it should include the filename of the file, the extension, the path to the file, and the file size. You may include any other information that you think is important. Call this file `inventory_script.py`."
   ]
  }
 ],
 "metadata": {
  "kernelspec": {
   "display_name": "Python 3",
   "language": "python",
   "name": "python3"
  },
  "language_info": {
   "codemirror_mode": {
    "name": "ipython",
    "version": 3
   },
   "file_extension": ".py",
   "mimetype": "text/x-python",
   "name": "python",
   "nbconvert_exporter": "python",
   "pygments_lexer": "ipython3",
   "version": "3.6.4"
  }
 },
 "nbformat": 4,
 "nbformat_minor": 2
}
