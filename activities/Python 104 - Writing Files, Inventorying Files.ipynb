{
 "cells": [
  {
   "cell_type": "markdown",
   "metadata": {},
   "source": [
    "# Python 104 - Writing Files, Inventorying Files\n",
    "\n",
    "This notebook goes through the basics of writing files. We look through one basic example and one that extracts specific information from one file then writes it to a new file. After that, we look at a few modules that will help us to build an inventory of basic system information including filenames, locations (paths), and sizes. Once we identify this information we can use it to create an inventory manifest. \n",
    "\n",
    "First, let's look at the basics of writing files. "
   ]
  },
  {
   "cell_type": "markdown",
   "metadata": {},
   "source": [
    "## Writing Files\n",
    "\n",
    "The basic function for writing files is the `write()` function. This can be used to write contents from the argument or \n",
    "to write multi-line content. Unlike in other environments like the GUI or shell, where the open command is often assumed, \n",
    "you may need to `open()` and then `close()` files when working in python. You cannot write to a file that is not known and opened, and a file that is not closed may be corrupted. \n",
    "\n",
    "Fortunately, we can usually use the contexual opener:\n",
    "\n",
    "```python\n",
    "with open(file, 'w') as f:\n",
    "    ```\n",
    "\n",
    "This will automatically close the file when the loop completes. The `w` argument indicates that the file is opened in \"write\" mode. If the file doesn't exist, the file will be written. "
   ]
  },
  {
   "cell_type": "code",
   "execution_count": 1,
   "metadata": {},
   "outputs": [],
   "source": [
    "# Basic use of open() and write()\n",
    "\n",
    "line = 'Believe that life is worth living, and your belief will help create the fact.'\n",
    "# Credit William James https://en.wikiquote.org/wiki/William_James\n",
    "\n",
    "fout = open('quote-output.txt', 'w')\n",
    "\n",
    "fout.write(line)\n",
    "\n",
    "fout.close()"
   ]
  },
  {
   "cell_type": "code",
   "execution_count": 5,
   "metadata": {},
   "outputs": [
    {
     "name": "stdout",
     "output_type": "stream",
     "text": [
      "Believe that life is worth living, and your belief will help create the fact.\n"
     ]
    }
   ],
   "source": [
    "# use the with open() syntax to check if the file is there\n",
    "\n",
    "with open('quote-output.txt', 'r') as f:\n",
    "    print(f.read())"
   ]
  },
  {
   "cell_type": "markdown",
   "metadata": {},
   "source": [
    "We can also extract information from a file then reuse that in another file. \n",
    "For example, we could extract the email addresses from `mbox-short.txt` and create\n",
    "an address book file:"
   ]
  },
  {
   "cell_type": "code",
   "execution_count": 1,
   "metadata": {},
   "outputs": [
    {
     "name": "stdout",
     "output_type": "stream",
     "text": [
      "['stephen.marquard@uct.ac.za\\n', 'louis@media.berkeley.edu\\n', 'zqian@umich.edu\\n', 'rjlowe@iupui.edu\\n', 'cwen@iupui.edu\\n', 'gsilver@umich.edu\\n', 'wagnermr@iupui.edu\\n', 'antranig@caret.cam.ac.uk\\n', 'gopal.ramasammycook@gmail.com\\n', 'david.horwitz@uct.ac.za\\n', 'ray@media.berkeley.edu\\n'] \n",
      "\n",
      "\n",
      "stephen.marquard@uct.ac.za\n",
      "louis@media.berkeley.edu\n",
      "zqian@umich.edu\n",
      "rjlowe@iupui.edu\n",
      "cwen@iupui.edu\n",
      "gsilver@umich.edu\n",
      "wagnermr@iupui.edu\n",
      "antranig@caret.cam.ac.uk\n",
      "gopal.ramasammycook@gmail.com\n",
      "david.horwitz@uct.ac.za\n",
      "ray@media.berkeley.edu\n",
      "\n"
     ]
    }
   ],
   "source": [
    "# create a path to the file\n",
    "file = '../assets/mbox-short.txt'\n",
    "\n",
    "# set up a file name for a file to create\n",
    "fout = 'email-list.txt'\n",
    "\n",
    "#establish a list to record emails as they are identified\n",
    "emails = []\n",
    "\n",
    "# open the source file to extract emails\n",
    "with open(file, 'r') as f:\n",
    "    for line in f:\n",
    "        if line.startswith('From:'):\n",
    "            email = line[6:]\n",
    "            if email not in emails:\n",
    "                emails.append(email)\n",
    "print(emails, '\\n\\n')\n",
    "\n",
    "# open another file in write mode to write the emails.\n",
    "with open(fout, 'w') as f:\n",
    "    for email in emails:\n",
    "        f.write(email)\n",
    "\n",
    "print(open(fout).read())"
   ]
  },
  {
   "cell_type": "markdown",
   "metadata": {},
   "source": [
    "## Inventorying Files\n",
    "\n",
    "For this activity, we are going to use a few modules that allow us to interact with the file system. These should be somewhat familiar after we have already looked into basic shell commands.\n",
    "\n",
    "* `os` assists in using aspects of the operating system, in this case particularly file information and paths. See https://docs.python.org/3/library/os.html; \n",
    "* `os.path` is often called by itself and allows us to interact with file path and directory information. See https://docs.python.org/3/library/os.path.html#module-os.path. \n",
    "* `shutil` allows to access some shell utilities, like move, copy, rename, delete. See https://docs.python.org/3/library/shutil.html?highlight=shutils.\n",
    "\n",
    "We will also use the `csv` module since it will help us to write the information that we gather to a structured data file that can later be opened in Excel or other spreadsheet applications. See https://docs.python.org/3/library/csv.html"
   ]
  },
  {
   "cell_type": "code",
   "execution_count": 3,
   "metadata": {},
   "outputs": [],
   "source": [
    "import os\n",
    "from os.path import join, getsize\n",
    "import csv"
   ]
  },
  {
   "cell_type": "markdown",
   "metadata": {},
   "source": [
    "Once we know what we want in the csv, how do we get that information? We can use the `os` module to get file information. We will use the `os.walk` function to \"walk\" over the file tree, identify folder lists, paths, and filenames.  "
   ]
  },
  {
   "cell_type": "code",
   "execution_count": 4,
   "metadata": {},
   "outputs": [
    {
     "name": "stdout",
     "output_type": "stream",
     "text": [
      "../assets/Bundle-web-files-small\n"
     ]
    }
   ],
   "source": [
    "walk_this_directory = os.path.join('..','assets','Bundle-web-files-small')\n",
    "\n",
    "print(walk_this_directory)"
   ]
  },
  {
   "cell_type": "code",
   "execution_count": 13,
   "metadata": {},
   "outputs": [
    {
     "name": "stdout",
     "output_type": "stream",
     "text": [
      "folderName is a type <class 'str'> \n",
      "subfolders is a type <class 'list'> \n",
      "filenames is a type <class 'list'>\n",
      "folderName is a type <class 'str'> \n",
      "subfolders is a type <class 'list'> \n",
      "filenames is a type <class 'list'>\n",
      "folderName is a type <class 'str'> \n",
      "subfolders is a type <class 'list'> \n",
      "filenames is a type <class 'list'>\n",
      "folderName is a type <class 'str'> \n",
      "subfolders is a type <class 'list'> \n",
      "filenames is a type <class 'list'>\n",
      "folderName is a type <class 'str'> \n",
      "subfolders is a type <class 'list'> \n",
      "filenames is a type <class 'list'>\n",
      "folderName is a type <class 'str'> \n",
      "subfolders is a type <class 'list'> \n",
      "filenames is a type <class 'list'>\n"
     ]
    }
   ],
   "source": [
    "for folderName, subfolders, filenames in os.walk(walk_this_directory):\n",
    "    # see what this produces\n",
    "    print('folderName is a type',type(folderName),\n",
    "          '\\nsubfolders is a type',type(subfolders),\n",
    "          '\\nfilenames is a type',type(filenames))\n",
    "\n",
    "    ## so, this is a series of nested loops, \n",
    "    ## the top level produces a string for the folder name, \n",
    "    ## and the secondary levels create lists of the contained folders and files "
   ]
  },
  {
   "cell_type": "code",
   "execution_count": 10,
   "metadata": {},
   "outputs": [
    {
     "name": "stdout",
     "output_type": "stream",
     "text": [
      "../assets/Bundle-web-files-small consumes 9069 bytes in 1 non-directory files\n",
      "../assets/Bundle-web-files-small/audio consumes 25856261 bytes in 4 non-directory files\n",
      "../assets/Bundle-web-files-small/image consumes 497284 bytes in 5 non-directory files\n",
      "../assets/Bundle-web-files-small/pdf consumes 149427 bytes in 5 non-directory files\n",
      "../assets/Bundle-web-files-small/presentation consumes 289792 bytes in 3 non-directory files\n",
      "../assets/Bundle-web-files-small/video consumes 115706 bytes in 4 non-directory files\n"
     ]
    }
   ],
   "source": [
    "# get information about how many files are in each directory and how much space they take up\n",
    "for FolderPaths, SubfolderNames, filenames in os.walk(walk_this_directory):\n",
    "    print(FolderPaths, \"consumes\", end=\" \")\n",
    "    print(sum(getsize(join(FolderPaths, name)) for name in filenames), end=\" \")\n",
    "    print(\"bytes in\", len(filenames), \"non-directory files\")\n"
   ]
  },
  {
   "cell_type": "code",
   "execution_count": 24,
   "metadata": {},
   "outputs": [
    {
     "name": "stdout",
     "output_type": "stream",
     "text": [
      "Current folder: ../assets/Bundle-web-files-small\n",
      "Parent folder: ../assets/Bundle-web-files-small ; subfolder: audio\n",
      "Parent folder: ../assets/Bundle-web-files-small ; subfolder: image\n",
      "Parent folder: ../assets/Bundle-web-files-small ; subfolder: pdf\n",
      "Parent folder: ../assets/Bundle-web-files-small ; subfolder: presentation\n",
      "Parent folder: ../assets/Bundle-web-files-small ; subfolder: video\n",
      "The file web-files-small-metadata.csv \n",
      "    This is the folder: ../assets/Bundle-web-files-small \n",
      "    The filepath is: ../assets/Bundle-web-files-small/web-files-small-metadata.csv\n",
      "\n",
      "\n",
      "Current folder: ../assets/Bundle-web-files-small/audio\n",
      "The file 000727.ram \n",
      "    This is the folder: ../assets/Bundle-web-files-small/audio \n",
      "    The filepath is: ../assets/Bundle-web-files-small/audio/000727.ram\n",
      "The file 11-3250JohnsonvFolinoEtAl.wma \n",
      "    This is the folder: ../assets/Bundle-web-files-small/audio \n",
      "    The filepath is: ../assets/Bundle-web-files-small/audio/11-3250JohnsonvFolinoEtAl.wma\n",
      "The file mj_telework_exchange_final_100710.mp3 \n",
      "    This is the folder: ../assets/Bundle-web-files-small/audio \n",
      "    The filepath is: ../assets/Bundle-web-files-small/audio/mj_telework_exchange_final_100710.mp3\n",
      "The file NEWSLINE_802AF71F439D401585C6FCB02F358307.mp3 \n",
      "    This is the folder: ../assets/Bundle-web-files-small/audio \n",
      "    The filepath is: ../assets/Bundle-web-files-small/audio/NEWSLINE_802AF71F439D401585C6FCB02F358307.mp3\n",
      "\n",
      "\n",
      "Current folder: ../assets/Bundle-web-files-small/image\n",
      "The file 1005107061.tif \n",
      "    This is the folder: ../assets/Bundle-web-files-small/image \n",
      "    The filepath is: ../assets/Bundle-web-files-small/image/1005107061.tif\n",
      "The file 13080t.jpg \n",
      "    This is the folder: ../assets/Bundle-web-files-small/image \n",
      "    The filepath is: ../assets/Bundle-web-files-small/image/13080t.jpg\n",
      "The file k7989-7x.jpg \n",
      "    This is the folder: ../assets/Bundle-web-files-small/image \n",
      "    The filepath is: ../assets/Bundle-web-files-small/image/k7989-7x.jpg\n",
      "The file m237a2f.gif \n",
      "    This is the folder: ../assets/Bundle-web-files-small/image \n",
      "    The filepath is: ../assets/Bundle-web-files-small/image/m237a2f.gif\n",
      "The file orca.via_.moc_.noaa_.jpg \n",
      "    This is the folder: ../assets/Bundle-web-files-small/image \n",
      "    The filepath is: ../assets/Bundle-web-files-small/image/orca.via_.moc_.noaa_.jpg\n",
      "\n",
      "\n",
      "Current folder: ../assets/Bundle-web-files-small/pdf\n",
      "The file 01-1480.pdf \n",
      "    This is the folder: ../assets/Bundle-web-files-small/pdf \n",
      "    The filepath is: ../assets/Bundle-web-files-small/pdf/01-1480.pdf\n",
      "The file Chapter03.pdf \n",
      "    This is the folder: ../assets/Bundle-web-files-small/pdf \n",
      "    The filepath is: ../assets/Bundle-web-files-small/pdf/Chapter03.pdf\n",
      "The file file.pdf \n",
      "    This is the folder: ../assets/Bundle-web-files-small/pdf \n",
      "    The filepath is: ../assets/Bundle-web-files-small/pdf/file.pdf\n",
      "The file HR2021 commtext.pdf \n",
      "    This is the folder: ../assets/Bundle-web-files-small/pdf \n",
      "    The filepath is: ../assets/Bundle-web-files-small/pdf/HR2021 commtext.pdf\n",
      "The file PFCHEJ.pdf \n",
      "    This is the folder: ../assets/Bundle-web-files-small/pdf \n",
      "    The filepath is: ../assets/Bundle-web-files-small/pdf/PFCHEJ.pdf\n",
      "\n",
      "\n",
      "Current folder: ../assets/Bundle-web-files-small/presentation\n",
      "The file ADAEMPLOYMENTTaxIncentives.ppt \n",
      "    This is the folder: ../assets/Bundle-web-files-small/presentation \n",
      "    The filepath is: ../assets/Bundle-web-files-small/presentation/ADAEMPLOYMENTTaxIncentives.ppt\n",
      "The file BudgetandGrants012710.ppt \n",
      "    This is the folder: ../assets/Bundle-web-files-small/presentation \n",
      "    The filepath is: ../assets/Bundle-web-files-small/presentation/BudgetandGrants012710.ppt\n",
      "The file Non-FTE-Trainee-Activities-060109.ppt \n",
      "    This is the folder: ../assets/Bundle-web-files-small/presentation \n",
      "    The filepath is: ../assets/Bundle-web-files-small/presentation/Non-FTE-Trainee-Activities-060109.ppt\n",
      "\n",
      "\n",
      "Current folder: ../assets/Bundle-web-files-small/video\n",
      "The file 04-04-21full.asf \n",
      "    This is the folder: ../assets/Bundle-web-files-small/video \n",
      "    The filepath is: ../assets/Bundle-web-files-small/video/04-04-21full.asf\n",
      "The file glmp_cig.EQ.wm.p20.t12z \n",
      "    This is the folder: ../assets/Bundle-web-files-small/video \n",
      "    The filepath is: ../assets/Bundle-web-files-small/video/glmp_cig.EQ.wm.p20.t12z\n",
      "The file oct17cc.asx \n",
      "    This is the folder: ../assets/Bundle-web-files-small/video \n",
      "    The filepath is: ../assets/Bundle-web-files-small/video/oct17cc.asx\n",
      "The file vlwhcssc.asx \n",
      "    This is the folder: ../assets/Bundle-web-files-small/video \n",
      "    The filepath is: ../assets/Bundle-web-files-small/video/vlwhcssc.asx\n",
      "\n",
      "\n"
     ]
    }
   ],
   "source": [
    "for folderName, subfolders, filenames in os.walk(walk_this_directory):\n",
    "    print('Current folder:',folderName)\n",
    "    \n",
    "    for subfolder in subfolders:\n",
    "        print('Parent folder:',folderName,'; subfolder:',subfolder)\n",
    "        \n",
    "    for filename in filenames:\n",
    "        print('The file', filename, \n",
    "              '\\n    This is the folder:', folderName,\n",
    "             '\\n    The filepath is:',os.path.join(folderName, filename))\n",
    "    \n",
    "    print('\\n')\n",
    "\n",
    "    ## Note that this does not record hidden items like . and .."
   ]
  },
  {
   "cell_type": "code",
   "execution_count": 31,
   "metadata": {},
   "outputs": [
    {
     "name": "stdout",
     "output_type": "stream",
     "text": [
      "Found: web-files-small-metadata.csv ../assets/Bundle-web-files-small ../assets/Bundle-web-files-small/web-files-small-metadata.csv 9069\n",
      "Found: 000727.ram ../assets/Bundle-web-files-small/audio ../assets/Bundle-web-files-small/audio/000727.ram 79\n",
      "Found: 11-3250JohnsonvFolinoEtAl.wma ../assets/Bundle-web-files-small/audio ../assets/Bundle-web-files-small/audio/11-3250JohnsonvFolinoEtAl.wma 21423499\n",
      "Found: mj_telework_exchange_final_100710.mp3 ../assets/Bundle-web-files-small/audio ../assets/Bundle-web-files-small/audio/mj_telework_exchange_final_100710.mp3 3471488\n",
      "Found: NEWSLINE_802AF71F439D401585C6FCB02F358307.mp3 ../assets/Bundle-web-files-small/audio ../assets/Bundle-web-files-small/audio/NEWSLINE_802AF71F439D401585C6FCB02F358307.mp3 961195\n",
      "Found: 1005107061.tif ../assets/Bundle-web-files-small/image ../assets/Bundle-web-files-small/image/1005107061.tif 395734\n",
      "Found: 13080t.jpg ../assets/Bundle-web-files-small/image ../assets/Bundle-web-files-small/image/13080t.jpg 3764\n",
      "Found: k7989-7x.jpg ../assets/Bundle-web-files-small/image ../assets/Bundle-web-files-small/image/k7989-7x.jpg 7864\n",
      "Found: m237a2f.gif ../assets/Bundle-web-files-small/image ../assets/Bundle-web-files-small/image/m237a2f.gif 7376\n",
      "Found: orca.via_.moc_.noaa_.jpg ../assets/Bundle-web-files-small/image ../assets/Bundle-web-files-small/image/orca.via_.moc_.noaa_.jpg 82546\n",
      "Found: 01-1480.pdf ../assets/Bundle-web-files-small/pdf ../assets/Bundle-web-files-small/pdf/01-1480.pdf 49088\n",
      "Found: Chapter03.pdf ../assets/Bundle-web-files-small/pdf ../assets/Bundle-web-files-small/pdf/Chapter03.pdf 51919\n",
      "Found: file.pdf ../assets/Bundle-web-files-small/pdf ../assets/Bundle-web-files-small/pdf/file.pdf 1538\n",
      "Found: HR2021 commtext.pdf ../assets/Bundle-web-files-small/pdf ../assets/Bundle-web-files-small/pdf/HR2021 commtext.pdf 36305\n",
      "Found: PFCHEJ.pdf ../assets/Bundle-web-files-small/pdf ../assets/Bundle-web-files-small/pdf/PFCHEJ.pdf 10577\n",
      "Found: ADAEMPLOYMENTTaxIncentives.ppt ../assets/Bundle-web-files-small/presentation ../assets/Bundle-web-files-small/presentation/ADAEMPLOYMENTTaxIncentives.ppt 137216\n",
      "Found: BudgetandGrants012710.ppt ../assets/Bundle-web-files-small/presentation ../assets/Bundle-web-files-small/presentation/BudgetandGrants012710.ppt 85504\n",
      "Found: Non-FTE-Trainee-Activities-060109.ppt ../assets/Bundle-web-files-small/presentation ../assets/Bundle-web-files-small/presentation/Non-FTE-Trainee-Activities-060109.ppt 67072\n",
      "Found: 04-04-21full.asf ../assets/Bundle-web-files-small/video ../assets/Bundle-web-files-small/video/04-04-21full.asf 101\n",
      "Found: glmp_cig.EQ.wm.p20.t12z ../assets/Bundle-web-files-small/video ../assets/Bundle-web-files-small/video/glmp_cig.EQ.wm.p20.t12z 8296\n",
      "Found: oct17cc.asx ../assets/Bundle-web-files-small/video ../assets/Bundle-web-files-small/video/oct17cc.asx 106945\n",
      "Found: vlwhcssc.asx ../assets/Bundle-web-files-small/video ../assets/Bundle-web-files-small/video/vlwhcssc.asx 364\n"
     ]
    }
   ],
   "source": [
    "# get information about each of the files\n",
    "for folderName, subfolders, filenames in os.walk(walk_this_directory):\n",
    "    \n",
    "    for filename in filenames:\n",
    "        filename = filename \n",
    "        folder = folderName\n",
    "        path = os.path.join(folderName, filename)\n",
    "        size = os.path.getsize(path)\n",
    "        print('Found:', filename, folder, path, size)\n",
    "\n",
    "    ## Note that this does not record hidden items like . and .."
   ]
  },
  {
   "cell_type": "code",
   "execution_count": 34,
   "metadata": {},
   "outputs": [
    {
     "name": "stdout",
     "output_type": "stream",
     "text": [
      "Found 22 items.\n",
      "\n",
      " [[1, 'web-files-small-metadata.csv', '../assets/Bundle-web-files-small', '../assets/Bundle-web-files-small/web-files-small-metadata.csv', 9069], [2, '000727.ram', '../assets/Bundle-web-files-small/audio', '../assets/Bundle-web-files-small/audio/000727.ram', 79], [3, '11-3250JohnsonvFolinoEtAl.wma', '../assets/Bundle-web-files-small/audio', '../assets/Bundle-web-files-small/audio/11-3250JohnsonvFolinoEtAl.wma', 21423499], [4, 'mj_telework_exchange_final_100710.mp3', '../assets/Bundle-web-files-small/audio', '../assets/Bundle-web-files-small/audio/mj_telework_exchange_final_100710.mp3', 3471488], [5, 'NEWSLINE_802AF71F439D401585C6FCB02F358307.mp3', '../assets/Bundle-web-files-small/audio', '../assets/Bundle-web-files-small/audio/NEWSLINE_802AF71F439D401585C6FCB02F358307.mp3', 961195], [6, '1005107061.tif', '../assets/Bundle-web-files-small/image', '../assets/Bundle-web-files-small/image/1005107061.tif', 395734], [7, '13080t.jpg', '../assets/Bundle-web-files-small/image', '../assets/Bundle-web-files-small/image/13080t.jpg', 3764], [8, 'k7989-7x.jpg', '../assets/Bundle-web-files-small/image', '../assets/Bundle-web-files-small/image/k7989-7x.jpg', 7864], [9, 'm237a2f.gif', '../assets/Bundle-web-files-small/image', '../assets/Bundle-web-files-small/image/m237a2f.gif', 7376], [10, 'orca.via_.moc_.noaa_.jpg', '../assets/Bundle-web-files-small/image', '../assets/Bundle-web-files-small/image/orca.via_.moc_.noaa_.jpg', 82546], [11, '01-1480.pdf', '../assets/Bundle-web-files-small/pdf', '../assets/Bundle-web-files-small/pdf/01-1480.pdf', 49088], [12, 'Chapter03.pdf', '../assets/Bundle-web-files-small/pdf', '../assets/Bundle-web-files-small/pdf/Chapter03.pdf', 51919], [13, 'file.pdf', '../assets/Bundle-web-files-small/pdf', '../assets/Bundle-web-files-small/pdf/file.pdf', 1538], [14, 'HR2021 commtext.pdf', '../assets/Bundle-web-files-small/pdf', '../assets/Bundle-web-files-small/pdf/HR2021 commtext.pdf', 36305], [15, 'PFCHEJ.pdf', '../assets/Bundle-web-files-small/pdf', '../assets/Bundle-web-files-small/pdf/PFCHEJ.pdf', 10577], [16, 'ADAEMPLOYMENTTaxIncentives.ppt', '../assets/Bundle-web-files-small/presentation', '../assets/Bundle-web-files-small/presentation/ADAEMPLOYMENTTaxIncentives.ppt', 137216], [17, 'BudgetandGrants012710.ppt', '../assets/Bundle-web-files-small/presentation', '../assets/Bundle-web-files-small/presentation/BudgetandGrants012710.ppt', 85504], [18, 'Non-FTE-Trainee-Activities-060109.ppt', '../assets/Bundle-web-files-small/presentation', '../assets/Bundle-web-files-small/presentation/Non-FTE-Trainee-Activities-060109.ppt', 67072], [19, '04-04-21full.asf', '../assets/Bundle-web-files-small/video', '../assets/Bundle-web-files-small/video/04-04-21full.asf', 101], [20, 'glmp_cig.EQ.wm.p20.t12z', '../assets/Bundle-web-files-small/video', '../assets/Bundle-web-files-small/video/glmp_cig.EQ.wm.p20.t12z', 8296], [21, 'oct17cc.asx', '../assets/Bundle-web-files-small/video', '../assets/Bundle-web-files-small/video/oct17cc.asx', 106945], [22, 'vlwhcssc.asx', '../assets/Bundle-web-files-small/video', '../assets/Bundle-web-files-small/video/vlwhcssc.asx', 364]]\n"
     ]
    }
   ],
   "source": [
    "## get information about each of the files\n",
    "\n",
    "# first let's set some counters\n",
    "fileCount = 0\n",
    "# and a list to hold the information about the file, and another to hold the fileInfo\n",
    "fileInfo = list()\n",
    "manifestInfo = list()\n",
    "\n",
    "for folderName, subfolders, filenames in os.walk(walk_this_directory):    \n",
    "    for filename in filenames:\n",
    "        fileCount += 1\n",
    "        index = fileCount\n",
    "        filename = filename \n",
    "        folder = folderName\n",
    "        path = os.path.join(folderName, filename)\n",
    "        size = os.path.getsize(path)\n",
    "#        print('Found:', filename, folder, path, size)\n",
    "\n",
    "        fileInfo = [\n",
    "            index,\n",
    "            filename,\n",
    "            folder,\n",
    "            path,\n",
    "            size\n",
    "            ]\n",
    "        manifestInfo.append(fileInfo)\n",
    "\n",
    "print('Found',len(manifestInfo),'items.\\n\\n',manifestInfo)"
   ]
  },
  {
   "cell_type": "code",
   "execution_count": 38,
   "metadata": {},
   "outputs": [
    {
     "name": "stdout",
     "output_type": "stream",
     "text": [
      "[1, 'web-files-small-metadata.csv', '../assets/Bundle-web-files-small', '../assets/Bundle-web-files-small/web-files-small-metadata.csv', 9069]\n",
      "[2, '000727.ram', '../assets/Bundle-web-files-small/audio', '../assets/Bundle-web-files-small/audio/000727.ram', 79]\n",
      "[3, '11-3250JohnsonvFolinoEtAl.wma', '../assets/Bundle-web-files-small/audio', '../assets/Bundle-web-files-small/audio/11-3250JohnsonvFolinoEtAl.wma', 21423499]\n",
      "[4, 'mj_telework_exchange_final_100710.mp3', '../assets/Bundle-web-files-small/audio', '../assets/Bundle-web-files-small/audio/mj_telework_exchange_final_100710.mp3', 3471488]\n",
      "[5, 'NEWSLINE_802AF71F439D401585C6FCB02F358307.mp3', '../assets/Bundle-web-files-small/audio', '../assets/Bundle-web-files-small/audio/NEWSLINE_802AF71F439D401585C6FCB02F358307.mp3', 961195]\n",
      "[6, '1005107061.tif', '../assets/Bundle-web-files-small/image', '../assets/Bundle-web-files-small/image/1005107061.tif', 395734]\n",
      "[7, '13080t.jpg', '../assets/Bundle-web-files-small/image', '../assets/Bundle-web-files-small/image/13080t.jpg', 3764]\n",
      "[8, 'k7989-7x.jpg', '../assets/Bundle-web-files-small/image', '../assets/Bundle-web-files-small/image/k7989-7x.jpg', 7864]\n",
      "[9, 'm237a2f.gif', '../assets/Bundle-web-files-small/image', '../assets/Bundle-web-files-small/image/m237a2f.gif', 7376]\n",
      "[10, 'orca.via_.moc_.noaa_.jpg', '../assets/Bundle-web-files-small/image', '../assets/Bundle-web-files-small/image/orca.via_.moc_.noaa_.jpg', 82546]\n",
      "[11, '01-1480.pdf', '../assets/Bundle-web-files-small/pdf', '../assets/Bundle-web-files-small/pdf/01-1480.pdf', 49088]\n",
      "[12, 'Chapter03.pdf', '../assets/Bundle-web-files-small/pdf', '../assets/Bundle-web-files-small/pdf/Chapter03.pdf', 51919]\n",
      "[13, 'file.pdf', '../assets/Bundle-web-files-small/pdf', '../assets/Bundle-web-files-small/pdf/file.pdf', 1538]\n",
      "[14, 'HR2021 commtext.pdf', '../assets/Bundle-web-files-small/pdf', '../assets/Bundle-web-files-small/pdf/HR2021 commtext.pdf', 36305]\n",
      "[15, 'PFCHEJ.pdf', '../assets/Bundle-web-files-small/pdf', '../assets/Bundle-web-files-small/pdf/PFCHEJ.pdf', 10577]\n",
      "[16, 'ADAEMPLOYMENTTaxIncentives.ppt', '../assets/Bundle-web-files-small/presentation', '../assets/Bundle-web-files-small/presentation/ADAEMPLOYMENTTaxIncentives.ppt', 137216]\n",
      "[17, 'BudgetandGrants012710.ppt', '../assets/Bundle-web-files-small/presentation', '../assets/Bundle-web-files-small/presentation/BudgetandGrants012710.ppt', 85504]\n",
      "[18, 'Non-FTE-Trainee-Activities-060109.ppt', '../assets/Bundle-web-files-small/presentation', '../assets/Bundle-web-files-small/presentation/Non-FTE-Trainee-Activities-060109.ppt', 67072]\n",
      "[19, '04-04-21full.asf', '../assets/Bundle-web-files-small/video', '../assets/Bundle-web-files-small/video/04-04-21full.asf', 101]\n",
      "[20, 'glmp_cig.EQ.wm.p20.t12z', '../assets/Bundle-web-files-small/video', '../assets/Bundle-web-files-small/video/glmp_cig.EQ.wm.p20.t12z', 8296]\n",
      "[21, 'oct17cc.asx', '../assets/Bundle-web-files-small/video', '../assets/Bundle-web-files-small/video/oct17cc.asx', 106945]\n",
      "[22, 'vlwhcssc.asx', '../assets/Bundle-web-files-small/video', '../assets/Bundle-web-files-small/video/vlwhcssc.asx', 364]\n",
      "Wrote the file manifest\n"
     ]
    }
   ],
   "source": [
    "## write to a CSV\n",
    "# To do: Create a header row, write rows of file information, close the complete file\n",
    "\n",
    "# set up the csv, create a header row\n",
    "headers = [\n",
    "    'index',\n",
    "    'filename',\n",
    "    'in_folder_path',\n",
    "    'full_file_path',\n",
    "    'size'\n",
    "    ]\n",
    "\n",
    "# write the information using csvwriter()\n",
    "with open('file-manifest.csv', 'w') as f:\n",
    "    writer = csv.writer(f)\n",
    "    writer.writerow(headers)\n",
    "    for file in manifestInfo:\n",
    "        print(file)\n",
    "        writer.writerow(file)\n",
    "    print('Wrote the file manifest')\n",
    "        "
   ]
  },
  {
   "cell_type": "markdown",
   "metadata": {},
   "source": [
    "## Reflection Activities\n",
    "\n",
    "1. Create a script that will create an inventory of all the files in the assets folder `Bundle-web-files-small`. The inventory should be a CSV file, and it should include the filename of the file, the directory path for the file, the full path to the file, and the file size. You may include any other information that you think is important. Call this file `inventory_script.py`.\n",
    "1. Extend the above script, using the techniques demonstrated here, and add in a way to determine the file extension of the file, then add the extension to the CSV output? (Hint: you could split the filename string, right?)\n",
    "1. Building on the above examples, can you a) write functions that bundle code to ask for a directory? You could call this function `create_manifest_information` and it should be able to accept a path to a directory as an argument and return the manifestInfo list. And b) write a function that would accept the manifestInfo list as an argument and create a CSV? \n",
    "1. Write a script that can walk through a series of directories nad identify files based on their file extension. For example, perhaps you want to count the number of .pdf files or .jpg. Create file that can look for this information and then tally the files. Then, have the program output the list of filenames and filepaths in a CSV file. Call this file `extension_detector.py`. \n",
    "1. Write a script that creates a `master` and `derivative` directory within a subdirectory that has the file's name as its name. For example, if there are two files, one named `001.jpg` and `audition.wav`, there should be a directory named `001` and another named `audition`. Within these, there should be master and derivative folders. The original files should be in the `master` folder. Call this file `master_and_derivatives.py`."
   ]
  },
  {
   "cell_type": "markdown",
   "metadata": {},
   "source": [
    "Next week, dictionaries (streamline CSV creation), and additional derived information: mimetype and fixity/hash."
   ]
  }
 ],
 "metadata": {
  "kernelspec": {
   "display_name": "Python 3",
   "language": "python",
   "name": "python3"
  },
  "language_info": {
   "codemirror_mode": {
    "name": "ipython",
    "version": 3
   },
   "file_extension": ".py",
   "mimetype": "text/x-python",
   "name": "python",
   "nbconvert_exporter": "python",
   "pygments_lexer": "ipython3",
   "version": "3.6.4"
  }
 },
 "nbformat": 4,
 "nbformat_minor": 2
}
