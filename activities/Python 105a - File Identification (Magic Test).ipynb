{
 "cells": [
  {
   "cell_type": "markdown",
   "metadata": {},
   "source": [
    "# Magic file ID tests\n",
    "\n",
    "This activity demonstrates the use of the magic library to identify files and output Media Type designations. \n",
    "\n",
    "This activity uses the [Python Magic library](https://pypi.org/project/python-magic/) (0.4.15)."
   ]
  },
  {
   "cell_type": "code",
   "execution_count": 5,
   "metadata": {},
   "outputs": [],
   "source": [
    "# setup\n",
    "import os\n",
    "from os.path import join\n",
    "\n",
    "import magic"
   ]
  },
  {
   "cell_type": "markdown",
   "metadata": {},
   "source": [
    "Test on a file:"
   ]
  },
  {
   "cell_type": "code",
   "execution_count": 4,
   "metadata": {},
   "outputs": [
    {
     "name": "stdout",
     "output_type": "stream",
     "text": [
      "image/jpeg\n"
     ]
    }
   ],
   "source": [
    "file = '../assets/Bundle-web-files-small/image/13080t.jpg'\n",
    "\n",
    "info = magic.from_file(file, mime=True)\n",
    "\n",
    "print(info)"
   ]
  },
  {
   "cell_type": "markdown",
   "metadata": {},
   "source": [
    "Test on a directory of files:"
   ]
  },
  {
   "cell_type": "code",
   "execution_count": 9,
   "metadata": {},
   "outputs": [
    {
     "name": "stdout",
     "output_type": "stream",
     "text": [
      "1005107061.tif (image/tiff): TIFF image data, little-endian, direntries=17, height=3296, bps=1, compression=bi-level group 4, PhotometricIntepretation=WhiteIsZero, width=2544\n",
      "13080t.jpg (image/jpeg): JPEG image data, JFIF standard 1.01, resolution (DPI), density 72x72, segment length 16, progressive, precision 8, 125x66, components 3\n",
      "k7989-7x.jpg (image/jpeg): JPEG image data, JFIF standard 1.02, resolution (DPI), density 72x72, segment length 16, baseline, precision 8, 72x108, components 3\n",
      "m237a2f.gif (image/gif): GIF image data, version 89a, 333 x 241\n",
      "orca.via_.moc_.noaa_.jpg (image/jpeg): JPEG image data, JFIF standard 1.01, resolution (DPI), density 96x96, segment length 16, Exif Standard: [TIFF image data, big-endian, direntries=11, manufacturer=NIKON CORPORATION, model=NIKON D300, orientation=upper-left, xresolution=176, yresolution=184, resolutionunit=2, software=Adobe Photoshop CS4 Windows, datetime=2012:03:20 16:17:06, GPS-Data], baseline, precision 8, 472x340, components 3\n"
     ]
    }
   ],
   "source": [
    "dir_to_search = '../assets/Bundle-web-files-small/image'\n",
    "\n",
    "file_list = os.listdir(dir_to_search)\n",
    "#print(file_list)\n",
    "\n",
    "for img in file_list:\n",
    "    info = magic.from_file(join(dir_to_search, img))\n",
    "    mime = magic.from_file(join(dir_to_search, img), mime=True)\n",
    "    print(img + ' (' + mime + '): ' + info)"
   ]
  },
  {
   "cell_type": "markdown",
   "metadata": {},
   "source": [
    "## Reflection Activities\n",
    "\n",
    "1. Try this out!"
   ]
  }
 ],
 "metadata": {
  "kernelspec": {
   "display_name": "Python 3",
   "language": "python",
   "name": "python3"
  },
  "language_info": {
   "codemirror_mode": {
    "name": "ipython",
    "version": 3
   },
   "file_extension": ".py",
   "mimetype": "text/x-python",
   "name": "python",
   "nbconvert_exporter": "python",
   "pygments_lexer": "ipython3",
   "version": "3.6.4"
  }
 },
 "nbformat": 4,
 "nbformat_minor": 2
}
