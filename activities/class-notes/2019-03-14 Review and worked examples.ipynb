{
 "cells": [
  {
   "cell_type": "markdown",
   "metadata": {},
   "source": [
    "# Review - iterating, listing files, writing lists to files\n",
    "\n",
    "Notes from class, 14 March 2019. Reviewing where we've been so far. \n",
    "\n",
    "Below are worked examples from the previous activities in looking through files, including `listdir()`, `scandir()`, and `os.walk()`.\n",
    "\n",
    "Below sections work through the following, which are based on the Reflection Questions from the Python 104 examples."
   ]
  },
  {
   "cell_type": "markdown",
   "metadata": {},
   "source": [
    "## Work throughs: listdir()\n",
    "\n",
    "1. Write a script that uses `os.listdir()` for each of the directories in the `Bundle-web-files-small` directory. You can put in the path names directly as variables, but you should use the `os.path.join()` function to create filepaths that do not depend on your inputting the exact filepath string, which will vary across operating systems."
   ]
  },
  {
   "cell_type": "code",
   "execution_count": 77,
   "metadata": {},
   "outputs": [
    {
     "name": "stdout",
     "output_type": "stream",
     "text": [
      "../assets/Bundle-web-files-small\n"
     ]
    }
   ],
   "source": [
    "import os\n",
    "from os.path import join, getsize\n",
    "import csv\n",
    "\n",
    "walk_this_directory = os.path.join('..','assets','Bundle-web-files-small')\n",
    "print(walk_this_directory)"
   ]
  },
  {
   "cell_type": "code",
   "execution_count": 3,
   "metadata": {},
   "outputs": [
    {
     "data": {
      "text/plain": [
       "['audio',\n",
       " 'image',\n",
       " 'pdf',\n",
       " 'presentation',\n",
       " 'video',\n",
       " 'web-files-small-metadata.csv']"
      ]
     },
     "execution_count": 3,
     "metadata": {},
     "output_type": "execute_result"
    }
   ],
   "source": [
    "os.listdir(walk_this_directory)"
   ]
  },
  {
   "cell_type": "code",
   "execution_count": 7,
   "metadata": {},
   "outputs": [
    {
     "name": "stdout",
     "output_type": "stream",
     "text": [
      "../assets/Bundle-web-files-small/image\n"
     ]
    },
    {
     "data": {
      "text/plain": [
       "['1005107061.tif',\n",
       " '13080t.jpg',\n",
       " 'k7989-7x.jpg',\n",
       " 'm237a2f.gif',\n",
       " 'orca.via_.moc_.noaa_.jpg']"
      ]
     },
     "execution_count": 7,
     "metadata": {},
     "output_type": "execute_result"
    }
   ],
   "source": [
    "path_to_query = os.path.join(walk_this_directory,'image')\n",
    "\n",
    "print(path_to_query)\n",
    "os.listdir(path_to_query)"
   ]
  },
  {
   "cell_type": "code",
   "execution_count": 23,
   "metadata": {},
   "outputs": [
    {
     "name": "stdout",
     "output_type": "stream",
     "text": [
      "audio : ['000727.ram', '11-3250JohnsonvFolinoEtAl.wma', 'mj_telework_exchange_final_100710.mp3', 'NEWSLINE_802AF71F439D401585C6FCB02F358307.mp3']\n",
      "image : ['1005107061.tif', '13080t.jpg', 'k7989-7x.jpg', 'm237a2f.gif', 'orca.via_.moc_.noaa_.jpg']\n",
      "pdf : ['01-1480.pdf', 'Chapter03.pdf', 'file.pdf', 'HR2021 commtext.pdf', 'PFCHEJ.pdf']\n",
      "presentation : ['ADAEMPLOYMENTTaxIncentives.ppt', 'BudgetandGrants012710.ppt', 'Non-FTE-Trainee-Activities-060109.ppt']\n",
      "video : ['04-04-21full.asf', 'glmp_cig.EQ.wm.p20.t12z', 'oct17cc.asx', 'vlwhcssc.asx']\n",
      "web-files-small-metadata.csv It's a file!\n"
     ]
    }
   ],
   "source": [
    "parent_directory_list = os.listdir(walk_this_directory)\n",
    "\n",
    "for thing in parent_directory_list:\n",
    "    if len(thing.split('.')) > 1:\n",
    "#        continue\n",
    "        print(thing,'It\\'s a file!')\n",
    "    else:\n",
    "        print(thing,':',os.listdir(os.path.join(walk_this_directory,thing)))"
   ]
  },
  {
   "cell_type": "markdown",
   "metadata": {},
   "source": [
    "## Work throughs: scandir()\n",
    "1. Write a script that uses `os.scandir()` to check whether or not the entities in the director are files or directories. The script should output a count of files and a count of directories."
   ]
  },
  {
   "cell_type": "code",
   "execution_count": 30,
   "metadata": {},
   "outputs": [
    {
     "name": "stdout",
     "output_type": "stream",
     "text": [
      "../assets/Bundle-web-files-small\n"
     ]
    }
   ],
   "source": [
    "# check that we still have our desired directory:\n",
    "print(walk_this_directory)"
   ]
  },
  {
   "cell_type": "code",
   "execution_count": 37,
   "metadata": {},
   "outputs": [
    {
     "name": "stdout",
     "output_type": "stream",
     "text": [
      "<DirEntry 'audio'>\n",
      "<DirEntry 'image'>\n",
      "<DirEntry 'pdf'>\n",
      "<DirEntry 'presentation'>\n",
      "<DirEntry 'video'>\n",
      "<DirEntry 'web-files-small-metadata.csv'>\n"
     ]
    }
   ],
   "source": [
    "# here is one way to use os.scandir, and to check if we are getting information back:\n",
    "for item in os.scandir(walk_this_directory):\n",
    "    print(item)"
   ]
  },
  {
   "cell_type": "code",
   "execution_count": 78,
   "metadata": {},
   "outputs": [
    {
     "name": "stdout",
     "output_type": "stream",
     "text": [
      "Looking at: audio\n",
      "Stat size: 204\n",
      "This is a directory and contains 4 these files ['000727.ram', '11-3250JohnsonvFolinoEtAl.wma', 'mj_telework_exchange_final_100710.mp3', 'NEWSLINE_802AF71F439D401585C6FCB02F358307.mp3']\n",
      "Looking at: image\n",
      "Stat size: 238\n",
      "This is a directory and contains 5 these files ['1005107061.tif', '13080t.jpg', 'k7989-7x.jpg', 'm237a2f.gif', 'orca.via_.moc_.noaa_.jpg']\n",
      "Looking at: pdf\n",
      "Stat size: 238\n",
      "This is a directory and contains 5 these files ['01-1480.pdf', 'Chapter03.pdf', 'file.pdf', 'HR2021 commtext.pdf', 'PFCHEJ.pdf']\n",
      "Looking at: presentation\n",
      "Stat size: 170\n",
      "This is a directory and contains 3 these files ['ADAEMPLOYMENTTaxIncentives.ppt', 'BudgetandGrants012710.ppt', 'Non-FTE-Trainee-Activities-060109.ppt']\n",
      "Looking at: video\n",
      "Stat size: 204\n",
      "This is a directory and contains 4 these files ['04-04-21full.asf', 'glmp_cig.EQ.wm.p20.t12z', 'oct17cc.asx', 'vlwhcssc.asx']\n",
      "Looking at: web-files-small-metadata.csv\n",
      "Stat size: 9069\n",
      "This is a file named web-files-small-metadata.csv that takes up 9069 bytes\n"
     ]
    }
   ],
   "source": [
    "# notice that these are \"DirEntry\" types, though. That means \n",
    "# we can get more information. To do that, use a list, \n",
    "# in this case using the contextual opener 'with'\n",
    "\n",
    "with os.scandir(walk_this_directory) as items_list:\n",
    "    for entry in items_list:\n",
    "        # allows an ask for a few specific things, like the \"name\" and the \"path\" without using os.path.join\n",
    "        print('Looking at:',entry.name)\n",
    "        # scandir also can retrieve file information using the stat() call, which gives size and other information\n",
    "        statinfo = entry.stat()\n",
    "        print('Stat size:',statinfo.st_size)\n",
    "        # the dirEntry information returned by scandir also allows us to do \n",
    "        # a logical check to see if it's a directory or file:\n",
    "        if entry.is_dir():\n",
    "            file_list = os.listdir(entry.path)\n",
    "            print('This is a directory and contains',len(file_list),'these files',file_list)\n",
    "        elif entry.is_file():\n",
    "            print('This is a file named',entry.name,'that takes up',statinfo.st_size,'bytes')\n",
    "        # just in case something is not a file, add in this option:\n",
    "        else:\n",
    "            print('This object is unrecognized:', entry.name)"
   ]
  },
  {
   "cell_type": "markdown",
   "metadata": {},
   "source": [
    "## Work throughs: comparing listdir(), scandir(), walk()\n",
    "1. Examine the examples above that use `os.walk()`. What is the difference between this and the previous two functions? In some ways it lets you get deeper into the file structure, so please explain your observation in a sentence or two.  "
   ]
  },
  {
   "cell_type": "markdown",
   "metadata": {},
   "source": [
    "### Ways to find files\n",
    "\n",
    "```\n",
    "listdir() only provides us a list of the files and directories at the given path. We need more information if we want to get other information. If we don't need other information, then this is good (it's faster than other options since it isn't retrieving a lot of information). It reveals hidden files (beginning with '.') and is not recursive, so it will not query subdirectories.\n",
    "\n",
    "scandir() allows us to query more information, and it also reveals more information, like name, path, and can be used to find size information. It is recursive and allows us to check if things are files, directories, or other sorts of objects.  \n",
    "\n",
    "walk() is recursive, though it does not by default show hidden files. It can be used to provide context about items in a directory (full path and containing folder), and it is recursive. \n",
    "\n",
    "yet another way to look through the file tree is the glob library, which can also be used to look at path information.\n",
    "```"
   ]
  },
  {
   "cell_type": "markdown",
   "metadata": {},
   "source": [
    "## Work throughs: walking through the file tree, gathering metadata, creating a CSV\n",
    "1. Create a script that will create an inventory of all the files in the assets folder `Bundle-web-files-small`. The inventory should be a CSV file, and it should include the filename of the file, the directory path for the file, the full path to the file, and the file size. You may include any other information that you think is important. Call this file `inventory_script.py`."
   ]
  },
  {
   "cell_type": "code",
   "execution_count": 83,
   "metadata": {},
   "outputs": [
    {
     "name": "stdout",
     "output_type": "stream",
     "text": [
      "Looked through the file tree. Found 22 files.\n",
      "Wrote the file manifest\n"
     ]
    }
   ],
   "source": [
    "# first use os.walk() as in the notebook, Python 104\n",
    "\n",
    "## get information about each of the files\n",
    "\n",
    "# first let's set some counters\n",
    "fileCount = 0\n",
    "# and a list to hold the information about the file, and another to hold the fileInfo\n",
    "fileInfo = list()\n",
    "manifestInfo = list()\n",
    "\n",
    "for folderName, subfolders, filenames in os.walk(walk_this_directory):    \n",
    "    for filename in filenames:\n",
    "        fileCount += 1\n",
    "        index = fileCount\n",
    "        filename = filename \n",
    "        folder = folderName\n",
    "        path = os.path.join(folderName, filename)\n",
    "        size = os.path.getsize(path)\n",
    "#        print('Found:', filename, folder, path, size)\n",
    "\n",
    "        fileInfo = [\n",
    "            index,\n",
    "            filename,\n",
    "            folder,\n",
    "            path,\n",
    "            size\n",
    "            ]\n",
    "        manifestInfo.append(fileInfo)\n",
    "print('Looked through the file tree. Found',len(manifestInfo),'files.')\n",
    "\n",
    "## write to a CSV\n",
    "\n",
    "# set up the csv, create a header row\n",
    "headers = [\n",
    "    'index',\n",
    "    'filename',\n",
    "    'in_folder_path',\n",
    "    'full_file_path',\n",
    "    'size'\n",
    "    ]\n",
    "\n",
    "# write the information using csvwriter()\n",
    "with open('file-manifest.csv', 'w') as f:\n",
    "    writer = csv.writer(f)\n",
    "    writer.writerow(headers)\n",
    "    for file in manifestInfo:\n",
    "#        print(file)\n",
    "        writer.writerow(file)\n",
    "    print('Wrote the file manifest')   "
   ]
  },
  {
   "cell_type": "markdown",
   "metadata": {},
   "source": [
    "## Work throughs: same as above (harvesting metadata), but adding extension to metadata\n",
    "1. Extend the above script, using the techniques demonstrated here, and add in a way to determine the file extension of the file, then add the extension to the CSV output? (Hint: you could split the filename string, right?)"
   ]
  },
  {
   "cell_type": "code",
   "execution_count": 85,
   "metadata": {},
   "outputs": [
    {
     "name": "stdout",
     "output_type": "stream",
     "text": [
      "Looked through the file tree. Found 22 files.\n",
      "Wrote the file manifest with extensions!\n"
     ]
    }
   ],
   "source": [
    "# first use os.walk() as in the notebook, Python 104\n",
    "\n",
    "## get information about each of the files\n",
    "\n",
    "# first let's set some counters\n",
    "fileCount = 0\n",
    "# and a list to hold the information about the file, and another to hold the fileInfo\n",
    "fileInfo = list()\n",
    "manifestInfo = list()\n",
    "\n",
    "for folderName, subfolders, filenames in os.walk(walk_this_directory):    \n",
    "    for filename in filenames:\n",
    "        fileCount += 1\n",
    "        index = fileCount\n",
    "        filename = filename \n",
    "        folder = folderName\n",
    "        path = os.path.join(folderName, filename)\n",
    "        size = os.path.getsize(path)\n",
    "        extension = filename.split('.')[-1]\n",
    "#        print('Found:', filename, folder, path, size, extension)\n",
    "\n",
    "        fileInfo = [\n",
    "            index,\n",
    "            filename,\n",
    "            folder,\n",
    "            path,\n",
    "            size,\n",
    "            extension\n",
    "            ]\n",
    "        manifestInfo.append(fileInfo)\n",
    "print('Looked through the file tree. Found',len(manifestInfo),'files.')\n",
    "\n",
    "## write to a CSV\n",
    "\n",
    "# set up the csv, create a header row\n",
    "headers = [\n",
    "    'index',\n",
    "    'filename',\n",
    "    'in_folder_path',\n",
    "    'full_file_path',\n",
    "    'size',\n",
    "    'extension'\n",
    "    ]\n",
    "\n",
    "# write the information using csvwriter()\n",
    "with open('file-manifest-with-extension.csv', 'w') as f:\n",
    "    writer = csv.writer(f)\n",
    "    writer.writerow(headers)\n",
    "    for file in manifestInfo:\n",
    "#        print(file)\n",
    "        writer.writerow(file)\n",
    "    print('Wrote the file manifest with extensions!')   "
   ]
  },
  {
   "cell_type": "markdown",
   "metadata": {},
   "source": [
    "## Walkthroughs: identifying file extensions, and sorting files by extension\n",
    "1. Write a script that can walk through a series of directories and identify files based on their file extension. For example, perhaps you want to count the number of .pdf files or .jpg. Create file that can look for this information and then tally the files. Then, have the program output the list of filenames and filepaths in a CSV file. Call this file `extension_detector.py`. "
   ]
  },
  {
   "cell_type": "code",
   "execution_count": 86,
   "metadata": {},
   "outputs": [
    {
     "name": "stdout",
     "output_type": "stream",
     "text": [
      "Found: web-files-small-metadata.csv ../assets/Bundle-web-files-small ../assets/Bundle-web-files-small/web-files-small-metadata.csv 9069 csv\n",
      "Found: 000727.ram ../assets/Bundle-web-files-small/audio ../assets/Bundle-web-files-small/audio/000727.ram 79 ram\n",
      "Found: 11-3250JohnsonvFolinoEtAl.wma ../assets/Bundle-web-files-small/audio ../assets/Bundle-web-files-small/audio/11-3250JohnsonvFolinoEtAl.wma 21423499 wma\n",
      "Found: mj_telework_exchange_final_100710.mp3 ../assets/Bundle-web-files-small/audio ../assets/Bundle-web-files-small/audio/mj_telework_exchange_final_100710.mp3 3471488 mp3\n",
      "Found: NEWSLINE_802AF71F439D401585C6FCB02F358307.mp3 ../assets/Bundle-web-files-small/audio ../assets/Bundle-web-files-small/audio/NEWSLINE_802AF71F439D401585C6FCB02F358307.mp3 961195 mp3\n",
      "Found: 1005107061.tif ../assets/Bundle-web-files-small/image ../assets/Bundle-web-files-small/image/1005107061.tif 395734 tif\n",
      "Found: 13080t.jpg ../assets/Bundle-web-files-small/image ../assets/Bundle-web-files-small/image/13080t.jpg 3764 jpg\n",
      "Found: k7989-7x.jpg ../assets/Bundle-web-files-small/image ../assets/Bundle-web-files-small/image/k7989-7x.jpg 7864 jpg\n",
      "Found: m237a2f.gif ../assets/Bundle-web-files-small/image ../assets/Bundle-web-files-small/image/m237a2f.gif 7376 gif\n",
      "Found: orca.via_.moc_.noaa_.jpg ../assets/Bundle-web-files-small/image ../assets/Bundle-web-files-small/image/orca.via_.moc_.noaa_.jpg 82546 jpg\n",
      "Found: 01-1480.pdf ../assets/Bundle-web-files-small/pdf ../assets/Bundle-web-files-small/pdf/01-1480.pdf 49088 pdf\n",
      "Found: Chapter03.pdf ../assets/Bundle-web-files-small/pdf ../assets/Bundle-web-files-small/pdf/Chapter03.pdf 51919 pdf\n",
      "Found: file.pdf ../assets/Bundle-web-files-small/pdf ../assets/Bundle-web-files-small/pdf/file.pdf 1538 pdf\n",
      "Found: HR2021 commtext.pdf ../assets/Bundle-web-files-small/pdf ../assets/Bundle-web-files-small/pdf/HR2021 commtext.pdf 36305 pdf\n",
      "Found: PFCHEJ.pdf ../assets/Bundle-web-files-small/pdf ../assets/Bundle-web-files-small/pdf/PFCHEJ.pdf 10577 pdf\n",
      "Found: ADAEMPLOYMENTTaxIncentives.ppt ../assets/Bundle-web-files-small/presentation ../assets/Bundle-web-files-small/presentation/ADAEMPLOYMENTTaxIncentives.ppt 137216 ppt\n",
      "Found: BudgetandGrants012710.ppt ../assets/Bundle-web-files-small/presentation ../assets/Bundle-web-files-small/presentation/BudgetandGrants012710.ppt 85504 ppt\n",
      "Found: Non-FTE-Trainee-Activities-060109.ppt ../assets/Bundle-web-files-small/presentation ../assets/Bundle-web-files-small/presentation/Non-FTE-Trainee-Activities-060109.ppt 67072 ppt\n",
      "Found: 04-04-21full.asf ../assets/Bundle-web-files-small/video ../assets/Bundle-web-files-small/video/04-04-21full.asf 101 asf\n",
      "Found: glmp_cig.EQ.wm.p20.t12z ../assets/Bundle-web-files-small/video ../assets/Bundle-web-files-small/video/glmp_cig.EQ.wm.p20.t12z 8296 t12z\n",
      "Found: oct17cc.asx ../assets/Bundle-web-files-small/video ../assets/Bundle-web-files-small/video/oct17cc.asx 106945 asx\n",
      "Found: vlwhcssc.asx ../assets/Bundle-web-files-small/video ../assets/Bundle-web-files-small/video/vlwhcssc.asx 364 asx\n"
     ]
    }
   ],
   "source": [
    "for folderName, subfolders, filenames in os.walk(walk_this_directory):\n",
    "    \n",
    "    for filename in filenames:\n",
    "        filename = filename\n",
    "        folder = folderName\n",
    "        path = os.path.join(folderName,filename)\n",
    "        size = os.path.getsize(path)\n",
    "#        print('Found:',filename,folder,path,size)\n",
    "        extension = filename.split('.')[-1]\n",
    "        print('Found:',filename,folder,path,size,extension)\n"
   ]
  },
  {
   "cell_type": "markdown",
   "metadata": {},
   "source": [
    "1. Building on the above examples, can you a) write functions that bundle code to ask for a directory? You could call this function `create_manifest_information` and it should be able to accept a path to a directory as an argument and return the manifestInfo list. And b) write a function that would accept the manifestInfo list as an argument and create a CSV? "
   ]
  }
 ],
 "metadata": {
  "kernelspec": {
   "display_name": "Python 3",
   "language": "python",
   "name": "python3"
  },
  "language_info": {
   "codemirror_mode": {
    "name": "ipython",
    "version": 3
   },
   "file_extension": ".py",
   "mimetype": "text/x-python",
   "name": "python",
   "nbconvert_exporter": "python",
   "pygments_lexer": "ipython3",
   "version": "3.6.4"
  }
 },
 "nbformat": 4,
 "nbformat_minor": 2
}
