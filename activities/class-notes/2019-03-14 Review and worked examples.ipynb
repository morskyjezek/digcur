{
 "cells": [
  {
   "cell_type": "markdown",
   "metadata": {},
   "source": [
    "# Review - iterating, listing files, writing lists to files\n",
    "\n",
    "Notes from class, 14 March 2019. Reviewing where we've been so far. \n",
    "\n",
    "Below are worked examples from the previous activities in looking through files, including `listdir()`, `scandir()`, and `os.walk()`.\n",
    "\n",
    "Below sections work through the following, which are based on the Reflection Questions from the Python 104 examples."
   ]
  },
  {
   "cell_type": "markdown",
   "metadata": {},
   "source": [
    "## Work throughs: listdir()\n",
    "\n",
    "1. Write a script that uses `os.listdir()` for each of the directories in the `Bundle-web-files-small` directory. You can put in the path names directly as variables, but you should use the `os.path.join()` function to create filepaths that do not depend on your inputting the exact filepath string, which will vary across operating systems."
   ]
  },
  {
   "cell_type": "code",
   "execution_count": 3,
   "metadata": {},
   "outputs": [
    {
     "name": "stdout",
     "output_type": "stream",
     "text": [
      "../../assets/Bundle-web-files-small\n"
     ]
    }
   ],
   "source": [
    "import os\n",
    "from os.path import join, getsize\n",
    "import csv\n",
    "\n",
    "walk_this_directory = os.path.join('..','..','assets','Bundle-web-files-small')\n",
    "print(walk_this_directory)"
   ]
  },
  {
   "cell_type": "code",
   "execution_count": 4,
   "metadata": {},
   "outputs": [
    {
     "data": {
      "text/plain": [
       "['.DS_Store',\n",
       " 'audio',\n",
       " 'image',\n",
       " 'pdf',\n",
       " 'presentation',\n",
       " 'video',\n",
       " 'web-files-small-metadata.csv']"
      ]
     },
     "execution_count": 4,
     "metadata": {},
     "output_type": "execute_result"
    }
   ],
   "source": [
    "os.listdir(walk_this_directory)"
   ]
  },
  {
   "cell_type": "code",
   "execution_count": 5,
   "metadata": {},
   "outputs": [
    {
     "name": "stdout",
     "output_type": "stream",
     "text": [
      "../../assets/Bundle-web-files-small/image\n"
     ]
    },
    {
     "data": {
      "text/plain": [
       "['1005107061.tif',\n",
       " '13080t.jpg',\n",
       " 'k7989-7x.jpg',\n",
       " 'm237a2f.gif',\n",
       " 'orca.via_.moc_.noaa_.jpg']"
      ]
     },
     "execution_count": 5,
     "metadata": {},
     "output_type": "execute_result"
    }
   ],
   "source": [
    "path_to_query = os.path.join(walk_this_directory,'image')\n",
    "\n",
    "print(path_to_query)\n",
    "os.listdir(path_to_query)"
   ]
  },
  {
   "cell_type": "code",
   "execution_count": 7,
   "metadata": {},
   "outputs": [
    {
     "name": "stdout",
     "output_type": "stream",
     "text": [
      "It's a file! .DS_Store\n",
      "audio : ['000727.ram', '11-3250JohnsonvFolinoEtAl.wma', 'mj_telework_exchange_final_100710.mp3', 'NEWSLINE_802AF71F439D401585C6FCB02F358307.mp3']\n",
      "image : ['1005107061.tif', '13080t.jpg', 'k7989-7x.jpg', 'm237a2f.gif', 'orca.via_.moc_.noaa_.jpg']\n",
      "pdf : ['01-1480.pdf', 'Chapter03.pdf', 'file.pdf', 'HR2021 commtext.pdf', 'PFCHEJ.pdf']\n",
      "presentation : ['ADAEMPLOYMENTTaxIncentives.ppt', 'BudgetandGrants012710.ppt', 'Non-FTE-Trainee-Activities-060109.ppt']\n",
      "video : ['04-04-21full.asf', 'glmp_cig.EQ.wm.p20.t12z', 'oct17cc.asx', 'vlwhcssc.asx']\n",
      "It's a file! web-files-small-metadata.csv\n"
     ]
    }
   ],
   "source": [
    "parent_directory_list = os.listdir(walk_this_directory)\n",
    "\n",
    "for thing in parent_directory_list:\n",
    "    if len(thing.split('.')) > 1:\n",
    "#        continue\n",
    "        print('It\\'s a file!', thing)\n",
    "    else:\n",
    "        print(thing,':',os.listdir(os.path.join(walk_this_directory,thing)))"
   ]
  },
  {
   "cell_type": "markdown",
   "metadata": {},
   "source": [
    "## Work throughs: scandir()\n",
    "1. Write a script that uses `os.scandir()` to check whether or not the entities in the director are files or directories. The script should output a count of files and a count of directories."
   ]
  },
  {
   "cell_type": "code",
   "execution_count": 8,
   "metadata": {},
   "outputs": [
    {
     "name": "stdout",
     "output_type": "stream",
     "text": [
      "../../assets/Bundle-web-files-small\n"
     ]
    }
   ],
   "source": [
    "# check that we still have our desired directory:\n",
    "print(walk_this_directory)"
   ]
  },
  {
   "cell_type": "code",
   "execution_count": 9,
   "metadata": {},
   "outputs": [
    {
     "name": "stdout",
     "output_type": "stream",
     "text": [
      "<DirEntry '.DS_Store'>\n",
      "<DirEntry 'audio'>\n",
      "<DirEntry 'image'>\n",
      "<DirEntry 'pdf'>\n",
      "<DirEntry 'presentation'>\n",
      "<DirEntry 'video'>\n",
      "<DirEntry 'web-files-small-metadata.csv'>\n"
     ]
    }
   ],
   "source": [
    "# here is one way to use os.scandir, and to check if we are getting information back:\n",
    "for item in os.scandir(walk_this_directory):\n",
    "    print(item)"
   ]
  },
  {
   "cell_type": "code",
   "execution_count": 21,
   "metadata": {},
   "outputs": [
    {
     "name": "stdout",
     "output_type": "stream",
     "text": [
      "Looking at: .DS_Store\n",
      "Stat size: 6148\n",
      "This is a file named .DS_Store that takes up 6148 bytes at inode 31920562\n",
      "Looking at: audio\n",
      "Stat size: 204\n",
      "This is a directory and contains 4 files: ['000727.ram', '11-3250JohnsonvFolinoEtAl.wma', 'mj_telework_exchange_final_100710.mp3', 'NEWSLINE_802AF71F439D401585C6FCB02F358307.mp3']\n",
      "The directory takes up 25856261 bytes.\n",
      "Looking at: image\n",
      "Stat size: 238\n",
      "This is a directory and contains 5 files: ['1005107061.tif', '13080t.jpg', 'k7989-7x.jpg', 'm237a2f.gif', 'orca.via_.moc_.noaa_.jpg']\n",
      "The directory takes up 497284 bytes.\n",
      "Looking at: pdf\n",
      "Stat size: 238\n",
      "This is a directory and contains 5 files: ['01-1480.pdf', 'Chapter03.pdf', 'file.pdf', 'HR2021 commtext.pdf', 'PFCHEJ.pdf']\n",
      "The directory takes up 149427 bytes.\n",
      "Looking at: presentation\n",
      "Stat size: 170\n",
      "This is a directory and contains 3 files: ['ADAEMPLOYMENTTaxIncentives.ppt', 'BudgetandGrants012710.ppt', 'Non-FTE-Trainee-Activities-060109.ppt']\n",
      "The directory takes up 289792 bytes.\n",
      "Looking at: video\n",
      "Stat size: 204\n",
      "This is a directory and contains 4 files: ['04-04-21full.asf', 'glmp_cig.EQ.wm.p20.t12z', 'oct17cc.asx', 'vlwhcssc.asx']\n",
      "The directory takes up 115706 bytes.\n",
      "Looking at: web-files-small-metadata.csv\n",
      "Stat size: 9069\n",
      "This is a file named web-files-small-metadata.csv that takes up 9069 bytes at inode 31917850\n"
     ]
    }
   ],
   "source": [
    "# notice that these are \"DirEntry\" types, though. That means \n",
    "# we can get more information. To do that, use a list, \n",
    "# in this case using the contextual opener 'with'\n",
    "\n",
    "with os.scandir(walk_this_directory) as items_list:\n",
    "    for entry in items_list:\n",
    "        # allows an ask for a few specific things, like the \"name\" and the \"path\" without using os.path.join\n",
    "        print('Looking at:',entry.name)\n",
    "        # scandir also can retrieve file information using the stat() call, which gives size and other information\n",
    "        statinfo = entry.stat()\n",
    "        print('Stat size:',statinfo.st_size)\n",
    "        # the dirEntry information returned by scandir also allows us to do \n",
    "        # a logical check to see if it's a directory or file:\n",
    "        if entry.is_dir():\n",
    "            file_list = os.listdir(entry.path)\n",
    "            print('This is a directory and contains',len(file_list),'files:',file_list)\n",
    "            # loop through the file_list and use os.path.getsize() to calculate the bytes in the directory\n",
    "            dirSize = 0\n",
    "            for file in file_list:\n",
    "                size = getsize(os.path.join(entry.path,file))\n",
    "                dirSize = dirSize + size\n",
    "            print('The directory takes up',dirSize,'bytes.')\n",
    "        elif entry.is_file():\n",
    "            print('This is a file named',entry.name,'that takes up',statinfo.st_size,'bytes at inode',statinfo.st_ino)\n",
    "        # just in case something is not a file, add in this option:\n",
    "        else:\n",
    "            print('This object is unrecognized:', entry.name)"
   ]
  },
  {
   "cell_type": "markdown",
   "metadata": {},
   "source": [
    "## Work throughs: comparing listdir(), scandir(), walk()\n",
    "1. Examine the examples above that use `os.walk()`. What is the difference between this and the previous two functions? In some ways it lets you get deeper into the file structure, so please explain your observation in a sentence or two.  "
   ]
  },
  {
   "cell_type": "markdown",
   "metadata": {},
   "source": [
    "### Ways to find files\n",
    "\n",
    "```\n",
    "listdir() only provides us a list of the files and directories at the given path. We need more information if we want to get other information. If we don't need other information, then this is good (it's faster than other options since it isn't retrieving a lot of information). It reveals hidden files (beginning with '.') and is not recursive, so it will not query subdirectories.\n",
    "\n",
    "scandir() allows us to query more information, and it also reveals more information, like name, path, and can be used to find size information. It is recursive and allows us to check if things are files, directories, or other sorts of objects.  \n",
    "\n",
    "walk() is recursive, though it does not by default show hidden files. It can be used to provide context about items in a directory (full path and containing folder), and it is recursive. \n",
    "\n",
    "yet another way to look through the file tree is the glob library, which can also be used to look at path information.\n",
    "```"
   ]
  },
  {
   "cell_type": "markdown",
   "metadata": {},
   "source": [
    "## Work throughs: harvesting file metadata \n",
    "\n",
    "_Activities: walking through the file tree, gathering metadata, creating a CSV_\n",
    "\n",
    "1. Create a script that will create an inventory of all the files in the assets folder `Bundle-web-files-small`. The inventory should be a CSV file, and it should include the filename of the file, the directory path for the file, the full path to the file, and the file size. You may include any other information that you think is important. Call this file `inventory_script.py`."
   ]
  },
  {
   "cell_type": "code",
   "execution_count": 11,
   "metadata": {},
   "outputs": [
    {
     "name": "stdout",
     "output_type": "stream",
     "text": [
      "Looked through the file tree. Found 23 files.\n",
      "Wrote the file manifest\n"
     ]
    }
   ],
   "source": [
    "# first use os.walk() as in the notebook, Python 104\n",
    "\n",
    "## get information about each of the files\n",
    "\n",
    "# first let's set some counters\n",
    "fileCount = 0\n",
    "# and a list to hold the information about the file, and another to hold the fileInfo\n",
    "fileInfo = list()\n",
    "manifestInfo = list()\n",
    "\n",
    "for folderName, subfolders, filenames in os.walk(walk_this_directory):    \n",
    "    for filename in filenames:\n",
    "        fileCount += 1\n",
    "        index = fileCount\n",
    "        filename = filename \n",
    "        folder = folderName\n",
    "        path = os.path.join(folderName, filename)\n",
    "        size = os.path.getsize(path)\n",
    "#        print('Found:', filename, folder, path, size)\n",
    "\n",
    "        fileInfo = [\n",
    "            index,\n",
    "            filename,\n",
    "            folder,\n",
    "            path,\n",
    "            size\n",
    "            ]\n",
    "        manifestInfo.append(fileInfo)\n",
    "print('Looked through the file tree. Found',len(manifestInfo),'files.')\n",
    "\n",
    "## write to a CSV\n",
    "\n",
    "# set up the csv, create a header row\n",
    "headers = [\n",
    "    'index',\n",
    "    'filename',\n",
    "    'in_folder_path',\n",
    "    'full_file_path',\n",
    "    'size'\n",
    "    ]\n",
    "\n",
    "# write the information using csvwriter()\n",
    "with open('file-manifest.csv', 'w') as f:\n",
    "    writer = csv.writer(f)\n",
    "    writer.writerow(headers)\n",
    "    for file in manifestInfo:\n",
    "#        print(file)\n",
    "        writer.writerow(file)\n",
    "    print('Wrote the file manifest')   "
   ]
  },
  {
   "cell_type": "markdown",
   "metadata": {},
   "source": [
    "## Work throughs: same as above (harvesting metadata), but adding extension to metadata\n",
    "1. Extend the above script, using the techniques demonstrated here, and add in a way to determine the file extension of the file, then add the extension to the CSV output? (Hint: you could split the filename string, right?)"
   ]
  },
  {
   "cell_type": "code",
   "execution_count": 12,
   "metadata": {},
   "outputs": [
    {
     "name": "stdout",
     "output_type": "stream",
     "text": [
      "Looked through the file tree. Found 23 files.\n",
      "Wrote the file manifest with extensions!\n"
     ]
    }
   ],
   "source": [
    "# first use os.walk() as in the notebook, Python 104\n",
    "\n",
    "## get information about each of the files\n",
    "\n",
    "# first let's set some counters\n",
    "fileCount = 0\n",
    "# and a list to hold the information about the file, and another to hold the fileInfo\n",
    "fileInfo = list()\n",
    "manifestInfo = list()\n",
    "\n",
    "for folderName, subfolders, filenames in os.walk(walk_this_directory):    \n",
    "    for filename in filenames:\n",
    "        fileCount += 1\n",
    "        index = fileCount\n",
    "        filename = filename \n",
    "        folder = folderName\n",
    "        path = os.path.join(folderName, filename)\n",
    "        size = os.path.getsize(path)\n",
    "        extension = filename.split('.')[-1]\n",
    "#        print('Found:', filename, folder, path, size, extension)\n",
    "\n",
    "        fileInfo = [\n",
    "            index,\n",
    "            filename,\n",
    "            folder,\n",
    "            path,\n",
    "            size,\n",
    "            extension\n",
    "            ]\n",
    "        manifestInfo.append(fileInfo)\n",
    "print('Looked through the file tree. Found',len(manifestInfo),'files.')\n",
    "\n",
    "## write to a CSV\n",
    "\n",
    "# set up the csv, create a header row\n",
    "headers = [\n",
    "    'index',\n",
    "    'filename',\n",
    "    'in_folder_path',\n",
    "    'full_file_path',\n",
    "    'size',\n",
    "    'extension'\n",
    "    ]\n",
    "\n",
    "# write the information using csvwriter()\n",
    "with open('file-manifest-with-extension.csv', 'w') as f:\n",
    "    writer = csv.writer(f)\n",
    "    writer.writerow(headers)\n",
    "    for file in manifestInfo:\n",
    "#        print(file)\n",
    "        writer.writerow(file)\n",
    "    print('Wrote the file manifest with extensions!')   "
   ]
  },
  {
   "cell_type": "markdown",
   "metadata": {},
   "source": [
    "## Walkthroughs: identifying file extensions, and sorting files by extension\n",
    "\n",
    "~~1. Write a script that can walk through a series of directories and identify files based on their file extension. For example, perhaps you want to count the number of .pdf files or .jpg. Create file that can look for this information and then tally the files. Then, have the program output the list of filenames and filepaths in a CSV file. Call this file `extension_detector.py`. ~~\n",
    "\n",
    "\n",
    "_This activity works, but it is much easier after introducing dictionaries to count values._"
   ]
  },
  {
   "cell_type": "code",
   "execution_count": 16,
   "metadata": {},
   "outputs": [
    {
     "name": "stdout",
     "output_type": "stream",
     "text": [
      "['ram', 'wma', 'mp3', 'tif', 'jpg', 'gif', 'pdf', 'ppt', 'asf', 't12z', 'asx', 'csv']\n"
     ]
    }
   ],
   "source": [
    "folderList = os.scandir(walk_this_directory)\n",
    "\n",
    "# create a list of the file extensions:\n",
    "extensionsList = list()\n",
    "\n",
    "for item in folderList:\n",
    "    if item.name.startswith('.'):\n",
    "        continue\n",
    "    elif item.is_file():\n",
    "        extension = item.name.split('.')[-1]\n",
    "        if extension not in extensionsList:\n",
    "            extensionsList.append(extension)\n",
    "    else:\n",
    "        if item.is_dir():\n",
    "            files = os.listdir(item.path)\n",
    "            for file in files:\n",
    "                # split off the extension (last in the list) and assign to 'extension'\n",
    "                extension = file.split('.')[-1]\n",
    "                # check if it's in the list, if not, then add (append) to the list\n",
    "                if extension not in extensionsList:\n",
    "                    extensionsList.append(extension)\n",
    "print(extensionsList)"
   ]
  },
  {
   "cell_type": "code",
   "execution_count": null,
   "metadata": {},
   "outputs": [],
   "source": [
    "# to count and output, use the extensionsList as a headers row, \n",
    "# then count up and output to CSV. "
   ]
  },
  {
   "cell_type": "code",
   "execution_count": 22,
   "metadata": {},
   "outputs": [
    {
     "name": "stdout",
     "output_type": "stream",
     "text": [
      "['ram', 'wma', 'mp3', 'tif', 'jpg', 'gif', 'pdf', 'ppt', 'asf', 't12z', 'asx', 'csv']\n",
      "{'ram': 1, 'wma': 1, 'mp3': 2, 'tif': 1, 'jpg': 3, 'gif': 1, 'pdf': 5, 'ppt': 3, 'asf': 1, 't12z': 1, 'asx': 2, 'csv': 1}\n"
     ]
    }
   ],
   "source": [
    "# use a dictionary to count the occurences\n",
    "# NB: dictionary operations are necessary for this block\n",
    "\n",
    "folderList = os.scandir(walk_this_directory)\n",
    "\n",
    "# create a list to hold the file extensions, and a dictionary to count the extensions\n",
    "extensionsList = list()\n",
    "extensionsCount = dict()\n",
    "\n",
    "for item in folderList:\n",
    "    # skip the system files that begin with a '.'\n",
    "    if item.name.startswith('.'):\n",
    "        continue\n",
    "    elif item.is_file():\n",
    "        # split off the extension (last in the list) and assign to 'extension'\n",
    "        extension = item.name.split('.')[-1]\n",
    "        # if not in the list, append\n",
    "        if extension not in extensionsList:\n",
    "            extensionsList.append(extension)\n",
    "        # check the dictionary and increment if the item doesn't have a dictionary entry\n",
    "        if extension not in extensionsCount:\n",
    "            extensionsCount[extension] = 1\n",
    "        else:\n",
    "            extensionsCount[extension] = extensionsCount[extension] + 1\n",
    "    else:\n",
    "        if item.is_dir():\n",
    "            files = os.listdir(item.path)\n",
    "            for file in files:\n",
    "                # split off the extension \n",
    "                extension = file.split('.')[-1]\n",
    "                # check if it's in the list, if not, then add (append) to the list\n",
    "                if extension not in extensionsList:\n",
    "                    extensionsList.append(extension)\n",
    "                # check the dictionary and increment if the item doesn't have a dictionary entry\n",
    "                if extension not in extensionsCount:\n",
    "                    extensionsCount[extension] = 1\n",
    "                else:\n",
    "                    extensionsCount[extension] = extensionsCount[extension] + 1\n",
    "\n",
    "print(extensionsList)\n",
    "print(extensionsCount)"
   ]
  },
  {
   "cell_type": "markdown",
   "metadata": {},
   "source": [
    "## Advanced: wrap the above code into functions for gathering and recording file metadata\n",
    "\n",
    "1. Building on the above examples, can you a) write functions that bundle code to ask for a directory? You could call this function `create_manifest_information` and it should be able to accept a path to a directory as an argument and return the manifestInfo list. And b) write a function that would accept the manifestInfo list as an argument and create a CSV? You could call the second function `write_manifest_to_csv`. \n",
    "\n",
    "_Advanced_"
   ]
  },
  {
   "cell_type": "code",
   "execution_count": 24,
   "metadata": {},
   "outputs": [
    {
     "name": "stdout",
     "output_type": "stream",
     "text": [
      "Looked through the file tree. Found 23 files.\n"
     ]
    },
    {
     "data": {
      "text/plain": [
       "[[1,\n",
       "  '.DS_Store',\n",
       "  '../../assets/Bundle-web-files-small',\n",
       "  '../../assets/Bundle-web-files-small/.DS_Store',\n",
       "  12292,\n",
       "  'DS_Store'],\n",
       " [2,\n",
       "  'web-files-small-metadata.csv',\n",
       "  '../../assets/Bundle-web-files-small',\n",
       "  '../../assets/Bundle-web-files-small/web-files-small-metadata.csv',\n",
       "  9069,\n",
       "  'csv'],\n",
       " [3,\n",
       "  '000727.ram',\n",
       "  '../../assets/Bundle-web-files-small/audio',\n",
       "  '../../assets/Bundle-web-files-small/audio/000727.ram',\n",
       "  79,\n",
       "  'ram'],\n",
       " [4,\n",
       "  '11-3250JohnsonvFolinoEtAl.wma',\n",
       "  '../../assets/Bundle-web-files-small/audio',\n",
       "  '../../assets/Bundle-web-files-small/audio/11-3250JohnsonvFolinoEtAl.wma',\n",
       "  21423499,\n",
       "  'wma'],\n",
       " [5,\n",
       "  'mj_telework_exchange_final_100710.mp3',\n",
       "  '../../assets/Bundle-web-files-small/audio',\n",
       "  '../../assets/Bundle-web-files-small/audio/mj_telework_exchange_final_100710.mp3',\n",
       "  3471488,\n",
       "  'mp3'],\n",
       " [6,\n",
       "  'NEWSLINE_802AF71F439D401585C6FCB02F358307.mp3',\n",
       "  '../../assets/Bundle-web-files-small/audio',\n",
       "  '../../assets/Bundle-web-files-small/audio/NEWSLINE_802AF71F439D401585C6FCB02F358307.mp3',\n",
       "  961195,\n",
       "  'mp3'],\n",
       " [7,\n",
       "  '1005107061.tif',\n",
       "  '../../assets/Bundle-web-files-small/image',\n",
       "  '../../assets/Bundle-web-files-small/image/1005107061.tif',\n",
       "  395734,\n",
       "  'tif'],\n",
       " [8,\n",
       "  '13080t.jpg',\n",
       "  '../../assets/Bundle-web-files-small/image',\n",
       "  '../../assets/Bundle-web-files-small/image/13080t.jpg',\n",
       "  3764,\n",
       "  'jpg'],\n",
       " [9,\n",
       "  'k7989-7x.jpg',\n",
       "  '../../assets/Bundle-web-files-small/image',\n",
       "  '../../assets/Bundle-web-files-small/image/k7989-7x.jpg',\n",
       "  7864,\n",
       "  'jpg'],\n",
       " [10,\n",
       "  'm237a2f.gif',\n",
       "  '../../assets/Bundle-web-files-small/image',\n",
       "  '../../assets/Bundle-web-files-small/image/m237a2f.gif',\n",
       "  7376,\n",
       "  'gif'],\n",
       " [11,\n",
       "  'orca.via_.moc_.noaa_.jpg',\n",
       "  '../../assets/Bundle-web-files-small/image',\n",
       "  '../../assets/Bundle-web-files-small/image/orca.via_.moc_.noaa_.jpg',\n",
       "  82546,\n",
       "  'jpg'],\n",
       " [12,\n",
       "  '01-1480.pdf',\n",
       "  '../../assets/Bundle-web-files-small/pdf',\n",
       "  '../../assets/Bundle-web-files-small/pdf/01-1480.pdf',\n",
       "  49088,\n",
       "  'pdf'],\n",
       " [13,\n",
       "  'Chapter03.pdf',\n",
       "  '../../assets/Bundle-web-files-small/pdf',\n",
       "  '../../assets/Bundle-web-files-small/pdf/Chapter03.pdf',\n",
       "  51919,\n",
       "  'pdf'],\n",
       " [14,\n",
       "  'file.pdf',\n",
       "  '../../assets/Bundle-web-files-small/pdf',\n",
       "  '../../assets/Bundle-web-files-small/pdf/file.pdf',\n",
       "  1538,\n",
       "  'pdf'],\n",
       " [15,\n",
       "  'HR2021 commtext.pdf',\n",
       "  '../../assets/Bundle-web-files-small/pdf',\n",
       "  '../../assets/Bundle-web-files-small/pdf/HR2021 commtext.pdf',\n",
       "  36305,\n",
       "  'pdf'],\n",
       " [16,\n",
       "  'PFCHEJ.pdf',\n",
       "  '../../assets/Bundle-web-files-small/pdf',\n",
       "  '../../assets/Bundle-web-files-small/pdf/PFCHEJ.pdf',\n",
       "  10577,\n",
       "  'pdf'],\n",
       " [17,\n",
       "  'ADAEMPLOYMENTTaxIncentives.ppt',\n",
       "  '../../assets/Bundle-web-files-small/presentation',\n",
       "  '../../assets/Bundle-web-files-small/presentation/ADAEMPLOYMENTTaxIncentives.ppt',\n",
       "  137216,\n",
       "  'ppt'],\n",
       " [18,\n",
       "  'BudgetandGrants012710.ppt',\n",
       "  '../../assets/Bundle-web-files-small/presentation',\n",
       "  '../../assets/Bundle-web-files-small/presentation/BudgetandGrants012710.ppt',\n",
       "  85504,\n",
       "  'ppt'],\n",
       " [19,\n",
       "  'Non-FTE-Trainee-Activities-060109.ppt',\n",
       "  '../../assets/Bundle-web-files-small/presentation',\n",
       "  '../../assets/Bundle-web-files-small/presentation/Non-FTE-Trainee-Activities-060109.ppt',\n",
       "  67072,\n",
       "  'ppt'],\n",
       " [20,\n",
       "  '04-04-21full.asf',\n",
       "  '../../assets/Bundle-web-files-small/video',\n",
       "  '../../assets/Bundle-web-files-small/video/04-04-21full.asf',\n",
       "  101,\n",
       "  'asf'],\n",
       " [21,\n",
       "  'glmp_cig.EQ.wm.p20.t12z',\n",
       "  '../../assets/Bundle-web-files-small/video',\n",
       "  '../../assets/Bundle-web-files-small/video/glmp_cig.EQ.wm.p20.t12z',\n",
       "  8296,\n",
       "  't12z'],\n",
       " [22,\n",
       "  'oct17cc.asx',\n",
       "  '../../assets/Bundle-web-files-small/video',\n",
       "  '../../assets/Bundle-web-files-small/video/oct17cc.asx',\n",
       "  106945,\n",
       "  'asx'],\n",
       " [23,\n",
       "  'vlwhcssc.asx',\n",
       "  '../../assets/Bundle-web-files-small/video',\n",
       "  '../../assets/Bundle-web-files-small/video/vlwhcssc.asx',\n",
       "  364,\n",
       "  'asx']]"
      ]
     },
     "execution_count": 24,
     "metadata": {},
     "output_type": "execute_result"
    }
   ],
   "source": [
    "def create_manifest_information(directoryPath):\n",
    "    '''This function takes a path and creates a list of lists about each file \n",
    "    found at the path and its subpaths. It writes an index, the filename, \n",
    "    the folder containing the file, the full path, the number of bytes the file uses,\n",
    "    and the file extension.'''\n",
    "    # set counters\n",
    "    fileCount = 0\n",
    "    # instantiate lists to hold the information about the file (fileInfo) and the manifest (manifestInfo)\n",
    "    fileInfo = list()\n",
    "    manifestInfo = list()\n",
    "\n",
    "    for folderName, subfolders, filenames in os.walk(directoryPath):    \n",
    "        for filename in filenames:\n",
    "            fileCount += 1\n",
    "            index = fileCount\n",
    "            filename = filename \n",
    "            folder = folderName\n",
    "            path = os.path.join(folderName, filename)\n",
    "            size = os.path.getsize(path)\n",
    "            extension = filename.split('.')[-1]\n",
    "    #        print('Found:', filename, folder, path, size, extension)\n",
    "\n",
    "            fileInfo = [\n",
    "                index,\n",
    "                filename,\n",
    "                folder,\n",
    "                path,\n",
    "                size,\n",
    "                extension\n",
    "                ]\n",
    "            manifestInfo.append(fileInfo)\n",
    "    \n",
    "    # print a message to notify that the function completed. Comment this out if no other response desired\n",
    "    print('Looked through the file tree. Found',len(manifestInfo),'files.')\n",
    "    \n",
    "    return manifestInfo\n",
    "\n",
    "create_manifest_information(walk_this_directory)"
   ]
  },
  {
   "cell_type": "code",
   "execution_count": 26,
   "metadata": {},
   "outputs": [
    {
     "name": "stdout",
     "output_type": "stream",
     "text": [
      "Wrote file-manifest-with-extension.csv\n"
     ]
    }
   ],
   "source": [
    "def write_manifest_to_csv(manifestInfo, outfile='file-manifest-with-extension.csv'):\n",
    "    '''This function will write a CSV file from a simple file manifest. \n",
    "    The manifest going into the function must contain the following information, \n",
    "    in this order: index, filename, in_folder_path, full_file_path, size, extension.\n",
    "    \n",
    "    The function also allows you to provide a filename as outfile.'''\n",
    "\n",
    "    # set up the csv, create a header row\n",
    "    headers = [\n",
    "        'index',\n",
    "        'filename',\n",
    "        'in_folder_path',\n",
    "        'full_file_path',\n",
    "        'size',\n",
    "        'extension'\n",
    "        ]\n",
    "\n",
    "    # write the information using csvwriter()\n",
    "    with open(outfile, 'w') as f:\n",
    "        writer = csv.writer(f)\n",
    "        writer.writerow(headers)\n",
    "        for file in manifestInfo:\n",
    "    #        print(file)\n",
    "            writer.writerow(file)\n",
    "    print('Wrote',outfile)   \n",
    "    \n",
    "write_manifest_to_csv(manifestInfo)"
   ]
  },
  {
   "cell_type": "code",
   "execution_count": 29,
   "metadata": {},
   "outputs": [
    {
     "name": "stdout",
     "output_type": "stream",
     "text": [
      "Looked through the file tree. Found 9 files.\n",
      "Wrote second-test-manifest.csv\n"
     ]
    }
   ],
   "source": [
    "# try the functions with a different directory:\n",
    "newManifest = create_manifest_information(os.path.join('..','..','assets','Bundle-legacy-files'))\n",
    "\n",
    "write_manifest_to_csv(newManifest, 'second-test-manifest.csv')"
   ]
  },
  {
   "cell_type": "code",
   "execution_count": 30,
   "metadata": {},
   "outputs": [
    {
     "name": "stdout",
     "output_type": "stream",
     "text": [
      "index,filename,in_folder_path,full_file_path,size,extension\r",
      "\r\n",
      "1,.DS_Store,../../assets/Bundle-legacy-files,../../assets/Bundle-legacy-files/.DS_Store,6148,DS_Store\r",
      "\r\n",
      "2,01N-0256_emc-000171-01.wps,../../assets/Bundle-legacy-files,../../assets/Bundle-legacy-files/01N-0256_emc-000171-01.wps,18451,wps\r",
      "\r\n",
      "3,0528.jp2,../../assets/Bundle-legacy-files,../../assets/Bundle-legacy-files/0528.jp2,9400598,jp2\r",
      "\r\n",
      "4,080-b2-tambarani.mp3,../../assets/Bundle-legacy-files,../../assets/Bundle-legacy-files/080-b2-tambarani.mp3,12705156,mp3\r",
      "\r\n",
      "5,1898111001_1.txt,../../assets/Bundle-legacy-files,../../assets/Bundle-legacy-files/1898111001_1.txt,70753,txt\r",
      "\r\n",
      "6,a0000003c.gdbtable.sdc,../../assets/Bundle-legacy-files,../../assets/Bundle-legacy-files/a0000003c.gdbtable.sdc,165699,sdc\r",
      "\r\n",
      "7,ch00001.rtf,../../assets/Bundle-legacy-files,../../assets/Bundle-legacy-files/ch00001.rtf,1086,rtf\r",
      "\r\n",
      "8,fertilizeruse.xls,../../assets/Bundle-legacy-files,../../assets/Bundle-legacy-files/fertilizeruse.xls,665088,xls\r",
      "\r\n",
      "9,master narrative.docx,../../assets/Bundle-legacy-files,../../assets/Bundle-legacy-files/master narrative.docx,159368,docx\r",
      "\r\n"
     ]
    }
   ],
   "source": [
    "# get plaintext output of the manifest to see if it's expected information\n",
    "!head second-test-manifest.csv"
   ]
  }
 ],
 "metadata": {
  "kernelspec": {
   "display_name": "Python 3",
   "language": "python",
   "name": "python3"
  },
  "language_info": {
   "codemirror_mode": {
    "name": "ipython",
    "version": 3
   },
   "file_extension": ".py",
   "mimetype": "text/x-python",
   "name": "python",
   "nbconvert_exporter": "python",
   "pygments_lexer": "ipython3",
   "version": "3.6.4"
  }
 },
 "nbformat": 4,
 "nbformat_minor": 2
}
