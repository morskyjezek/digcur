{
 "cells": [
  {
   "cell_type": "markdown",
   "metadata": {},
   "source": [
    "# Moving Files\n",
    "\n",
    "Here's an example based on a renaming script that we've used at the Library. Possible use case:\n",
    "\n",
    "* files (say PDFs) were received with inconsistent names. For storage and retrieval needs, we want these to be named by a controlled ID, in this case an LCCN (Library of Congress Control Number)."
   ]
  },
  {
   "cell_type": "markdown",
   "metadata": {},
   "source": [
    "## Setup\n",
    "Here's what we need. This pulls in information through a CSV, then manipulates files on the operating system:"
   ]
  },
  {
   "cell_type": "code",
   "execution_count": 1,
   "metadata": {},
   "outputs": [],
   "source": [
    "import os\n",
    "import csv"
   ]
  },
  {
   "cell_type": "markdown",
   "metadata": {},
   "source": [
    "## Usage example\n",
    "\n",
    "Let's take that and rename some files! Here's the basic script, you can use it with the sample data file at [insert link]()."
   ]
  },
  {
   "cell_type": "code",
   "execution_count": 15,
   "metadata": {},
   "outputs": [
    {
     "name": "stdout",
     "output_type": "stream",
     "text": [
      "../assets/rename-sample/name does not exist\n",
      "Renaming ../assets/rename-sample/librariesasrepositories.pdf to ../assets/rename-sample/2018378081.pdf\n"
     ]
    }
   ],
   "source": [
    "loc = os.path.join('..','assets','rename-sample')\n",
    "\n",
    "spreadsheetName = os.path.join('..','assets','rename-sample','renaming.csv')\n",
    "\n",
    "with open(spreadsheetName, 'r') as csvfile:\n",
    "    csvreader = csv.reader(csvfile, delimiter=',', quotechar='\"')\n",
    "    for row in csvreader:\n",
    "        name = os.path.join(loc, row[0])\n",
    "        LCCN = os.path.join(loc, row[1])\n",
    "        if os.path.exists(name):\n",
    "            os.rename(name, LCCN)\n",
    "            print(\"Renaming\", name, \"to\", LCCN)\n",
    "        else:\n",
    "            print(name, \"does not exist\")"
   ]
  }
 ],
 "metadata": {
  "kernelspec": {
   "display_name": "Python 3",
   "language": "python",
   "name": "python3"
  },
  "language_info": {
   "codemirror_mode": {
    "name": "ipython",
    "version": 3
   },
   "file_extension": ".py",
   "mimetype": "text/x-python",
   "name": "python",
   "nbconvert_exporter": "python",
   "pygments_lexer": "ipython3",
   "version": "3.6.4"
  }
 },
 "nbformat": 4,
 "nbformat_minor": 2
}
