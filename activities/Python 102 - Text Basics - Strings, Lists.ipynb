{
 "cells": [
  {
   "cell_type": "markdown",
   "metadata": {},
   "source": [
    "# Python 102 - Strings, Patterns, Traversing with Iterations\n",
    "\n",
    "This notebook includes examples of setting and manipulating strings. It demonstrates examples of \n",
    "accessing a specific character by index, slicing the string to access specific elements, splitting,\n",
    "joining, and other elements. \n",
    "\n",
    "Refer to to following for more examples and explanation:\n",
    "* Charles Severance, _Python for Everybody_, [Strings](https://www.py4e.com/html3/06-strings) \n",
    "* Montfort 2016, Chs 5 & 6.\n",
    "\n",
    "### Review\n",
    "\n",
    "Even without knowing the details of how Python works, we can use basic \n",
    "language structures, or _syntax_, to pattern and manipulate from previous examples. \n",
    "Remember that _remix_ is one of our basic techniques. \n",
    "\n",
    "The basic iteration structure is as follows:\n",
    "\n",
    "```python \n",
    "for ____ in ____:\n",
    "    ____\n",
    "```\n",
    "\n",
    "This does a thing to all elements in a sequence. \n",
    "\n",
    "Basic logical structure (operates by determining \"if\" a statement is `True` or `False`, then proceeding as specified):\n",
    "\n",
    "```python\n",
    "if ____:\n",
    "    ____ #if true, then do this thing\n",
    "else ____:\n",
    "    ____ #otherwise, do this thing\n",
    "```\n",
    "\n",
    "Note that the logical structure can be extended by multiple `if` statements, or the `if`, `elif`, and `else` sequence."
   ]
  },
  {
   "cell_type": "code",
   "execution_count": 111,
   "metadata": {},
   "outputs": [],
   "source": [
    "# Samples to work with\n",
    "\n",
    "TJ_quote = 'I cannot live without books.'\n",
    "\n",
    "NW_Ordinance_section = 'Religion, morality, and knowledge, being necessary to good government and the happiness of mankind, schools and the means of education shall forever be encouraged.'\n",
    "# see https://bentley.umich.edu/news-events/magazine/the-mystery-above-the-pillars/\n",
    "\n",
    "mascot = 'Testudo'"
   ]
  },
  {
   "cell_type": "markdown",
   "metadata": {},
   "source": [
    "### Basic methods for strings\n",
    "\n",
    "Things like `.upper()`, `.lower()`, `.title()`, `.split()`, and `.join()`."
   ]
  },
  {
   "cell_type": "code",
   "execution_count": 112,
   "metadata": {},
   "outputs": [
    {
     "data": {
      "text/plain": [
       "'TESTUDO'"
      ]
     },
     "execution_count": 112,
     "metadata": {},
     "output_type": "execute_result"
    }
   ],
   "source": [
    "mascot.upper()"
   ]
  },
  {
   "cell_type": "code",
   "execution_count": 113,
   "metadata": {},
   "outputs": [
    {
     "data": {
      "text/plain": [
       "'testudo'"
      ]
     },
     "execution_count": 113,
     "metadata": {},
     "output_type": "execute_result"
    }
   ],
   "source": [
    "mascot.lower()"
   ]
  },
  {
   "cell_type": "code",
   "execution_count": 114,
   "metadata": {},
   "outputs": [
    {
     "data": {
      "text/plain": [
       "'RELIGION, MORALITY, AND KNOWLEDGE, BEING NECESSARY TO GOOD GOVERNMENT AND THE HAPPINESS OF MANKIND, SCHOOLS AND THE MEANS OF EDUCATION SHALL FOREVER BE ENCOURAGED.'"
      ]
     },
     "execution_count": 114,
     "metadata": {},
     "output_type": "execute_result"
    }
   ],
   "source": [
    "NW_Ordinance_section.upper()"
   ]
  },
  {
   "cell_type": "code",
   "execution_count": 115,
   "metadata": {},
   "outputs": [
    {
     "data": {
      "text/plain": [
       "'Religion, Morality, And Knowledge, Being Necessary To Good Government And The Happiness Of Mankind, Schools And The Means Of Education Shall Forever Be Encouraged.'"
      ]
     },
     "execution_count": 115,
     "metadata": {},
     "output_type": "execute_result"
    }
   ],
   "source": [
    "NW_Ordinance_section.title()"
   ]
  },
  {
   "cell_type": "code",
   "execution_count": 122,
   "metadata": {},
   "outputs": [
    {
     "name": "stdout",
     "output_type": "stream",
     "text": [
      "P\n",
      "r\n",
      "i\n",
      "d\n",
      "e\n",
      " \n",
      "a\n",
      "n\n",
      "d\n",
      " \n",
      "P\n",
      "r\n",
      "e\n",
      "j\n",
      "u\n",
      "d\n",
      "i\n",
      "c\n",
      "e\n"
     ]
    }
   ],
   "source": [
    "# reference characters by index and slicing\n",
    "\n",
    "book_title = 'Pride and Prejudice'\n",
    "\n",
    "for letter in book_title:\n",
    "    print(letter)"
   ]
  },
  {
   "cell_type": "code",
   "execution_count": 123,
   "metadata": {},
   "outputs": [
    {
     "data": {
      "text/plain": [
       "'P'"
      ]
     },
     "execution_count": 123,
     "metadata": {},
     "output_type": "execute_result"
    }
   ],
   "source": [
    "book_title[0]"
   ]
  },
  {
   "cell_type": "code",
   "execution_count": 124,
   "metadata": {},
   "outputs": [
    {
     "data": {
      "text/plain": [
       "'Pride'"
      ]
     },
     "execution_count": 124,
     "metadata": {},
     "output_type": "execute_result"
    }
   ],
   "source": [
    "book_title[0:5]"
   ]
  },
  {
   "cell_type": "code",
   "execution_count": 125,
   "metadata": {},
   "outputs": [
    {
     "data": {
      "text/plain": [
       "'e'"
      ]
     },
     "execution_count": 125,
     "metadata": {},
     "output_type": "execute_result"
    }
   ],
   "source": [
    "book_title[-1]"
   ]
  },
  {
   "cell_type": "code",
   "execution_count": 130,
   "metadata": {},
   "outputs": [
    {
     "data": {
      "text/plain": [
       "'PieadPeuie'"
      ]
     },
     "execution_count": 130,
     "metadata": {},
     "output_type": "execute_result"
    }
   ],
   "source": [
    "# increment slices\n",
    "chars = len(book_title)\n",
    "\n",
    "book_title[::2]"
   ]
  },
  {
   "cell_type": "code",
   "execution_count": 23,
   "metadata": {},
   "outputs": [
    {
     "data": {
      "text/plain": [
       "24"
      ]
     },
     "execution_count": 23,
     "metadata": {},
     "output_type": "execute_result"
    }
   ],
   "source": [
    "# one way to determine words\n",
    "len(NW_Ordinance_section.split(' '))"
   ]
  },
  {
   "cell_type": "code",
   "execution_count": 24,
   "metadata": {},
   "outputs": [
    {
     "name": "stdout",
     "output_type": "stream",
     "text": [
      "24\n"
     ]
    }
   ],
   "source": [
    "words = NW_Ordinance_section.split()\n",
    "\n",
    "word_count = 0 \n",
    "\n",
    "for word in words:\n",
    "    word_count = word_count + 1\n",
    "\n",
    "print(word_count)"
   ]
  },
  {
   "cell_type": "code",
   "execution_count": 26,
   "metadata": {},
   "outputs": [
    {
     "data": {
      "text/plain": [
       "['Religion, morality, ',\n",
       " ' knowledge, being necessary to good government ',\n",
       " ' the happiness of mankind, schools ',\n",
       " ' the means of education shall forever be encouraged.']"
      ]
     },
     "execution_count": 26,
     "metadata": {},
     "output_type": "execute_result"
    }
   ],
   "source": [
    "NW_Ordinance_section.split('and')"
   ]
  },
  {
   "cell_type": "code",
   "execution_count": 29,
   "metadata": {},
   "outputs": [
    {
     "data": {
      "text/plain": [
       "['hello', '', 'world']"
      ]
     },
     "execution_count": 29,
     "metadata": {},
     "output_type": "execute_result"
    }
   ],
   "source": [
    "hi = 'hello  world'\n",
    "\n",
    "hi.split(' ')"
   ]
  },
  {
   "cell_type": "code",
   "execution_count": 30,
   "metadata": {},
   "outputs": [
    {
     "data": {
      "text/plain": [
       "['hello', ' world']"
      ]
     },
     "execution_count": 30,
     "metadata": {},
     "output_type": "execute_result"
    }
   ],
   "source": [
    "'hello   world'.split('  ')"
   ]
  },
  {
   "cell_type": "code",
   "execution_count": 12,
   "metadata": {},
   "outputs": [
    {
     "name": "stdout",
     "output_type": "stream",
     "text": [
      "I\n",
      "cannot\n",
      "live\n",
      "without\n",
      "books.\n"
     ]
    }
   ],
   "source": [
    "words = TJ_quote.split()\n",
    "\n",
    "for word in words:\n",
    "    print(word)"
   ]
  },
  {
   "cell_type": "code",
   "execution_count": 22,
   "metadata": {},
   "outputs": [
    {
     "data": {
      "text/plain": [
       "['I', 'books.', 'cannot', 'live', 'without']"
      ]
     },
     "execution_count": 22,
     "metadata": {},
     "output_type": "execute_result"
    }
   ],
   "source": [
    "sorted(words)"
   ]
  },
  {
   "cell_type": "code",
   "execution_count": 17,
   "metadata": {},
   "outputs": [
    {
     "data": {
      "text/plain": [
       "'Icannotlivewithoutbooks.'"
      ]
     },
     "execution_count": 17,
     "metadata": {},
     "output_type": "execute_result"
    }
   ],
   "source": [
    "# joins\n",
    "\n",
    "''.join(words)"
   ]
  },
  {
   "cell_type": "code",
   "execution_count": 117,
   "metadata": {},
   "outputs": [
    {
     "data": {
      "text/plain": [
       "'R|e|l|i|g|i|o|n|,| |m|o|r|a|l|i|t|y|,| |a|n|d| |k|n|o|w|l|e|d|g|e|,| |b|e|i|n|g| |n|e|c|e|s|s|a|r|y| |t|o| |g|o|o|d| |g|o|v|e|r|n|m|e|n|t| |a|n|d| |t|h|e| |h|a|p|p|i|n|e|s|s| |o|f| |m|a|n|k|i|n|d|,| |s|c|h|o|o|l|s| |a|n|d| |t|h|e| |m|e|a|n|s| |o|f| |e|d|u|c|a|t|i|o|n| |s|h|a|l|l| |f|o|r|e|v|e|r| |b|e| |e|n|c|o|u|r|a|g|e|d|.'"
      ]
     },
     "execution_count": 117,
     "metadata": {},
     "output_type": "execute_result"
    }
   ],
   "source": [
    "'|'.join(NW_Ordinance_section)"
   ]
  },
  {
   "cell_type": "code",
   "execution_count": 121,
   "metadata": {},
   "outputs": [
    {
     "data": {
      "text/plain": [
       "'Religion,& &morality,& &and& &knowledge,& &being& &necessary& &to& &good& &government& &and& &the& &happiness& &of& &mankind,& &schools& &and& &the& &means& &of& &education& &shall& &forever& &be& &encouraged.'"
      ]
     },
     "execution_count": 121,
     "metadata": {},
     "output_type": "execute_result"
    }
   ],
   "source": [
    "words = []\n",
    "for word in NW_Ordinance_section.split():\n",
    "    words.append(word)\n",
    "\n",
    "'& &'.join(words)"
   ]
  },
  {
   "cell_type": "markdown",
   "metadata": {},
   "source": [
    "### Traversing strings"
   ]
  },
  {
   "cell_type": "code",
   "execution_count": 18,
   "metadata": {},
   "outputs": [
    {
     "name": "stdout",
     "output_type": "stream",
     "text": [
      "O\n",
      "o\n",
      "l\n",
      "o\n",
      "n\n",
      "g\n"
     ]
    }
   ],
   "source": [
    "# traversing strings\n",
    "tea = 'Oolong'\n",
    "\n",
    "for letter in tea:\n",
    "    print(letter)"
   ]
  },
  {
   "cell_type": "code",
   "execution_count": 21,
   "metadata": {},
   "outputs": [
    {
     "name": "stdout",
     "output_type": "stream",
     "text": [
      "0 O\n",
      "1 o\n",
      "2 l\n",
      "3 o\n",
      "4 n\n",
      "5 g\n"
     ]
    }
   ],
   "source": [
    "for i in range(len(tea)):\n",
    "    print(i, tea[i])"
   ]
  },
  {
   "cell_type": "code",
   "execution_count": 31,
   "metadata": {},
   "outputs": [
    {
     "data": {
      "text/plain": [
       "28"
      ]
     },
     "execution_count": 31,
     "metadata": {},
     "output_type": "execute_result"
    }
   ],
   "source": [
    "len(TJ_quote)"
   ]
  },
  {
   "cell_type": "code",
   "execution_count": 32,
   "metadata": {},
   "outputs": [
    {
     "data": {
      "text/plain": [
       "range(0, 28)"
      ]
     },
     "execution_count": 32,
     "metadata": {},
     "output_type": "execute_result"
    }
   ],
   "source": [
    "range(len(TJ_quote))"
   ]
  },
  {
   "cell_type": "code",
   "execution_count": 34,
   "metadata": {},
   "outputs": [
    {
     "name": "stdout",
     "output_type": "stream",
     "text": [
      "2\n"
     ]
    }
   ],
   "source": [
    "pair = 0 \n",
    "\n",
    "for i in range(len(TJ_quote)-1):\n",
    "    if TJ_quote[i] == TJ_quote[i + 1]:\n",
    "        pair = pair + 1\n",
    "\n",
    "print(pair)"
   ]
  },
  {
   "cell_type": "code",
   "execution_count": 47,
   "metadata": {},
   "outputs": [],
   "source": [
    "def count_double_letters(string):\n",
    "    pair = 0 \n",
    "    for i in range(len(string) - 1):\n",
    "        print(string[i], string[i + 1])\n",
    "        if string.lower()[i] == string.lower()[i + 1]:\n",
    "            pair += 1\n",
    "    return pair"
   ]
  },
  {
   "cell_type": "code",
   "execution_count": 48,
   "metadata": {},
   "outputs": [
    {
     "name": "stdout",
     "output_type": "stream",
     "text": [
      "O o\n",
      "o l\n",
      "l o\n",
      "o n\n",
      "n g\n"
     ]
    },
    {
     "data": {
      "text/plain": [
       "1"
      ]
     },
     "execution_count": 48,
     "metadata": {},
     "output_type": "execute_result"
    }
   ],
   "source": [
    "count_double_letters(tea)"
   ]
  },
  {
   "cell_type": "markdown",
   "metadata": {},
   "source": [
    "## Same Last Character\n",
    "See Montfort 2016, page 121."
   ]
  },
  {
   "cell_type": "code",
   "execution_count": 49,
   "metadata": {},
   "outputs": [],
   "source": [
    "def same_last(string1, string2): \n",
    "    last_char_1 = string1[-1]\n",
    "    last_char_2 = string2[-1]\n",
    "    if last_char_1 == last_char_2:\n",
    "        return True\n",
    "    else:\n",
    "        return False"
   ]
  },
  {
   "cell_type": "code",
   "execution_count": 54,
   "metadata": {},
   "outputs": [
    {
     "data": {
      "text/plain": [
       "False"
      ]
     },
     "execution_count": 54,
     "metadata": {},
     "output_type": "execute_result"
    }
   ],
   "source": [
    "same_last('Pride and Prejudice', 'Great Expectations')"
   ]
  },
  {
   "cell_type": "markdown",
   "metadata": {},
   "source": [
    "# Counting (Non)Spaces\n",
    "\n",
    "Montfort 2016, page 121 following:"
   ]
  },
  {
   "cell_type": "code",
   "execution_count": 74,
   "metadata": {},
   "outputs": [],
   "source": [
    "def count_spaces(in_string):\n",
    "    num_words = len(NW_Ordinance_section.split())\n",
    "    return num_words - 1"
   ]
  },
  {
   "cell_type": "code",
   "execution_count": 75,
   "metadata": {},
   "outputs": [
    {
     "data": {
      "text/plain": [
       "23"
      ]
     },
     "execution_count": 75,
     "metadata": {},
     "output_type": "execute_result"
    }
   ],
   "source": [
    "count_spaces(NW_Ordinance_section)"
   ]
  },
  {
   "cell_type": "code",
   "execution_count": 85,
   "metadata": {},
   "outputs": [
    {
     "data": {
      "text/plain": [
       "23"
      ]
     },
     "execution_count": 85,
     "metadata": {},
     "output_type": "execute_result"
    }
   ],
   "source": [
    "def count_spaces2(in_string):\n",
    "    blanks = 0\n",
    "    \n",
    "    for char in in_string:\n",
    "        if char == ' ':\n",
    "            blanks = blanks + 1\n",
    "\n",
    "    return blanks\n",
    "\n",
    "count_spaces2(NW_Ordinance_section)"
   ]
  },
  {
   "cell_type": "code",
   "execution_count": 98,
   "metadata": {},
   "outputs": [
    {
     "data": {
      "text/plain": [
       "23"
      ]
     },
     "execution_count": 98,
     "metadata": {},
     "output_type": "execute_result"
    }
   ],
   "source": [
    "def count_spaces3(in_string):\n",
    "    spaces = 0 \n",
    "    \n",
    "    if ' ' in in_string:\n",
    "        spaces = in_string.count(' ')\n",
    "    \n",
    "    return spaces\n",
    "\n",
    "count_spaces3(NW_Ordinance_section)"
   ]
  },
  {
   "cell_type": "code",
   "execution_count": 100,
   "metadata": {},
   "outputs": [
    {
     "name": "stdout",
     "output_type": "stream",
     "text": [
      "[' ', ' ', ' ', ' ', ' ', ' ', ' ', ' ', ' ', ' ', ' ', ' ', ' ', ' ', ' ', ' ', ' ', ' ', ' ', ' ', ' ', ' ', ' ']\n"
     ]
    },
    {
     "data": {
      "text/plain": [
       "23"
      ]
     },
     "execution_count": 100,
     "metadata": {},
     "output_type": "execute_result"
    }
   ],
   "source": [
    "def count_spaces_4(in_string):\n",
    "    spaces = 0\n",
    "    blanks = []\n",
    "    \n",
    "    for char in in_string:\n",
    "        if char == ' ':\n",
    "            blanks.append(' ')\n",
    "    print(blanks)\n",
    "    \n",
    "    spaces = len(blanks)\n",
    "    \n",
    "    return spaces\n",
    "\n",
    "count_spaces_4(NW_Ordinance_section)"
   ]
  },
  {
   "cell_type": "code",
   "execution_count": 103,
   "metadata": {},
   "outputs": [
    {
     "data": {
      "text/plain": [
       "(23,\n",
       " 'Religion,morality,andknowledge,beingnecessarytogoodgovernmentandthehappinessofmankind,schoolsandthemeansofeducationshallforeverbeencouraged.')"
      ]
     },
     "execution_count": 103,
     "metadata": {},
     "output_type": "execute_result"
    }
   ],
   "source": [
    "def count_spaces_5(in_string):\n",
    "    spaces = 0\n",
    "    spaces_list = []\n",
    "    characters_list = ''\n",
    "    \n",
    "    for char in in_string:\n",
    "        if char == ' ':\n",
    "            spaces_list.append(char)\n",
    "        else:\n",
    "            characters_list = characters_list + char\n",
    "\n",
    "    spaces = len(spaces_list)\n",
    "    \n",
    "    return spaces, characters_list\n",
    "    \n",
    "count_spaces_5(NW_Ordinance_section)"
   ]
  },
  {
   "cell_type": "code",
   "execution_count": 77,
   "metadata": {},
   "outputs": [],
   "source": [
    "def count_nonspaces(in_string):\n",
    "    word_list = in_string.split()\n",
    "    another_string = ''.join(word_list)\n",
    "    print(another_string)\n",
    "    spaceless_string = ''\n",
    "    for word in word_list:\n",
    "        spaceless_string = spaceless_string + word\n",
    "    print(spaceless_string)\n",
    "    return len(spaceless_string)"
   ]
  },
  {
   "cell_type": "code",
   "execution_count": 78,
   "metadata": {},
   "outputs": [
    {
     "name": "stdout",
     "output_type": "stream",
     "text": [
      "Religion,morality,andknowledge,beingnecessarytogoodgovernmentandthehappinessofmankind,schoolsandthemeansofeducationshallforeverbeencouraged.\n",
      "Religion,morality,andknowledge,beingnecessarytogoodgovernmentandthehappinessofmankind,schoolsandthemeansofeducationshallforeverbeencouraged.\n"
     ]
    },
    {
     "data": {
      "text/plain": [
       "140"
      ]
     },
     "execution_count": 78,
     "metadata": {},
     "output_type": "execute_result"
    }
   ],
   "source": [
    "count_nonspaces(NW_Ordinance_section)"
   ]
  },
  {
   "cell_type": "code",
   "execution_count": 105,
   "metadata": {},
   "outputs": [
    {
     "data": {
      "text/plain": [
       "140"
      ]
     },
     "execution_count": 105,
     "metadata": {},
     "output_type": "execute_result"
    }
   ],
   "source": [
    "def count_nonspaces_2(in_string):\n",
    "    return len(count_spaces_5(in_string)[1])\n",
    "    \n",
    "count_nonspaces_2(NW_Ordinance_section)"
   ]
  },
  {
   "cell_type": "code",
   "execution_count": 110,
   "metadata": {},
   "outputs": [
    {
     "name": "stdout",
     "output_type": "stream",
     "text": [
      "Spaces: 4 \n",
      "Non-spaces: 24\n"
     ]
    }
   ],
   "source": [
    "spaces = count_spaces_5(TJ_quote)[0]\n",
    "\n",
    "nonspaces = count_nonspaces_2(TJ_quote)\n",
    "\n",
    "print('Spaces:', spaces, '\\nNon-spaces:', nonspaces)"
   ]
  },
  {
   "cell_type": "code",
   "execution_count": 82,
   "metadata": {},
   "outputs": [
    {
     "data": {
      "text/plain": [
       "'n'"
      ]
     },
     "execution_count": 82,
     "metadata": {},
     "output_type": "execute_result"
    }
   ],
   "source": [
    "fruit = 'banana'\n",
    "length = len(fruit)\n",
    "fruit[-2]"
   ]
  },
  {
   "cell_type": "markdown",
   "metadata": {},
   "source": [
    "# Work with files\n",
    "This allows us to work with persistent information, that we can come back to and use again. "
   ]
  },
  {
   "cell_type": "code",
   "execution_count": 90,
   "metadata": {},
   "outputs": [
    {
     "name": "stdout",
     "output_type": "stream",
     "text": [
      "Line count is: 158\n"
     ]
    }
   ],
   "source": [
    "fhand = open('/Users/rickypunzalan/Desktop/digcur/assets/universal-human-rights.txt')\n",
    "\n",
    "line_count = 0\n",
    "\n",
    "for line in fhand:\n",
    "    line_count = line_count + 1\n",
    "print('Line count is:', line_count)"
   ]
  },
  {
   "cell_type": "code",
   "execution_count": 94,
   "metadata": {},
   "outputs": [
    {
     "name": "stdout",
     "output_type": "stream",
     "text": [
      "not blank\n",
      "not blank\n",
      "not blank\n",
      "not blank\n",
      "not blank\n",
      "not blank\n",
      "not blank\n",
      "not blank\n",
      "not blank\n",
      "not blank\n",
      "not blank\n",
      "not blank\n",
      "not blank\n",
      "not blank\n",
      "not blank\n",
      "not blank\n",
      "not blank\n",
      "not blank\n",
      "not blank\n",
      "not blank\n",
      "not blank\n",
      "not blank\n",
      "not blank\n",
      "not blank\n",
      "not blank\n",
      "not blank\n",
      "not blank\n",
      "not blank\n",
      "not blank\n",
      "not blank\n",
      "not blank\n",
      "not blank\n",
      "not blank\n",
      "not blank\n",
      "not blank\n",
      "not blank\n",
      "not blank\n",
      "not blank\n",
      "not blank\n",
      "not blank\n",
      "not blank\n",
      "not blank\n",
      "not blank\n",
      "not blank\n",
      "not blank\n",
      "not blank\n",
      "not blank\n",
      "not blank\n",
      "not blank\n",
      "not blank\n",
      "not blank\n",
      "not blank\n",
      "not blank\n",
      "not blank\n",
      "not blank\n",
      "not blank\n",
      "not blank\n",
      "not blank\n",
      "not blank\n",
      "not blank\n",
      "not blank\n",
      "not blank\n",
      "not blank\n",
      "not blank\n",
      "not blank\n",
      "not blank\n",
      "not blank\n",
      "not blank\n",
      "not blank\n",
      "not blank\n",
      "not blank\n",
      "not blank\n",
      "not blank\n",
      "not blank\n",
      "not blank\n",
      "not blank\n",
      "not blank\n",
      "not blank\n",
      "not blank\n",
      "not blank\n",
      "not blank\n",
      "not blank\n",
      "not blank\n",
      "not blank\n",
      "not blank\n",
      "not blank\n",
      "not blank\n",
      "not blank\n",
      "not blank\n",
      "not blank\n",
      "not blank\n",
      "not blank\n",
      "not blank\n",
      "not blank\n",
      "not blank\n",
      "not blank\n",
      "not blank\n",
      "not blank\n",
      "not blank\n",
      "not blank\n",
      "not blank\n",
      "not blank\n",
      "not blank\n",
      "not blank\n",
      "not blank\n",
      "not blank\n",
      "not blank\n",
      "not blank\n",
      "not blank\n",
      "not blank\n",
      "not blank\n",
      "not blank\n",
      "not blank\n",
      "not blank\n",
      "not blank\n",
      "not blank\n",
      "not blank\n",
      "not blank\n",
      "not blank\n",
      "not blank\n",
      "not blank\n",
      "not blank\n",
      "not blank\n",
      "not blank\n",
      "not blank\n",
      "not blank\n",
      "not blank\n",
      "not blank\n",
      "not blank\n",
      "not blank\n",
      "not blank\n",
      "not blank\n",
      "not blank\n",
      "not blank\n",
      "not blank\n",
      "not blank\n",
      "not blank\n",
      "not blank\n",
      "not blank\n",
      "not blank\n",
      "not blank\n",
      "not blank\n",
      "not blank\n",
      "not blank\n",
      "not blank\n",
      "not blank\n",
      "not blank\n",
      "not blank\n",
      "not blank\n",
      "not blank\n",
      "not blank\n",
      "not blank\n",
      "not blank\n",
      "not blank\n",
      "not blank\n",
      "not blank\n",
      "not blank\n",
      "not blank\n"
     ]
    }
   ],
   "source": [
    "fhand = open('/Users/rickypunzalan/Desktop/digcur/assets/universal-human-rights.txt')\n",
    "\n",
    "non_blank_lines = 0\n",
    "\n",
    "for line in fhand:\n",
    "    if line == '  ':\n",
    "        print('blank')\n",
    "    else:\n",
    "        print('not blank')"
   ]
  }
 ],
 "metadata": {
  "kernelspec": {
   "display_name": "Python 3",
   "language": "python",
   "name": "python3"
  },
  "language_info": {
   "codemirror_mode": {
    "name": "ipython",
    "version": 3
   },
   "file_extension": ".py",
   "mimetype": "text/x-python",
   "name": "python",
   "nbconvert_exporter": "python",
   "pygments_lexer": "ipython3",
   "version": "3.6.4"
  }
 },
 "nbformat": 4,
 "nbformat_minor": 2
}
