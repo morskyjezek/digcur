{
 "cells": [
  {
   "cell_type": "markdown",
   "metadata": {
    "nbpresent": {
     "id": "12d91375-1556-4646-866e-11cc662f8f9c"
    }
   },
   "source": [
    "# Manipulating MARC Records: Examples"
   ]
  },
  {
   "cell_type": "markdown",
   "metadata": {
    "nbpresent": {
     "id": "cfc16a67-f38d-4382-b529-59192c3fb8d3"
    }
   },
   "source": [
    "## Introduction & Resources\n",
    "\n",
    "Many cultural heritage institutions hold inventory and bibliographic records in the *Machine Readable Cataloging* format, or [MaRC](https://en.wikipedia.org/wiki/MARC_standards). In this notebook, we will explore some basic uses of Python code to parse MaRC records, count and filter them, and then to transform them.\n",
    "\n",
    "The examples assume installation and use of the ``pymarc`` python library, which is available on github at https://github.com/edsu/pymarc. This library was developed by Gabriel Farrell, Mark Matienzo, Geoffrey Spear, Ed Summers. \n",
    "\n",
    "The activities below use a file of MaRC records retrieved from the Project MUSE database representing all book titles received during the month of February 2018, as of February 28, 2018 (see [Project MUSE's Download MaRC Records](https://muse.jhu.edu/about/librarians/marc_records.html) for information). When this data was uploaded to this exercise, it included 706 records.\n"
   ]
  },
  {
   "cell_type": "markdown",
   "metadata": {
    "nbpresent": {
     "id": "807667eb-eca4-43a8-9816-286f1d472d92"
    }
   },
   "source": [
    "## Basic Demo\n",
    "\n",
    "Let's start with this python code. This block shows how to open the MaRC file using pymarc, then look for the title field using the library's builtin ``title()`` function. Note that if you are familiar with MaRC format, you can ask for specific MaRC fields using the field number and identifiers to extract more granular information.\n"
   ]
  },
  {
   "cell_type": "code",
   "execution_count": 1,
   "metadata": {
    "collapsed": false,
    "nbpresent": {
     "id": "8815c6c5-7c9c-4c7f-94bc-d32cfaf4bd0a"
    }
   },
   "outputs": [
    {
     "name": "stdout",
     "output_type": "stream",
     "text": [
      "Race, Place, and Memory Deep Currents in Wilmington, North Carolina /\n",
      "Race, Place, and Memory Deep Currents in Wilmington, North Carolina /\n",
      "Taming the Tide of Capital Flows A Policy Guide /\n",
      "Ancient Psychoactive Substances\n",
      "La Patria Nueva EconomÃ­a, sociedad y cultura en el PerÃº, 1919-1930 /\n",
      "La Patria Nueva EconomÃ­a, sociedad y cultura en el PerÃº, 1919-1930 /\n",
      "The Bible and Early Trinitarian Theology\n",
      "The Spirit of God Short Writings on the Holy Spirit /\n",
      "Conflicted Memory Military Cultural Interventions and the Human Rights Era in Peru /\n",
      "Conflicted Memory Military Cultural Interventions and the Human Rights Era in Peru /\n",
      "\n",
      "Counted 10 Titles\n"
     ]
    }
   ],
   "source": [
    "from pymarc import MARCReader\n",
    "\n",
    "with open('/marc-python-tests/Project_MUSE_2018_Complete_20180228.mrc', 'rb') as fh: #NB: this open command must point to the location of the marc file in your system\n",
    "  reader = MARCReader(fh)\n",
    "  Titlecount = 0\n",
    "  for record in reader:\n",
    "    print(record.title())\n",
    "    Titlecount = Titlecount + 1\n",
    "    if Titlecount >= 10:\n",
    "        break\n",
    "  print('\\nCounted',Titlecount,'Titles')\n"
   ]
  },
  {
   "cell_type": "markdown",
   "metadata": {
    "nbpresent": {
     "id": "c79d4b49-a443-4583-95fa-fc5300627cf0"
    }
   },
   "source": [
    "The above block adapts the basic example presented in the PyMarc documentation. \n",
    "\n",
    "First, it imports the ``MARCReader`` function from the pymarc library. \n",
    "\n",
    "Next, it opens the file of MaRC records and puts the data into the ``reader`` variable.\n",
    "\n",
    "A counter variable named ``Titlecount`` is set to 0.\n",
    "\n",
    "Then, using a basic ``for`` loop, the code iterates through the title fields, prints the Title as a text string, and stops when the count reaches 10.\n",
    "\n",
    "When you run the code block, you should see the following output: \n",
    "1. text strings of the 10 titles, \n",
    "2. a blank line, and \n",
    "3. a response that lists the Title count. "
   ]
  },
  {
   "cell_type": "markdown",
   "metadata": {
    "nbpresent": {
     "id": "1bd59153-c74c-4b87-8b81-e69d3f1afac0"
    }
   },
   "source": [
    "## Filtering Duplicate Titles\n",
    "\n",
    "You might notice that there are a lot of titles that appear to be duplicates. There may be a variety of reasons for this (different editions, multiple copies in holdings, etc). But let's say that we want to print what we think is a list of unique titles in order to establish a good idea of how many works are represented. How could we filter out the duplicates?\n",
    "\n",
    "In this case we can use a variable to store the current title, the previous title, and to compare the two. We use a ``continue`` breakpoint to restart the loop if the title is already recorded. If we try this directly, we will break the code (below). Do you see what the error is? How can we get around this? "
   ]
  },
  {
   "cell_type": "code",
   "execution_count": 2,
   "metadata": {
    "collapsed": false,
    "nbpresent": {
     "id": "0524d35d-8059-416c-ab52-1050e75e1bca"
    }
   },
   "outputs": [
    {
     "ename": "NameError",
     "evalue": "name 'titlePrev' is not defined",
     "output_type": "error",
     "traceback": [
      "\u001b[0;31m---------------------------------------------------------------------------\u001b[0m",
      "\u001b[0;31mNameError\u001b[0m                                 Traceback (most recent call last)",
      "\u001b[0;32m<ipython-input-2-dad8ab53060d>\u001b[0m in \u001b[0;36m<module>\u001b[0;34m()\u001b[0m\n\u001b[1;32m      6\u001b[0m   \u001b[0;32mfor\u001b[0m \u001b[0mrecord\u001b[0m \u001b[0;32min\u001b[0m \u001b[0mreader\u001b[0m\u001b[0;34m:\u001b[0m\u001b[0;34m\u001b[0m\u001b[0m\n\u001b[1;32m      7\u001b[0m     \u001b[0mtitleCur\u001b[0m \u001b[0;34m=\u001b[0m \u001b[0mrecord\u001b[0m\u001b[0;34m.\u001b[0m\u001b[0mtitle\u001b[0m\u001b[0;34m(\u001b[0m\u001b[0;34m)\u001b[0m\u001b[0;34m\u001b[0m\u001b[0m\n\u001b[0;32m----> 8\u001b[0;31m     \u001b[0;32mif\u001b[0m \u001b[0mtitleCur\u001b[0m \u001b[0;34m==\u001b[0m \u001b[0mtitlePrev\u001b[0m\u001b[0;34m:\u001b[0m\u001b[0;34m\u001b[0m\u001b[0m\n\u001b[0m\u001b[1;32m      9\u001b[0m         \u001b[0;32mcontinue\u001b[0m\u001b[0;34m\u001b[0m\u001b[0m\n\u001b[1;32m     10\u001b[0m     \u001b[0;32melse\u001b[0m\u001b[0;34m:\u001b[0m\u001b[0;34m\u001b[0m\u001b[0m\n",
      "\u001b[0;31mNameError\u001b[0m: name 'titlePrev' is not defined"
     ]
    }
   ],
   "source": [
    "from pymarc import MARCReader\n",
    "\n",
    "with open('/marc-python-tests/Project_MUSE_2018_Complete_20180228.mrc', 'rb') as fh:\n",
    "  reader = MARCReader(fh)\n",
    "  Titlecount = 0\n",
    "  for record in reader:\n",
    "    titleCur = record.title()\n",
    "    if titleCur == titlePrev:\n",
    "        continue\n",
    "    else:\n",
    "        titlePrev = titleCur\n",
    "        print(record.title())\n",
    "        Titlecount = Titlecount + 1\n",
    "        if Titlecount >= 10:\n",
    "            break\n",
    "  print('\\nCounted',Titlecount,'Titles')"
   ]
  },
  {
   "cell_type": "markdown",
   "metadata": {
    "nbpresent": {
     "id": "495930b5-9fba-4763-95d1-44d533a8bcfb"
    }
   },
   "source": [
    "One way to fix this would be to use a try/except loop to establish the first variable. In other words, we will try the code, but if the ``titlePrev`` variable is not established, the code runs the except loop to establish it: "
   ]
  },
  {
   "cell_type": "code",
   "execution_count": 3,
   "metadata": {
    "collapsed": false,
    "nbpresent": {
     "id": "831261ef-78cd-4535-9e09-22d6c0473e7a"
    }
   },
   "outputs": [
    {
     "name": "stdout",
     "output_type": "stream",
     "text": [
      "Race, Place, and Memory Deep Currents in Wilmington, North Carolina /\n",
      "Taming the Tide of Capital Flows A Policy Guide /\n",
      "Ancient Psychoactive Substances\n",
      "La Patria Nueva EconomÃ­a, sociedad y cultura en el PerÃº, 1919-1930 /\n",
      "The Bible and Early Trinitarian Theology\n",
      "The Spirit of God Short Writings on the Holy Spirit /\n",
      "Conflicted Memory Military Cultural Interventions and the Human Rights Era in Peru /\n",
      "Unaffordable American Healthcare from Johnson to Trump /\n",
      "Tragic Rites Narrative and Ritual in Sophoclean Drama /\n",
      "Globalizing Innovation State Institutions and Foreign Direct Investment in Emerging Economies /\n",
      "\n",
      "Counted 10 Titles\n"
     ]
    }
   ],
   "source": [
    "from pymarc import MARCReader\n",
    "\n",
    "with open('/marc-python-tests/Project_MUSE_2018_Complete_20180228.mrc', 'rb') as fh:\n",
    "  reader = MARCReader(fh)\n",
    "  Titlecount = 0\n",
    "  for record in reader:\n",
    "    titleCur = record.title()\n",
    "    try:\n",
    "        if titleCur == titlePrev:\n",
    "            continue\n",
    "        else:\n",
    "            titlePrev = titleCur\n",
    "            print(record.title())\n",
    "            Titlecount = Titlecount + 1\n",
    "            if Titlecount >= 10:\n",
    "                break\n",
    "    except:\n",
    "        titlePrev = titleCur\n",
    "        print(record.title())\n",
    "        Titlecount = Titlecount + 1\n",
    "        if Titlecount > 10:\n",
    "            break\n",
    "  print('\\nCounted',Titlecount,'Titles')\n"
   ]
  },
  {
   "cell_type": "markdown",
   "metadata": {
    "nbpresent": {
     "id": "5f2950d8-521b-4256-a0c6-4ae00b1de08b"
    }
   },
   "source": [
    "Now, we have a list of the first 10 unique title strings. Of course, there may still be \"the same\" titles that sneak through if they were keyed in according to different conventsion, for example there might be some that use the trailing `/`, which accords with the AACR2 convention for entering data in the MaRC 240 field for title, but not all of the records in the set include this in the text string that we see in the output."
   ]
  },
  {
   "cell_type": "markdown",
   "metadata": {
    "nbpresent": {
     "id": "4e6e4315-a2d8-43c1-81bc-34eba978cd05"
    }
   },
   "source": [
    "### Resources\n",
    "\n",
    "* [PyMarc](https://github.com/edsu/pymarc)\n",
    "* [Project MUSE MaRC Records](https://muse.jhu.edu/about/librarians/marc_records.html)"
   ]
  }
 ],
 "metadata": {
  "kernelspec": {
   "display_name": "Python [Root]",
   "language": "python",
   "name": "Python [Root]"
  },
  "language_info": {
   "codemirror_mode": {
    "name": "ipython",
    "version": 3
   },
   "file_extension": ".py",
   "mimetype": "text/x-python",
   "name": "python",
   "nbconvert_exporter": "python",
   "pygments_lexer": "ipython3",
   "version": "3.5.1"
  },
  "nbpresent": {
   "slides": {
    "0bd47678-22ff-4ced-9744-72e8d7c4a741": {
     "id": "0bd47678-22ff-4ced-9744-72e8d7c4a741",
     "prev": "9193baf7-3ef3-45ca-8e57-cc83fc844136",
     "regions": {
      "17d2fa03-ea43-44f8-a1a7-79d609ff0372": {
       "attrs": {
        "height": 0.8,
        "width": 0.8,
        "x": 0.1,
        "y": 0.1
       },
       "content": {
        "cell": "1bd59153-c74c-4b87-8b81-e69d3f1afac0",
        "part": "whole"
       },
       "id": "17d2fa03-ea43-44f8-a1a7-79d609ff0372"
      }
     }
    },
    "13ff54c5-1c40-43bc-85ee-8ffc21941c9f": {
     "id": "13ff54c5-1c40-43bc-85ee-8ffc21941c9f",
     "prev": "cdd59952-54ea-4a82-a6da-eac288ae0309",
     "regions": {
      "ddc24e99-3ec4-4c06-99f4-993a610c1e3f": {
       "attrs": {
        "height": 0.8,
        "width": 0.8,
        "x": 0.1,
        "y": 0.1
       },
       "content": {
        "cell": "8815c6c5-7c9c-4c7f-94bc-d32cfaf4bd0a",
        "part": "source"
       },
       "id": "ddc24e99-3ec4-4c06-99f4-993a610c1e3f"
      }
     }
    },
    "1b3d75df-fb9c-449d-8e53-4109360f9b5c": {
     "id": "1b3d75df-fb9c-449d-8e53-4109360f9b5c",
     "prev": "40b6b5ee-ed5e-4a3e-a77e-b39f6e76ef4d",
     "regions": {
      "31860884-4c58-4f2d-acde-5ca65641fc23": {
       "attrs": {
        "height": 0.8,
        "width": 0.8,
        "x": 0.1,
        "y": 0.1
       },
       "content": {
        "cell": "495930b5-9fba-4763-95d1-44d533a8bcfb",
        "part": "whole"
       },
       "id": "31860884-4c58-4f2d-acde-5ca65641fc23"
      }
     }
    },
    "20826a7f-fe6c-42f3-87f9-b8a225351bf9": {
     "id": "20826a7f-fe6c-42f3-87f9-b8a225351bf9",
     "layout": "manual",
     "prev": null,
     "regions": {
      "1448e91a-48d8-4045-b916-008cccbd1981": {
       "attrs": {
        "height": 0.8,
        "width": 0.8,
        "x": 0.1,
        "y": 0.1
       },
       "id": "1448e91a-48d8-4045-b916-008cccbd1981"
      },
      "b25ca47d-8aa1-4afa-b2e2-644b15757bd7": {
       "attrs": {
        "height": 0.8,
        "width": 0.8,
        "x": 0.1,
        "y": 0.1
       },
       "id": "b25ca47d-8aa1-4afa-b2e2-644b15757bd7"
      }
     }
    },
    "33f63976-29a4-4182-9e3e-c9b848990f5b": {
     "id": "33f63976-29a4-4182-9e3e-c9b848990f5b",
     "prev": "529b86c5-39f1-4b07-a7d4-9204dd47bcc7",
     "regions": {
      "6694d72c-b413-4e44-8b46-f0d110ca36e4": {
       "attrs": {
        "height": 0.8,
        "width": 0.8,
        "x": 0.1,
        "y": 0.1
       },
       "content": {
        "cell": "4e6e4315-a2d8-43c1-81bc-34eba978cd05",
        "part": "whole"
       },
       "id": "6694d72c-b413-4e44-8b46-f0d110ca36e4"
      }
     }
    },
    "40b6b5ee-ed5e-4a3e-a77e-b39f6e76ef4d": {
     "id": "40b6b5ee-ed5e-4a3e-a77e-b39f6e76ef4d",
     "prev": "0bd47678-22ff-4ced-9744-72e8d7c4a741",
     "regions": {
      "0b9bbb59-3f02-41b7-8cde-064665d79232": {
       "attrs": {
        "height": 0.8,
        "width": 0.8,
        "x": 0.1,
        "y": 0.1
       },
       "content": {
        "cell": "0524d35d-8059-416c-ab52-1050e75e1bca",
        "part": "whole"
       },
       "id": "0b9bbb59-3f02-41b7-8cde-064665d79232"
      }
     }
    },
    "4b2d835f-7a0f-4482-a072-8f1a55ccf5d1": {
     "id": "4b2d835f-7a0f-4482-a072-8f1a55ccf5d1",
     "prev": "33f63976-29a4-4182-9e3e-c9b848990f5b",
     "regions": {
      "3edf5eb7-fb0e-4bd2-ad3c-a592f2aa22a0": {
       "attrs": {
        "height": 0.8,
        "width": 0.8,
        "x": 0.1,
        "y": 0.1
       },
       "content": {
        "cell": "bd23e493-f11b-45c2-9d94-fcfdb19e569e",
        "part": "whole"
       },
       "id": "3edf5eb7-fb0e-4bd2-ad3c-a592f2aa22a0"
      }
     }
    },
    "529b86c5-39f1-4b07-a7d4-9204dd47bcc7": {
     "id": "529b86c5-39f1-4b07-a7d4-9204dd47bcc7",
     "prev": "bc37827b-7932-4a75-9d04-b0f1cee548b1",
     "regions": {
      "dcdfd986-7512-47a5-ba0e-65803ca840b4": {
       "attrs": {
        "height": 0.8,
        "width": 0.8,
        "x": 0.1,
        "y": 0.1
       },
       "content": {
        "cell": "5f2950d8-521b-4256-a0c6-4ae00b1de08b",
        "part": "whole"
       },
       "id": "dcdfd986-7512-47a5-ba0e-65803ca840b4"
      }
     }
    },
    "87cf3169-ca91-47d6-9ad0-3af152da8632": {
     "id": "87cf3169-ca91-47d6-9ad0-3af152da8632",
     "prev": "20826a7f-fe6c-42f3-87f9-b8a225351bf9",
     "regions": {
      "1040407d-bd39-4f30-8d75-ead883ef15c5": {
       "attrs": {
        "height": 0.8,
        "width": 0.8,
        "x": 0.1,
        "y": 0.1
       },
       "content": {
        "cell": "12d91375-1556-4646-866e-11cc662f8f9c",
        "part": "whole"
       },
       "id": "1040407d-bd39-4f30-8d75-ead883ef15c5"
      }
     }
    },
    "9193baf7-3ef3-45ca-8e57-cc83fc844136": {
     "id": "9193baf7-3ef3-45ca-8e57-cc83fc844136",
     "prev": "13ff54c5-1c40-43bc-85ee-8ffc21941c9f",
     "regions": {
      "394d57b0-648e-466f-919a-55f8560c0914": {
       "attrs": {
        "height": 0.8,
        "width": 0.8,
        "x": 0.1,
        "y": 0.1
       },
       "content": {
        "cell": "c79d4b49-a443-4583-95fa-fc5300627cf0",
        "part": "whole"
       },
       "id": "394d57b0-648e-466f-919a-55f8560c0914"
      }
     }
    },
    "bc37827b-7932-4a75-9d04-b0f1cee548b1": {
     "id": "bc37827b-7932-4a75-9d04-b0f1cee548b1",
     "prev": "1b3d75df-fb9c-449d-8e53-4109360f9b5c",
     "regions": {
      "057b9493-8bd1-448c-8835-85162763c111": {
       "attrs": {
        "height": 0.8,
        "width": 0.8,
        "x": 0.1,
        "y": 0.1
       },
       "content": {
        "cell": "831261ef-78cd-4535-9e09-22d6c0473e7a",
        "part": "whole"
       },
       "id": "057b9493-8bd1-448c-8835-85162763c111"
      }
     }
    },
    "cdd59952-54ea-4a82-a6da-eac288ae0309": {
     "id": "cdd59952-54ea-4a82-a6da-eac288ae0309",
     "prev": "87cf3169-ca91-47d6-9ad0-3af152da8632",
     "regions": {
      "6ea52618-131d-4be2-8e78-fe8cfabade97": {
       "attrs": {
        "height": 0.8,
        "width": 0.8,
        "x": 0.1,
        "y": 0.1
       },
       "content": {
        "cell": "cfc16a67-f38d-4382-b529-59192c3fb8d3",
        "part": "whole"
       },
       "id": "6ea52618-131d-4be2-8e78-fe8cfabade97"
      }
     }
    }
   },
   "themes": {}
  }
 },
 "nbformat": 4,
 "nbformat_minor": 0
}
