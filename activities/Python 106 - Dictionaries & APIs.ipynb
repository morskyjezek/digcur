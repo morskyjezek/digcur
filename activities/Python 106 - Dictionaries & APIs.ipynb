{
 "cells": [
  {
   "cell_type": "markdown",
   "metadata": {},
   "source": [
    "# Dictionaries & APIs\n",
    "\n",
    "This notebook introduces Python dictionaries and provides a walkthrough of using the `requests` library\n",
    "to retrieve data from a REST API. \n",
    "\n",
    "## Contents\n",
    "\n",
    "* Dictionaries in Python (see Severance, Py4E, \"[Dictionaries](https://www.py4e.com/html3/09-dictionaries)\")\n",
    "  * Basic syntax\n",
    "  * Iteration (for loop)\n",
    "  * Looking for a key (using `in`)\n",
    "  * Looking for a value (using `.values()`)\n",
    "* Using Requests\n",
    "  * Allows you to use python to make HTTP requests, then create an API call\n",
    "  * Use a dictionary for paramters\n",
    "  * Make an API call\n",
    "  * Save to a local file"
   ]
  },
  {
   "cell_type": "markdown",
   "metadata": {},
   "source": [
    "### Dictionaries\n",
    "\n",
    "For more details, see Charles Severance, \"[Dictionaries](https://www.py4e.com/html3/09-dictionaries)\", from Python for Everbody"
   ]
  },
  {
   "cell_type": "code",
   "execution_count": 2,
   "metadata": {},
   "outputs": [
    {
     "name": "stdout",
     "output_type": "stream",
     "text": [
      "{}\n"
     ]
    }
   ],
   "source": [
    "goneWiththeWind = dict()\n",
    "\n",
    "print(goneWiththeWind)"
   ]
  },
  {
   "cell_type": "code",
   "execution_count": 3,
   "metadata": {},
   "outputs": [
    {
     "name": "stdout",
     "output_type": "stream",
     "text": [
      "{'title': 'Gone with the Wind'}\n"
     ]
    }
   ],
   "source": [
    "goneWiththeWind['title'] = 'Gone with the Wind'\n",
    "\n",
    "print(goneWiththeWind)"
   ]
  },
  {
   "cell_type": "code",
   "execution_count": 4,
   "metadata": {},
   "outputs": [
    {
     "name": "stdout",
     "output_type": "stream",
     "text": [
      "{'title': 'Gone with the Wind', 'author': 'Mitchell, Margaret'}\n"
     ]
    }
   ],
   "source": [
    "goneWiththeWind['author'] = 'Mitchell, Margaret'\n",
    "\n",
    "print(goneWiththeWind)"
   ]
  },
  {
   "cell_type": "code",
   "execution_count": 5,
   "metadata": {},
   "outputs": [
    {
     "name": "stdout",
     "output_type": "stream",
     "text": [
      "{'title': 'Gone with the Wind', 'author': 'Mitchell, Margaret', 'date': 1936}\n"
     ]
    }
   ],
   "source": [
    "goneWiththeWind['date'] = 1936\n",
    "\n",
    "print(goneWiththeWind)"
   ]
  },
  {
   "cell_type": "markdown",
   "metadata": {},
   "source": [
    "We can reference the values by the key: "
   ]
  },
  {
   "cell_type": "code",
   "execution_count": 6,
   "metadata": {},
   "outputs": [
    {
     "name": "stdout",
     "output_type": "stream",
     "text": [
      "1936\n"
     ]
    }
   ],
   "source": [
    "print(goneWiththeWind['date'])"
   ]
  },
  {
   "cell_type": "markdown",
   "metadata": {},
   "source": [
    "You can search for keys using the `in` operator. Note that it does not work for searching the values. "
   ]
  },
  {
   "cell_type": "code",
   "execution_count": 7,
   "metadata": {},
   "outputs": [
    {
     "data": {
      "text/plain": [
       "True"
      ]
     },
     "execution_count": 7,
     "metadata": {},
     "output_type": "execute_result"
    }
   ],
   "source": [
    "'title' in goneWiththeWind"
   ]
  },
  {
   "cell_type": "code",
   "execution_count": 8,
   "metadata": {},
   "outputs": [
    {
     "data": {
      "text/plain": [
       "False"
      ]
     },
     "execution_count": 8,
     "metadata": {},
     "output_type": "execute_result"
    }
   ],
   "source": [
    "'publisher' in goneWiththeWind"
   ]
  },
  {
   "cell_type": "code",
   "execution_count": 9,
   "metadata": {},
   "outputs": [
    {
     "name": "stdout",
     "output_type": "stream",
     "text": [
      "The book has a title.\n"
     ]
    }
   ],
   "source": [
    "if 'title' in goneWiththeWind:\n",
    "    print('The book has a title.')"
   ]
  },
  {
   "cell_type": "markdown",
   "metadata": {},
   "source": [
    "#### Activity\n",
    "\n",
    "Create a book object of your own to test the dictionary caoncept. You can use the book title as the name of a dictionary"
   ]
  },
  {
   "cell_type": "markdown",
   "metadata": {},
   "source": [
    "### Using Iteration with a Dictionary\n",
    "\n",
    "Iteration is a good tool to help explore the dictionary. \n",
    "\n",
    "Use the `values()` method to get the values, which we can use to iterate through the dictionary: "
   ]
  },
  {
   "cell_type": "code",
   "execution_count": 18,
   "metadata": {},
   "outputs": [
    {
     "name": "stdout",
     "output_type": "stream",
     "text": [
      "['Gone with the Wind', 'Mitchell, Margaret', 1936]\n"
     ]
    }
   ],
   "source": [
    "elements = list(goneWiththeWind.values())\n",
    "\n",
    "print(elements)"
   ]
  },
  {
   "cell_type": "code",
   "execution_count": 20,
   "metadata": {},
   "outputs": [
    {
     "name": "stdout",
     "output_type": "stream",
     "text": [
      "Gone with the Wind\n",
      "Mitchell, Margaret\n",
      "1936\n"
     ]
    }
   ],
   "source": [
    "for element in elements:\n",
    "    print(element)"
   ]
  },
  {
   "cell_type": "code",
   "execution_count": 16,
   "metadata": {},
   "outputs": [
    {
     "name": "stdout",
     "output_type": "stream",
     "text": [
      "title : Gone with the Wind\n",
      "author : Mitchell, Margaret\n",
      "date : 1936\n"
     ]
    }
   ],
   "source": [
    "for element in goneWiththeWind:\n",
    "    print(element, ':', goneWiththeWind[element])"
   ]
  },
  {
   "cell_type": "markdown",
   "metadata": {},
   "source": [
    "You can also use the `len()` function. What is it counting? "
   ]
  },
  {
   "cell_type": "code",
   "execution_count": 21,
   "metadata": {},
   "outputs": [
    {
     "data": {
      "text/plain": [
       "3"
      ]
     },
     "execution_count": 21,
     "metadata": {},
     "output_type": "execute_result"
    }
   ],
   "source": [
    "len(goneWiththeWind)"
   ]
  },
  {
   "cell_type": "markdown",
   "metadata": {},
   "source": [
    "## Making an API call\n",
    "\n",
    "Let's use requests to scrape some data from an API endpoint. In this case, we can use the Library of Congress\n",
    "search function, which is a REST API that responds to HTTP requests.\n",
    "\n",
    "The endpoint for the search query is `http://www.loc.gov/search/'"
   ]
  },
  {
   "cell_type": "code",
   "execution_count": null,
   "metadata": {},
   "outputs": [],
   "source": [
    "import requests\n",
    "\n",
    "searchEndpoint = 'http://www.loc.gov/search'"
   ]
  }
 ],
 "metadata": {
  "kernelspec": {
   "display_name": "Python 3",
   "language": "python",
   "name": "python3"
  },
  "language_info": {
   "codemirror_mode": {
    "name": "ipython",
    "version": 3
   },
   "file_extension": ".py",
   "mimetype": "text/x-python",
   "name": "python",
   "nbconvert_exporter": "python",
   "pygments_lexer": "ipython3",
   "version": "3.7.1"
  }
 },
 "nbformat": 4,
 "nbformat_minor": 2
}
