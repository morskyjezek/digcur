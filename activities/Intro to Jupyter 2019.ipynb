{
 "cells": [
  {
   "cell_type": "markdown",
   "metadata": {},
   "source": [
    "# Using Jupyter Notebooks\n",
    "\n",
    "This overview was repurposed from the *Library Carpentry* introductory Jupyter notebook as that was used in September 2018.\n",
    "\n",
    "## Background\n",
    "\n",
    "These resources provide more background: \n",
    "\n",
    "* Pryke, Benjamin. \"[Jupyter Notebook for Beginners.](https://www.dataquest.io/blog/jupyter-notebook-tutorial/)\" _Dataquest_, April 2018.\n",
    "* Rule, Adam, Aurélien Tabard, and James D. Hollan. \"[Exploration and Explanation in Computational Notebooks.](http://adamrule.com/files/papers/chi_2018_computational_notebooks_final_web.pdf)\" Proceedings of the 2018 CHI Conference on Human Factors in Computing Systems. ACM, 2018.\n",
    "\n",
    "**ABSTRACT**   \n",
    "Computational notebooks combine code, visualizations, and\n",
    "text in a single document. Researchers, data analysts, and\n",
    "even journalists are rapidly adopting this new medium. We\n",
    "present three studies of how they are using notebooks to\n",
    "document and share exploratory data analyses. In the first,\n",
    "we analyzed over 1 million computational notebooks on\n",
    "GitHub, finding that one in four had no explanatory text but\n",
    "consisted entirely of visualizations or code. In a second\n",
    "study, we examined over 200 academic computational\n",
    "notebooks, finding that although the vast majority described\n",
    "methods, only a minority discussed reasoning or results. In\n",
    "a third study, we interviewed 15 academic data analysts,\n",
    "finding that most considered computational notebooks personal,\n",
    "exploratory, and messy. Importantly, they typically\n",
    "used other media to share analyses. These studies demonstrate\n",
    "a tension between exploration and explanation in\n",
    "constructing and sharing computational notebooks. We\n",
    "conclude with opportunities to encourage explanation in\n",
    "computational media without hindering exploration"
   ]
  },
  {
   "cell_type": "markdown",
   "metadata": {},
   "source": [
    "## Jupyter Notebooks\n",
    "\n",
    "These are files that allow you to intersperse blocks of text with blocks of code. They run using a framework based on interactive Python (iPython) and markdown. Running notebooks on your personal computer will require the Anaconda software, which will enable you to run these notebooks on your computer, where they can be opened and edited in a browser. They will operate similarly across platforms and browsers, which will make it easier for us to create and exchange ideas through a common platform and vocabulary.\n",
    "\n",
    "**Installing Anaconda**.\n",
    "To install Anaconda:\n",
    "\n",
    "* [Download](https://www.anaconda.com/download/) the latest version of Anaconda for Python 3 (ignore Python 2.7).\n",
    "* Install Anaconda by following the instructions on the anaconda site or in the accompanying materials.\n",
    "\n",
    "**iPYNB files**\n",
    "Find out more about the `.ipynb` format at the specification, here: https://ipython.org/ipython-doc/3/notebook/nbformat.html#metadata. "
   ]
  },
  {
   "cell_type": "markdown",
   "metadata": {},
   "source": [
    "### Using Jupyter Notebooks\n",
    "\n",
    "Notebooks are made up of various cells. Below are explanations of two major types of cells, which you may notice are elements of this notebook: \n",
    "\n",
    "* This is a \"markdown\" cell. Use it for writing down text, which may be your notes or may be an explanation or analysis related to the surrounding cells. See below for more information on how markdown works.\n",
    "* When you want to write code, use a \"code\" cell.\n",
    "\n",
    "#### Modes\n",
    "The first, default cell in a blank notebook is a \"code\" cell. It will be outlined by a green square. This indicates that you can type in the cell, it is also called \"edit\" mode. \n",
    "\n",
    "If you are not in edit, you are probably in \"command\" mode, which allows you to move between cells and execute or render the cell's content.  \n",
    "\n",
    "#### Useful Keyboard Commands\n",
    "\n",
    "To toggle between edit and command modes:\n",
    "`esc` will switch back to command (blue outline)\n",
    "`Enter` will switch into edit (green outline)\n",
    "\n",
    "These can be executed when in \"command\" mode: \n",
    "`a` and `b` will create a new cell, before (a) or after (b) the current cell\n",
    "`m` and `y` switch a cell between code (y) and markdown (m)\n",
    "\n",
    "These can be executed when in \"edit\" mode:\n",
    "`CTRL + SHIFT + -` split the current cell at the cursor position"
   ]
  },
  {
   "cell_type": "markdown",
   "metadata": {},
   "source": [
    "# Markdown examples"
   ]
  },
  {
   "cell_type": "markdown",
   "metadata": {},
   "source": [
    "# h1\n",
    "## h2\n",
    "\n",
    "Paragraphs are separated by a blank line.\n",
    "\n",
    "2nd paragraph. *Italic*, **bold**, and `monospace`. Itemized lists\n",
    "look like:\n",
    "\n",
    "  * this one\n",
    "  * that one\n",
    "  * the other one\n",
    "  \n",
    "Here's a numbered list:\n",
    "\n",
    " 1. first item\n",
    " 2. second item\n",
    " 3. third item\n",
    "\n",
    "> Block quotes are\n",
    "> written like so.\n",
    ">\n",
    "> They can span multiple paragraphs,\n",
    "> if you like.\n",
    "\n",
    "~~~\n",
    "define foobar() {\n",
    "    print \"Welcome to flavor country!\";\n",
    "}\n",
    "~~~\n",
    " \n",
    "Here's a link to [a website](http://foo.bar), to a [local\n",
    "doc](local-doc.html), and to a [section heading in the current\n",
    "doc](#an-h2-header). Here's a footnote [^1].\n",
    "\n",
    "[^1]: Some footnote text.\n",
    "\n",
    "![example image](https://pre00.deviantart.net/0e25/th/pre/i/2012/232/0/a/welcome_to_the_internet__please_follow_me_by_sharpwriter-d5buwfu.jpg \"An exemplary image\")\n",
    "\n",
    "Inline math equation: $\\omega = d\\phi / dt$. Display\n",
    "math should get its own line like so:\n",
    "\n",
    "$$I = \\int \\rho R^{2} dV$$\n",
    "\n",
    "\n",
    "| Column1 | Column2 |\n",
    "|---------|---------|\n",
    "| 1       | a       |\n",
    "| 2       | b       |\n",
    "| 3       | c       |\n"
   ]
  },
  {
   "cell_type": "code",
   "execution_count": 1,
   "metadata": {},
   "outputs": [
    {
     "data": {
      "text/plain": [
       "'Hello, Tim!'"
      ]
     },
     "execution_count": 1,
     "metadata": {},
     "output_type": "execute_result"
    }
   ],
   "source": [
    "# this is a code cell with python code below:\n",
    "def say_hello(recipient):\n",
    "    return 'Hello, {}!'.format(recipient)\n",
    "\n",
    "say_hello('Tim')"
   ]
  },
  {
   "cell_type": "markdown",
   "metadata": {},
   "source": [
    "# Further reading\n",
    "[Jupyter Notebook Tutorial](https://www.dataquest.io/blog/jupyter-notebook-tutorial/)"
   ]
  },
  {
   "cell_type": "markdown",
   "metadata": {},
   "source": [
    "# Activities\n",
    "Do these as practice for next week. Upload a copy of this file to ELMS.\n",
    "\n",
    "1. Using this notebook as a template, create two new cells below. Make one a markdown cell, which includes two levels of heading, a bulleted list with at least two items, and examples of italicized and bold text. \n",
    "1. Copy the code cell above. Modify the say_hello function in some way. Run the function and save the notebook file with a new output. \n",
    "1. We walked through some basic ways to use the command line. Create another markdown cell below and provide short answers to the following:\n",
    "  * How did you open a UNIX shell/\"command line\" on your computer?\n",
    "  * What does this do? `pwd`\n",
    "  * What does this do? `ls`\n",
    "  * What are some flags that you can add to the `ls` command? What do they do?\n",
    "  * What would you type to request more information about the `pwd` command?\n",
    "  * Provide a command that you could use to: create a listing of the files in your current directory, with details of permissions, type, size, and name, then output that information to a .txt file."
   ]
  }
 ],
 "metadata": {
  "kernelspec": {
   "display_name": "Python 3",
   "language": "python",
   "name": "python3"
  },
  "language_info": {
   "codemirror_mode": {
    "name": "ipython",
    "version": 3
   },
   "file_extension": ".py",
   "mimetype": "text/x-python",
   "name": "python",
   "nbconvert_exporter": "python",
   "pygments_lexer": "ipython3",
   "version": "3.6.4"
  }
 },
 "nbformat": 4,
 "nbformat_minor": 2
}
