{
 "cells": [
  {
   "cell_type": "markdown",
   "metadata": {},
   "source": [
    "# Exploring the Memegenerator Metadata\n",
    "\n",
    "Here are some demonstrations that can help with initial exploration of the \n",
    "memegenerator set of data, which is located here https://labs.loc.gov/experiments/webarchive-datasets/. \n",
    "\n",
    "Basic actions demonstrated below:\n",
    "\n",
    "1. Count the memes represented in the dataset & Verify dataset\n",
    "2. Count the types of memes in the dataset (visualize with pandas)\n",
    "3. Count the words in the memes \n",
    "4. retrive and display a jpg of a given meme [???]\n",
    "5. see how many times a given meme was crawled for loc.gov archive [???] \n",
    "6. can it be linked to time, ie, see crawl hits over time? (visualize with pandas) [???] \n",
    "\n",
    "Other ideas? \n",
    "What necessary context?\n",
    "\n",
    "* _Can we add a hash or some sort of UID to the dataset README so that there is some way to demonstrate file integrity and possibly version?_\n",
    "* _Can we add a list of the fieldnames and a short description in the README?_"
   ]
  },
  {
   "cell_type": "markdown",
   "metadata": {},
   "source": [
    "## 1. Count the memes represented in the dataset & Verify dataset\n",
    "\n",
    "This will require us to download the csv file from loc.gov, open up the csv file, and count the rows.\n",
    "\n",
    "First, let's open up the csv and take a closer look at it. If we open it using python's csv module, we can read the data into a dictionary, then isolate individual elements according to the associated column heading. Let's find out what the column names are: "
   ]
  },
  {
   "cell_type": "code",
   "execution_count": 1,
   "metadata": {},
   "outputs": [
    {
     "name": "stdout",
     "output_type": "stream",
     "text": [
      "Line 9 output: ['Meme ID\\tArchived URL\\tBase Meme Name\\tMeme Page URL\\tMD5 Hash\\tFile Size (In Bytes)\\tAlternate Text']\n",
      "Headers output: Meme ID\tArchived URL\tBase Meme Name\tMeme Page URL\tMD5 Hash\tFile Size (In Bytes)\tAlternate Text\n"
     ]
    }
   ],
   "source": [
    "import string\n",
    "import csv\n",
    "import pandas as pd\n",
    "\n",
    "## Start a counter and a list that we can use later\n",
    "memeCount = 0\n",
    "memeIDlist = list()\n",
    "\n",
    "with open('memegenerator.csv', 'r', encoding='utf-16') as memedata:\n",
    "    reader = csv.DictReader(memedata)\n",
    "    print('Line 9 output:',reader.fieldnames)\n",
    "    for heading in reader.fieldnames:\n",
    "        print('Headers output:',heading)"
   ]
  },
  {
   "cell_type": "markdown",
   "metadata": {},
   "source": [
    "Before proceeding, take a careful look at the above output. For the output from line 9, notice that the printed output appears to be a list enclosed in square brackets (`[]`) with a single string inside of it. That is not what we would expect. Instead, we want a list of the column headers. If you compare that with the output from line 11 output (labeled `Headers output:`), you'll see that the first string contains the listed values separated by `\\t`. It turns out that the data fields in this file are separated by Tab, not comma. That's okay, but we may need to specify that the delimiter is a tab, which will help us to parse the data later on. \n",
    "\n",
    "Also notice that the encoding is `utf-16`, which is necessary to represent the extended character types in the file, which contains text in various languages other than English and requires additional character sets. \n",
    "\n",
    "With this knowledge, let's print a clean list of the headers. We'll use a counter variable `column` to keep track of how many column headings there are."
   ]
  },
  {
   "cell_type": "code",
   "execution_count": 2,
   "metadata": {},
   "outputs": [
    {
     "name": "stdout",
     "output_type": "stream",
     "text": [
      "Header 1: Meme ID\n",
      "Header 2: Archived URL\n",
      "Header 3: Base Meme Name\n",
      "Header 4: Meme Page URL\n",
      "Header 5: MD5 Hash\n",
      "Header 6: File Size (In Bytes)\n",
      "Header 7: Alternate Text\n"
     ]
    }
   ],
   "source": [
    "column = 0\n",
    "with open('memegenerator.csv', 'r', encoding='utf-16') as memedata:\n",
    "    reader = csv.DictReader(memedata, delimiter='\\t')\n",
    "    for header in reader.fieldnames:\n",
    "        column = column + 1\n",
    "        print('Header '+str(column)+': '+header)"
   ]
  },
  {
   "cell_type": "markdown",
   "metadata": {},
   "source": [
    "So with seven headers, we can expect to find up to seven data values for each row. We know the file is encoded in `utf-16`, and we know that the field delimiters are Tabs. \n",
    "\n",
    "Now that we know more about the data format, including the column headers, we can loop through the rows to count them. We can also pull out the \"Meme ID\" value for each meme represented in the set, which we could use to associate it with other instances. To set this up, try just counting the first few rows first (below, we have stopped the loop with a break statement on line 9, which kicks us out of the loop if the counter value is greater than 2). \n",
    "\n",
    "Here is a sample using the counter variable `memeCount` to count the rows as the code loops through, and to print out the `Meme ID` and `Base Meme Name` field contents. For testing, this example limits our activity with a break loop, which escapes from the routine when the count is registered above 2. Once it's working for the first few rows, then it will be time to look through the whole set.  "
   ]
  },
  {
   "cell_type": "code",
   "execution_count": 3,
   "metadata": {},
   "outputs": [
    {
     "name": "stdout",
     "output_type": "stream",
     "text": [
      "1 10509464 Spiderman Approves\n",
      "2 12285257 Alright Then Business Kid\n",
      "3 20612245 Archer\n",
      "Total memes counted: 3\n"
     ]
    }
   ],
   "source": [
    "memeCount = 0\n",
    "## reopen the file, with the contextual opener as above:\n",
    "with open('memegenerator.csv', 'r', newline='', encoding='utf-16') as memedata:\n",
    "    reader = csv.DictReader(memedata, delimiter='\\t')\n",
    "    for row in reader: \n",
    "        memeCount = memeCount + 1\n",
    "        print(memeCount,row['Meme ID'],row['Base Meme Name'])\n",
    "        if memeCount > 2:\n",
    "            break\n",
    "print('Total memes counted:',memeCount)        "
   ]
  },
  {
   "cell_type": "markdown",
   "metadata": {},
   "source": [
    "That seems to work. Let's do the whole file. To save space in the output, remove the print statements for each row. "
   ]
  },
  {
   "cell_type": "code",
   "execution_count": 4,
   "metadata": {},
   "outputs": [
    {
     "name": "stdout",
     "output_type": "stream",
     "text": [
      "Total memes counted: 57652\n"
     ]
    }
   ],
   "source": [
    "memeCount = 0\n",
    "## reopen the file, with the contextual opener as above:\n",
    "with open('memegenerator.csv', 'r', newline='', encoding='utf-16') as memedata:\n",
    "    reader = csv.DictReader(memedata, delimiter='\\t')\n",
    "    for row in reader: \n",
    "        memeCount = memeCount + 1\n",
    "#        print(memeCount,row['Meme ID'],row['Base Meme Name'])\n",
    "#        if memeCount > 2:\n",
    "#            break\n",
    "print('Total memes counted:',memeCount)"
   ]
  },
  {
   "cell_type": "markdown",
   "metadata": {},
   "source": [
    "The information about the set at [loc.gov](https://labs.loc.gov/experiments/webarchive-datasets/) indicates that the memegenerator set includes 57,652 records. Since we got the same number, it appears that the data corresponds and we are looping through it accurately. We've verified that we can successfully open and read through the file!"
   ]
  },
  {
   "cell_type": "markdown",
   "metadata": {},
   "source": [
    "## 2. Count the types of memes in the dataset\n",
    "\n",
    "The \"Base Meme Name\" appears to offer a typology of the memes and refers to the \"source\" image that was used to create the meme. We could use a spreadsheet program to open the data and to create a pivot table. Let's see if we can get a list of these using python. Using the same technique as above for testing, this time the loop ends after `memeCount` goes above 15. \n",
    "\n",
    "* basically, use the above to create a dictionary of the values in the `Base Meme Name` field."
   ]
  },
  {
   "cell_type": "code",
   "execution_count": 5,
   "metadata": {},
   "outputs": [
    {
     "name": "stdout",
     "output_type": "stream",
     "text": [
      "Here's the types and IDs from each row scanned\n",
      "1 Spiderman Approves 10509464\n",
      "2 Alright Then Business Kid 12285257\n",
      "3 Archer 20612245\n",
      "4 Futurama Fry 20614628\n",
      "5 One Does Not Simply 24194267\n",
      "6 Insanity Wolf 10178734\n",
      "7 Butthurt Dweller 10178750\n",
      "8 Philosoraptor 10178758\n",
      "9 Butthurt Dweller 10178763\n",
      "10 Foul Bachelor Frog 10178766\n",
      "11 Philosoraptor 10178770\n",
      "12 Foul Bachelor Frog 10178776\n",
      "13 Foul Bachelor Frog 10178785\n",
      "14 Philosoraptor 10178788\n",
      "15 Chemistry Cat 10178798\n",
      "\n",
      "LIST OF TYPES\n",
      "List of types: ['Alright Then Business Kid', 'Archer', 'Butthurt Dweller', 'Chemistry Cat', 'Foul Bachelor Frog', 'Futurama Fry', 'Insanity Wolf', 'One Does Not Simply', 'Philosoraptor', 'Spiderman Approves']\n",
      "Found 10 types in 16 rows.\n",
      "\n",
      "DICTIONARY OF TYPES BY COUNT\n",
      "{'Spiderman Approves': 1, 'Alright Then Business Kid': 1, 'Archer': 1, 'Futurama Fry': 1, 'One Does Not Simply': 1, 'Insanity Wolf': 1, 'Butthurt Dweller': 2, 'Philosoraptor': 3, 'Foul Bachelor Frog': 3, 'Chemistry Cat': 1}\n",
      "Spiderman Approves 1\n",
      "Alright Then Business Kid 1\n",
      "Archer 1\n",
      "Futurama Fry 1\n",
      "One Does Not Simply 1\n",
      "Insanity Wolf 1\n",
      "Butthurt Dweller 2\n",
      "Philosoraptor 3\n",
      "Foul Bachelor Frog 3\n",
      "Chemistry Cat 1\n"
     ]
    }
   ],
   "source": [
    "## set up the counter again, and create a dictionary for the types\n",
    "memeCount = 0\n",
    "types = list()\n",
    "counts = dict()\n",
    "\n",
    "with open('memegenerator.csv', 'r', newline='', encoding='utf-16') as memedata:\n",
    "    reader = csv.DictReader(memedata, delimiter='\\t')\n",
    "    print('Here\\'s the types and IDs from each row scanned')\n",
    "    for row in reader: \n",
    "        memeCount = memeCount + 1\n",
    "        if memeCount > 15:\n",
    "            break\n",
    "        memeID = row['Meme ID']\n",
    "        kind = row['Base Meme Name']\n",
    "        #uncomment the next row if you want to see the output as the loop goes through each row\n",
    "        print(memeCount,kind,memeID)\n",
    "\n",
    "        ## Using the counts dictionary, above, see if the type is already in the dictionary, \n",
    "        ## if not noted, add it, if it is noted, increase the count...\n",
    "        if kind not in counts:\n",
    "            counts[kind] = 1\n",
    "        else:\n",
    "            counts[kind] = counts[kind] + 1\n",
    "\n",
    "        ## Now add kind to the list of types\n",
    "        if kind in types:\n",
    "            continue\n",
    "        else:\n",
    "            types.append(kind)\n",
    "\n",
    "#sort the list\n",
    "types.sort()\n",
    "print('\\nLIST OF TYPES')\n",
    "print('List of types:',types)\n",
    "print('Found',len(types),'types in',memeCount,'rows.\\n')\n",
    "print('DICTIONARY OF TYPES BY COUNT')\n",
    "print(counts)\n",
    "for x in counts:\n",
    "    print(x, counts[x])"
   ]
  },
  {
   "cell_type": "markdown",
   "metadata": {},
   "source": [
    "Remove `memeCount` break loop to count types in the whole dataset. Since we don't really need the list anymore, we'll just use one dictionary called `counts`. *This should change to `typesDict` for a future cleanup.*"
   ]
  },
  {
   "cell_type": "code",
   "execution_count": 6,
   "metadata": {},
   "outputs": [
    {
     "name": "stdout",
     "output_type": "stream",
     "text": [
      "Items in the dictionary: 1914\n"
     ]
    }
   ],
   "source": [
    "## set up the counter again, and create a dictionary for all the types in the dataset\n",
    "memeCount = 0\n",
    "typesDict = dict()\n",
    "\n",
    "with open('memegenerator.csv', 'r', newline='', encoding='utf-16') as memedata:\n",
    "    reader = csv.DictReader(memedata, delimiter='\\t')\n",
    "    for row in reader: \n",
    "        memeCount = memeCount + 1\n",
    "        memeID = row['Meme ID']\n",
    "        kind = row['Base Meme Name']\n",
    "\n",
    "        ## Using the counts dictionary, above, see if the type is already in the dictionary, \n",
    "        ## if not noted, add it, if it is noted, increase the count...\n",
    "        if kind not in typesDict:\n",
    "            typesDict[kind] = 1\n",
    "        else:\n",
    "            typesDict[kind] += 1\n",
    "\n",
    "print('Items in the dictionary:',len(typesDict))"
   ]
  },
  {
   "cell_type": "markdown",
   "metadata": {},
   "source": [
    "We have noted 1,914 separate indicators describing the base image used in the memes, which suggests that this set has nearly two thousand general types of memes. \n",
    "\n",
    "To finish, let's use the pandas module to create a graph of the main types. \n",
    "\n",
    "Let's just find the types that have 1,000 or more examples and add them to a dictionary called `larges`:"
   ]
  },
  {
   "cell_type": "code",
   "execution_count": 7,
   "metadata": {},
   "outputs": [
    {
     "name": "stdout",
     "output_type": "stream",
     "text": [
      "There are this many items in this dictionary: 23 <class 'dict'>\n",
      "{'Futurama Fry': 660, 'Insanity Wolf': 610, 'Butthurt Dweller': 363, 'Philosoraptor': 530, 'Foul Bachelor Frog': 469, 'Joseph Ducreux': 414, 'Success Kid': 510, 'Y U No': 766, 'Socially Awkward Penguin': 446, 'Yo Dawg': 361, 'Good Guy Greg': 387, 'Forever Alone': 414, 'Courage Wolf': 375, 'Advice Yoda Gives': 419, 'The Most Interesting Man In The World': 507, 'Chuck Norris': 343, 'success baby': 344, 'Trollface': 308, 'Slowpoke': 396, 'Willy Wonka': 355, 'Conspiracy Keanu': 337, 'Annoying Gamer Kid': 331, 'we got a badass over here': 377}\n"
     ]
    }
   ],
   "source": [
    "larges = dict()\n",
    "for key, val in typesDict.items():\n",
    "    if val >= 300:\n",
    "        larges[key] = val\n",
    "#print larges.value()\n",
    "print('There are this many items in this dictionary:',len(larges), type(larges))\n",
    "print(larges)"
   ]
  },
  {
   "cell_type": "markdown",
   "metadata": {},
   "source": [
    "Now that the types have been identified and counted, it is possible to visualize the results. We can use the \"pandas\" library to create a bar chart as an initial example. More complex visualizations are also possible, if you look at the [module's documentation](https://pandas.pydata.org/pandas-docs/). "
   ]
  },
  {
   "cell_type": "code",
   "execution_count": 9,
   "metadata": {},
   "outputs": [
    {
     "data": {
      "image/png": "[encoded data removed]",
      "text/plain": [
       "<matplotlib.figure.Figure at 0x110553588>"
      ]
     },
     "metadata": {},
     "output_type": "display_data"
    }
   ],
   "source": [
    "## Use pandas to create a bar chart and sort from largest to smallest\n",
    "pd.Series(larges).sort_values()\n",
    "\n",
    "graphable = pd.Series(larges).sort_values(ascending=False)\n",
    "\n",
    "df = pd.DataFrame(graphable, columns=['Occurences'])\n",
    "\n",
    "ax = df.plot.bar(color='Orange').set_title('Most Common Meme Types in the Set')"
   ]
  },
  {
   "cell_type": "markdown",
   "metadata": {},
   "source": [
    "# 3. Count the words in the memes\n",
    "\n",
    "In this section, we will look more closely at the data included in the `Alternate Text` field. \n",
    "This field contains transcriptions of the text overlayed on most of the meme images. \n",
    "We will look at how to isolate and identify the words, count the words, and then \n",
    "calculate the average number of words. \n"
   ]
  },
  {
   "cell_type": "code",
   "execution_count": 10,
   "metadata": {},
   "outputs": [
    {
     "name": "stdout",
     "output_type": "stream",
     "text": [
      "The number of words in each row has been recorded for 20 rows.\n",
      "{'10509464': 2, '12285257': 11, '20612245': 9, '20614628': 25, '24194267': 11, '10178734': 4, '10178750': 2, '10178758': 11, '10178763': 6, '10178766': 12, '10178770': 11, '10178776': 17, '10178785': 6, '10178788': 11, '10178798': 7, '10178837': 16, '10178888': 7, '10178897': 4, '10178908': 8, '10178914': 7}\n",
      "Word counts list has 132 items. Most frequent occurence is\n",
      "{'seems': 1, 'legit': 1, 'Fret': 1, 'not': 2, 'I': 1, 'stayed': 1, 'at': 1, 'a': 2, 'Holiday': 1, 'Inn': 1, 'Express': 1, 'last': 1, 'night': 1, 'hello': 1, 'airplanes?': 1, 'yeah,': 1, 'this': 1, 'is': 1, 'blimps.': 1, 'Yeah,': 1, 'you': 1, 'win.': 1, 'LEGS': 2, 'IN': 1, 'COVER.': 2, 'TOO': 2, 'HOT.': 1, 'OUT': 1, 'OF': 1, 'cold.': 1, 'One': 1, 'leg': 1, 'out.': 1, 'Just': 1, 'right': 1, 'BUt': 1, 'Scared': 1, 'monster': 1, 'under': 1, 'the': 2, 'bed': 1, 'will': 1, 'eat': 1, 'me': 1, 'one': 1, 'does': 1, 'simply': 1, '': 7, 'put': 1, 'toothpaste': 1, 'back': 1, 'in': 1, 'tube': 1, 'Вступи': 1, 'в': 1, 'группу': 1, 'блядь': 1, 'Тренажёрный': 2, 'зал': 2, 'Если': 3, 'женя': 3, 'ашот': 3, 'то': 3, 'почему': 3, 'у': 3, 'него': 3, 'ник': 3, 'wonk': 3, 'не': 3, 'слышал': 1, 'usar': 1, 'mal': 1, 'este': 1, 'meme': 1, 'que': 1, 'de': 2, 'todas': 1, 'maneras': 1, 'lo': 1, 'suban': 1, 'HD': 1, 'tirarte': 2, 'una': 4, 'vieja': 2, 'rica': 2, 'hacerte': 2, 'el': 2, 'hueon': 2, 'cuando': 2, 'te': 2, 'saluda': 2, 'años': 2, 'mas': 2, 'tarde': 1, 'y': 2, 'es': 2, 'momia': 2, 'chuparsela': 1, 'al': 1, 'mafiux': 1, 'ser': 1, 'staff': 1, 'aoe': 1, 'я': 3, 'котэ': 1, 'юра!а': 1, 'вас': 1, 'как': 1, 'зовут?': 1, 'ha': 1, 'llegado': 1, 'la': 2, 'hora': 1, 'boludez!': 1, 'mONOO': 1, 'MONOO...': 1, 'MONOO': 1, 'MONIITOO?': 1, 'MONOOOO': 1, 'MONOOO': 1, 'MONITOO': 1, 'ME': 1, 'HACES': 1, 'TAN': 1, 'FELIS': 1, '...': 1, 'после': 1, 'каждой': 1, 'манной': 1, 'каши': 1, 'жую': 1, 'героин': 1}\n"
     ]
    }
   ],
   "source": [
    "rowCount = 0\n",
    "wordCountsTest = dict()\n",
    "numWordsTest = dict() \n",
    "\n",
    "with open('memegenerator.csv', 'r', newline='', encoding='utf-16') as memedata:\n",
    "    reader = csv.DictReader(memedata, delimiter='\\t')\n",
    "    for row in reader: \n",
    "        rowCount = rowCount + 1\n",
    "        if rowCount > 20:\n",
    "            break\n",
    "        ## Uncomment the row below if you want to print out any of the values.\n",
    "        #print(row['Base Meme Name'], '|', row['Alternate Text'])\n",
    "        \n",
    "        ## Let's take a look at the words recorded from each meme. \n",
    "        ## Uncomment the second row below this to print the list of words        \n",
    "        words = row['Alternate Text'].split(' ')\n",
    "        #print(words, len(words))\n",
    "        \n",
    "        ## Using the numWordsTest dictionary, above, record the number of words in each row\n",
    "        ## In this example, the words variable is currently a list of the words  \n",
    "        ## so the len() function will return that value\n",
    "        numWordsTest[row['Meme ID']] = len(words)            \n",
    "        \n",
    "        ## Using the wordCountsTest dictionary, above, \n",
    "        ## see if the word is already noted in the dictionary, \n",
    "        ## if not noted, add it, if it is noted, increase the count...        \n",
    "        for word in words:\n",
    "            if word not in wordCountsTest:\n",
    "                wordCountsTest[word] = 1\n",
    "            else:\n",
    "                wordCountsTest[word] = wordCountsTest[word] + 1\n",
    "\n",
    "print('The number of words in each row has been recorded for',len(numWordsTest),'rows.')\n",
    "print(numWordsTest)\n",
    "\n",
    "print('Word counts list has',len(wordCountsTest),'items. Most frequent occurence is')\n",
    "print(wordCountsTest)\n"
   ]
  },
  {
   "cell_type": "code",
   "execution_count": 12,
   "metadata": {},
   "outputs": [
    {
     "name": "stdout",
     "output_type": "stream",
     "text": [
      "WORD COUNTS\n",
      "Counted words for 57652 items\n",
      "Row count: 57652 \n",
      "\n",
      "WORDS COUNTED\n",
      "Elements in word counts 71529 \n",
      "In other words, noting 71529 separate character strings.\n"
     ]
    }
   ],
   "source": [
    "## Using the two short dictionaries above, let's get some more useful information.\n",
    "## Because there is punctuation and capitalization, we need to parse the strings a bit \n",
    "## more closely. Otherwise `fret` and `Fret` will be counted separately and so would\n",
    "## `out` and `out.`. \n",
    "## This block uses python's module\n",
    "\n",
    "## Dictionaries\n",
    "## numWords counts the number of strings separated by spaces in each meme, retrievable by Meme ID\n",
    "## wordCounts records the times a particular string occurs in any meme\n",
    "rowCount = 0\n",
    "wordCounts = dict()\n",
    "numWords = dict() \n",
    "\n",
    "with open('memegenerator.csv', 'r', newline='', encoding='utf-16') as memedata:\n",
    "    reader = csv.DictReader(memedata, delimiter='\\t')\n",
    "    for row in reader: \n",
    "        rowCount = rowCount + 1\n",
    "        words = row['Alternate Text'].split()\n",
    "        numWords[row['Meme ID']] = len(words) # Creates a list of values reflecting the number of words in each meme image           \n",
    "        for word in words:\n",
    "            ## Before passing words to the dictionary, let's try to clean them up \n",
    "            word = word.lstrip().rstrip() #remove whitespace before and after\n",
    "            word = word.translate(word.maketrans('', '', string.punctuation)) #remove punctuation\n",
    "            word = word.lower() #make all in the string lowercase, NB: we have not controlled for any unknown transformations that may happen to non-Roman letter sets and strings\n",
    "            if word not in wordCounts:\n",
    "                wordCounts[word] = 1\n",
    "            else:\n",
    "                wordCounts[word] = wordCounts[word] + 1\n",
    "                \n",
    "## Evaluate some of the outputs to check where we are\n",
    "print('WORD COUNTS')\n",
    "print('Counted words for',len(numWords),'items')\n",
    "print('Row count:',rowCount,'\\n')\n",
    "\n",
    "print('WORDS COUNTED')\n",
    "print('Elements in word counts',len(wordCounts),'\\nIn other words, noting',len(wordCounts),'separate character strings.')\n",
    "## to view the dictionary, uncomment the line below\n",
    "#print(wordCounts)\n",
    "\n",
    "## Let's take a look at the information in the wordCounts dictionary, get the max occurence\n",
    "#for count in word"
   ]
  },
  {
   "cell_type": "code",
   "execution_count": 13,
   "metadata": {},
   "outputs": [
    {
     "name": "stdout",
     "output_type": "stream",
     "text": [
      "[(9259, 'a'), (6565, 'que'), (6076, 'de'), (5562, 'i'), (5443, 'no'), (4967, 'me'), (4881, 'la'), (4785, 'el'), (4711, 'you'), (4501, 'the'), (4072, 'y'), (3604, 'to'), (3388, 'en'), (3038, 'не'), (2893, 'se'), (2763, 'si'), (2690, 'в'), (2585, 'un'), (2528, 'я'), (2467, 'te'), (2430, ''), (2391, 'es'), (2112, 'is'), (2085, 'in'), (1890, 'на')]\n"
     ]
    }
   ],
   "source": [
    "## Convert the word counts to tuples, sort, and view the most frequent words\n",
    "\n",
    "## This code sorts by the values calculated in the character strings stored as words in wordCounts\n",
    "'''\n",
    "#create tuples\n",
    "t = list(wordCounts.items())\n",
    "t.sort(reverse=False)\n",
    "print(t[0:9])\n",
    "'''\n",
    "## This code sorts by the values, ie, the word counts\n",
    "#create tuples then loop through and reverse so we can sort by the counts\n",
    "l = list() # this will be an ordered list of tuples, sorted from highest word count to lowest\n",
    "for key, val in wordCounts.items():\n",
    "    l.append( (val, key) )\n",
    "l.sort(reverse=True)\n",
    "print(l[0:25])\n"
   ]
  },
  {
   "cell_type": "markdown",
   "metadata": {},
   "source": [
    "By looking through these lists of words and counts, we chose some of the most common English words that stood out. Because we were only interested in these words, we created a list of certain words that had high counts, which are represented below in the `highCountEnglishWords` list, which we can then map against the number of occurences in a bar chart."
   ]
  },
  {
   "cell_type": "code",
   "execution_count": 15,
   "metadata": {},
   "outputs": [
    {
     "name": "stdout",
     "output_type": "stream",
     "text": [
      "it 1407\n",
      "is 2112\n",
      "for 1335\n",
      "your 1309\n",
      "that 1226\n",
      "meme 429\n",
      "facebook 586\n",
      "internet 236\n",
      "everywhere 452\n",
      "people 384\n",
      "aliens 231\n",
      "world 230\n",
      "everyone 139\n",
      "someone 136\n",
      "mainstream 153\n",
      "party 106\n",
      "cool 105\n",
      "mom 103\n",
      "roleplayers 93\n",
      "pokemon 88\n",
      "mother 74\n",
      "pizza 70\n",
      "yeah 103\n"
     ]
    }
   ],
   "source": [
    "## Based on the sorted counts, we chose a few English words with high occurence\n",
    "highCountEnglishWords = [\n",
    "    'it',\n",
    "    'is',\n",
    "    'for',\n",
    "    'your',\n",
    "    'that',\n",
    "    'meme', \n",
    "    'facebook', \n",
    "    'internet',\n",
    "    'everywhere',\n",
    "    'people',\n",
    "    'aliens',\n",
    "    'world',\n",
    "    'everyone',\n",
    "    'someone',\n",
    "    'mainstream',\n",
    "    'party',\n",
    "    'cool',\n",
    "    'mom',\n",
    "    'roleplayers',\n",
    "    'pokemon',\n",
    "    'mother',\n",
    "    'pizza',\n",
    "    'yeah']\n",
    "\n",
    "countsListInteresting = list()\n",
    "for word in highCountEnglishWords:\n",
    "    countsListInteresting.append(wordCounts[word])\n",
    "    print(word,wordCounts[word])\n"
   ]
  },
  {
   "cell_type": "code",
   "execution_count": 16,
   "metadata": {},
   "outputs": [
    {
     "data": {
      "image/png": "[encoded data removed]",
      "text/plain": [
       "<matplotlib.figure.Figure at 0x11051cd68>"
      ]
     },
     "metadata": {},
     "output_type": "display_data"
    }
   ],
   "source": [
    "## Let's do another bar chart\n",
    "\n",
    "df2 = pd.DataFrame({ 'word':highCountEnglishWords, \n",
    "                    'count':countsListInteresting\n",
    "                  },\n",
    "                  index=highCountEnglishWords).sort_values(by='count', ascending=False)\n",
    "\n",
    "ax = df2.plot.bar(color='Orange').set_title('Occurences of Selected Words in Meme Captions')\n",
    "    \n",
    "## create a word cloud? "
   ]
  },
  {
   "cell_type": "markdown",
   "metadata": {},
   "source": [
    "## Calculate the average number of words in each meme                \n",
    "\n",
    "Earlier in this section, we created a list of the number of words in each meme \n",
    "(that is, the number of strings in each `Alternate Text` field delineated by a blank space character).\n",
    "\n",
    "We will return to the `numWords` list. First, check to make sure that the list is still there:"
   ]
  },
  {
   "cell_type": "code",
   "execution_count": 17,
   "metadata": {},
   "outputs": [
    {
     "name": "stdout",
     "output_type": "stream",
     "text": [
      "<class 'dict'>\n",
      "57652\n"
     ]
    }
   ],
   "source": [
    "print(type(numWords))\n",
    "print(len(numWords))"
   ]
  },
  {
   "cell_type": "markdown",
   "metadata": {},
   "source": [
    "That looks good. It is a dictionary and should have an item for each row, so if the dictionary length matches the value, this should be the right information. \n",
    "\n",
    "Now, let's grab the values and calculate an average"
   ]
  },
  {
   "cell_type": "code",
   "execution_count": 18,
   "metadata": {},
   "outputs": [
    {
     "name": "stdout",
     "output_type": "stream",
     "text": [
      "The average number of words in each meme is 8.60716020259488\n"
     ]
    }
   ],
   "source": [
    "## Create a list for the values\n",
    "wordLenList = list()\n",
    "## The commented line below and lines lower down can be used to error check this code block\n",
    "#dictCounter = 0\n",
    "\n",
    "## Pull out the values from the numWords dictionary\n",
    "for key, val in numWords.items():\n",
    "#    dictCounter = dictCounter + 1\n",
    "#    if dictCounter > 10:\n",
    "#        break\n",
    "#    print(key, val) \n",
    "    wordLenList.append(val)\n",
    "\n",
    "## Calculate the average\n",
    "averageNumWords = sum(wordLenList)/len(wordLenList)\n",
    "\n",
    "print('The average number of words in each meme is',averageNumWords)"
   ]
  },
  {
   "cell_type": "markdown",
   "metadata": {},
   "source": [
    "So, in this list of 57,652 memes, **the average number of words in a meme is 8.6**.\n",
    "\n",
    "**NB:** It may be important to remember that this program looks at the strings of texts and identifies \"words\" based on characters and intervening spaces. Therfore, many of the \"words\" may be non-English characters, individual characters, strings of numbers, or even emoji. A more accurate description might be to say that memes contain an average of 8.6 character strings, but for the most part these are words. "
   ]
  },
  {
   "cell_type": "markdown",
   "metadata": {},
   "source": [
    "# 4. Retrieve and display an image\n",
    "\n",
    "This is more challenging than initially suspected since the archive URLs contain a date range rather than the specific capture date. But that brings an interesting possibility to count number of times crawled. Can we do both? \n",
    "\n",
    "The [LoC exploration demo for loc.gov](https://github.com/LibraryOfCongress/data-exploration/blob/master/LOC.gov%20JSON%20API.ipynb) uses `Image` from `IPython.display` library. Others might use PILlow. \n"
   ]
  },
  {
   "cell_type": "code",
   "execution_count": 19,
   "metadata": {},
   "outputs": [
    {
     "data": {
      "text/html": [
       "<img src=\"http://webarchive.loc.gov/all/20160206075330/http://cdn.meme.am/instances/250x250/10698210.jpg\"/>"
      ],
      "text/plain": [
       "<IPython.core.display.Image object>"
      ]
     },
     "metadata": {},
     "output_type": "display_data"
    }
   ],
   "source": [
    "from IPython.display import Image, display\n",
    "\n",
    "display(Image(url='http://webarchive.loc.gov/all/20160206075330/http://cdn.meme.am/instances/250x250/10698210.jpg', format='jpg'))"
   ]
  },
  {
   "cell_type": "code",
   "execution_count": 20,
   "metadata": {},
   "outputs": [
    {
     "name": "stdout",
     "output_type": "stream",
     "text": [
      "Joseph Ducreux 414\n",
      "1 17 http://webarchive.loc.gov/all/19960101000000-20160901235959*/http://cdn.meme.am/instances/250x250/10178888.jpg\n"
     ]
    },
    {
     "data": {
      "text/html": [
       "<img src=\"http://webarchive.loc.gov/all/19960101000000-20160901235959*/http://cdn.meme.am/instances/250x250/10178888.jpg\"/>"
      ],
      "text/plain": [
       "<IPython.core.display.Image object>"
      ]
     },
     "metadata": {},
     "output_type": "display_data"
    },
    {
     "name": "stdout",
     "output_type": "stream",
     "text": [
      "2 47 http://webarchive.loc.gov/all/19960101000000-20160901235959*/http://cdn.meme.am/instances/250x250/10179277.jpg\n"
     ]
    },
    {
     "data": {
      "text/html": [
       "<img src=\"http://webarchive.loc.gov/all/19960101000000-20160901235959*/http://cdn.meme.am/instances/250x250/10179277.jpg\"/>"
      ],
      "text/plain": [
       "<IPython.core.display.Image object>"
      ]
     },
     "metadata": {},
     "output_type": "display_data"
    },
    {
     "name": "stdout",
     "output_type": "stream",
     "text": [
      "3 56 http://webarchive.loc.gov/all/19960101000000-20160901235959*/http://cdn.meme.am/instances/250x250/10179414.jpg\n"
     ]
    },
    {
     "data": {
      "text/html": [
       "<img src=\"http://webarchive.loc.gov/all/19960101000000-20160901235959*/http://cdn.meme.am/instances/250x250/10179414.jpg\"/>"
      ],
      "text/plain": [
       "<IPython.core.display.Image object>"
      ]
     },
     "metadata": {},
     "output_type": "display_data"
    },
    {
     "name": "stdout",
     "output_type": "stream",
     "text": [
      "4 71 http://webarchive.loc.gov/all/19960101000000-20160901235959*/http://cdn.meme.am/instances/250x250/10179566.jpg\n"
     ]
    },
    {
     "data": {
      "text/html": [
       "<img src=\"http://webarchive.loc.gov/all/19960101000000-20160901235959*/http://cdn.meme.am/instances/250x250/10179566.jpg\"/>"
      ],
      "text/plain": [
       "<IPython.core.display.Image object>"
      ]
     },
     "metadata": {},
     "output_type": "display_data"
    },
    {
     "name": "stdout",
     "output_type": "stream",
     "text": [
      "5 72 http://webarchive.loc.gov/all/19960101000000-20160901235959*/http://cdn.meme.am/instances/250x250/10179569.jpg\n"
     ]
    },
    {
     "data": {
      "text/html": [
       "<img src=\"http://webarchive.loc.gov/all/19960101000000-20160901235959*/http://cdn.meme.am/instances/250x250/10179569.jpg\"/>"
      ],
      "text/plain": [
       "<IPython.core.display.Image object>"
      ]
     },
     "metadata": {},
     "output_type": "display_data"
    }
   ],
   "source": [
    "## try to get five from a given meme type e.g., 'Joseph Ducreux'\n",
    "q = 'Joseph Ducreux'\n",
    "print(q,typesDict[q])\n",
    "\n",
    "rowCounter = 0\n",
    "qCounter = 0\n",
    "with open('memegenerator.csv', 'r', newline='', encoding='utf-16') as memedata:\n",
    "    reader = csv.DictReader(memedata, delimiter='\\t')\n",
    "    for row in reader: \n",
    "        rowCounter = rowCounter + 1\n",
    "        if row['Base Meme Name'] == q:\n",
    "            qCounter += 1\n",
    "            if qCounter > 5:\n",
    "                break\n",
    "            testURL = row['Archived URL']\n",
    "            print(qCounter, rowCounter, row['Archived URL'])\n",
    "            display(Image(url=testURL))\n"
   ]
  },
  {
   "cell_type": "markdown",
   "metadata": {},
   "source": [
    "### Why not just read directly into pandas from the csv? \n",
    "This would seem to work as long as we can make visualizations based on the data enumerated in the original csv. However, with the word count information, are calculating some new values. So for the things listed here it may be useful to do operations based on our new dictionaries and analysis, which draws from the csv information. "
   ]
  }
 ],
 "metadata": {
  "kernelspec": {
   "display_name": "Python 3",
   "language": "python",
   "name": "python3"
  },
  "language_info": {
   "codemirror_mode": {
    "name": "ipython",
    "version": 3
   },
   "file_extension": ".py",
   "mimetype": "text/x-python",
   "name": "python",
   "nbconvert_exporter": "python",
   "pygments_lexer": "ipython3",
   "version": "3.6.4"
  }
 },
 "nbformat": 4,
 "nbformat_minor": 2
}
