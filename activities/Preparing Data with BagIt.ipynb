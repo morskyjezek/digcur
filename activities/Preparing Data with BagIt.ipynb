{
 "cells": [
  {
   "cell_type": "markdown",
   "id": "1cce3a5c-6a05-4864-b731-241ef8f4c6e0",
   "metadata": {},
   "source": [
    "# Packaging Data (SIP Preparation)\n",
    "\n",
    "## What is packaging?\n",
    "\n",
    "OAIS describes packaging information as\n",
    "\n",
    "> that information which, either actually or logically, binds,\n",
    "identifies and relates the Content Information and PDI. (2-7)\n",
    "\n",
    "Whereas descriptive information provides useful tags or text for discovering digital information,\n",
    "the packaging information structures the information used for preservation (such as\n",
    "fixity checksums, unique identifiers, provenance, etc) and the \"content\" (the digital bitstream\n",
    "or content intended for preservation).\n",
    "\n",
    "To bring information into a digital preservation environment that follows the general\n",
    "models and functions outlined by the OAIS, the information needs to be formed into a\n",
    "submission information package (SIP). If this information is large-scale and an archive\n",
    "hopes to manage it, then consistently structured incoming information makes it more likely\n",
    "that a system of rules can be used to manage the archival storage consistently and\n",
    "reliably. For example, the University of North Texas defines their information packages according to\n",
    "this [prospectus](https://www.library.unt.edu/sites/default/files/documents/digital-libraries-uploads/Appendix_M_UNT_Libraries_OAIS_Information_Package_Specification.pdf). Examples of the information assets that make up\n",
    "information packages that are ingested and stored for the National Digital Newspaper Program,\n",
    "which provides the data for the historic newspaper database [Chronicling America](https://chroniclingamerica.loc.gov/), are [described here](http://www.loc.gov/ndnp/guidelines/examples.html).\n",
    "Some disciplines develop their own tools or standard protocols, and other digital repositories\n",
    "use tools to prepare information, such as Bagger and Data Accessioner.\n",
    "\n",
    "## What Is BagIt?\n",
    "\n",
    "BagIt is a packaging specification used by many digital libraries to assemble, document,\n",
    "transfer, and verify digital content. The idea is to place selected content\n",
    "into a \"bag\" that conforms to the [BagIt specification](https://tools.ietf.org/html/draft-kunze-bagit-14),\n",
    "which contains a basic description (bag-info.txt), a checksum manifest,\n",
    "and data payload. The general concept is that the package is \"self describing\" (the description\n",
    "acts like a \"tag\" on a physical bag naming the contents) and verifiable (using the\n",
    "checksum manifest).\n",
    "\n",
    "This format has been adopted in many settings. Various digital libraries, including the\n",
    "[California Digital Library](https://www.cdlib.org/cdlinfo/2008/07/02/bagit-transferring-digital-content/),\n",
    "[Digital Preservation Network](https://docs.google.com/document/d/1JqKMFn9KfeIMAAEdOGQr6LZPqNWx8Qubi12uoUXi2QU/edit),\n",
    "and others, have adopted the specification as a generalized format\n",
    "for submission and transfer of information (a SIP). Moreover, various tools, like\n",
    "[Exactly](https://www.weareavp.com/products/exactly/) have been developed that use the BagIt standard.\n",
    "\n",
    "### BagIt structure\n",
    "\n",
    "Data packaged according to the BagIt specification 1.x follows this general schema\n",
    "\n",
    "```\n",
    "<main folder>/\n",
    " | bag-info.txt\n",
    " | bagit.txt\n",
    " | manifest-sha256.txt\n",
    " | tagmanifest-sha256.txt\n",
    " \\--- data/\n",
    " | [payload files]\n",
    "```\n",
    "\n",
    "The `data` subfolder contains the content. The other files in the main folder contain\n",
    "information about the contents:\n",
    " * `bag-info.txt` contains all metadata entered by the packager (information you configure in the `-profile.json` file)\n",
    " * `manifest-sh256.txt` contains a manifest of all the files in the `data` folder and their checksums\n",
    " * `tagmanifest-sha256.txt` contains a manifest of the files and checksums of the contents of the main folder\n",
    " * `bagit.txt` identifies the version of BagIt specification  \n",
    "\n",
    "### Assembling files\n",
    "\n",
    "Bagger allows you to gather files into bags in two ways: using the GUI interface to select files,\n",
    "or assembling the files and then generating the bag structure based on the way you already have theme\n",
    "assembled. We're going to use this latter way.\n",
    "\n",
    "Put information into a structure that lets you store it in a coherent way. For example,\n",
    "it may be sufficient to have all files in one folder. Perhaps you have a series of images in both\n",
    "high-resolution preservation files and lower-resolution access derivatives.\n",
    "Other cases may suggest a hierarchical structure of folders. For example,\n",
    "you may want a series of folders and subfolders that correspond to the chapters of a\n",
    "book or other smaller semantic units; or perhaps large groupings demand deeper and\n",
    "more nested hierarchies (eg, a [pairtree](https://confluence.ucop.edu/display/Curation/PairTree) structure).\n",
    "\n",
    "When you assemble the files, it's useful to name them according to a standard protocol,\n",
    "which would be determined by the repository where you plan to store the bag.\n",
    "For example, the State Archives of North Carolina suggest that all BagIt bags should\n",
    "have a top folder name with that ends in `_bag` as a quick indicator that a folder\n",
    "represents a bag (note that while useful, this naming convention does not guarantee\n",
    "that the folder in quesiton is a *valid* BagIt bag).\n",
    "\n",
    "Once you have the files organized as you wish to store them, you are ready to create the \n",
    "bag. Although a relatively basic process once everything is set up, this step accomplishes \n",
    "the complicated work of generating the baginfo.txt file and requisite data integrity checksums.\n",
    "\n",
    "## Setup\n",
    "\n",
    "This activity will use a Python library to prepare a group of sample files according to the BagIt specification. Various other ways of creating bags are discussed below in this notebook. "
   ]
  },
  {
   "cell_type": "code",
   "execution_count": 2,
   "id": "4a40e385-610d-49fe-af72-f68f961f42d8",
   "metadata": {},
   "outputs": [
    {
     "name": "stdout",
     "output_type": "stream",
     "text": [
      "Collecting bagit\n",
      "  Downloading bagit-1.8.1-py2.py3-none-any.whl (35 kB)\n",
      "Installing collected packages: bagit\n",
      "Successfully installed bagit-1.8.1\n"
     ]
    }
   ],
   "source": [
    "# If you don't have bagit installed, install following instructions at https://github.com/LibraryOfCongress/bagit-python\n",
    "# Alternatively, you can use the magic command on the line below by removing the hashtag and running the cell.\n",
    "# (When the command below runs, you will see response output appear below this cell as the program downloads and installs.)\n",
    "#!pip install bagit"
   ]
  },
  {
   "cell_type": "markdown",
   "id": "d3f130a7-0369-42c6-a956-9cd6a3bb0358",
   "metadata": {},
   "source": [
    "To begin this activity, set up by importing the library:"
   ]
  },
  {
   "cell_type": "code",
   "execution_count": 3,
   "id": "ca80ccbe-f332-4673-b4ad-393b973d95b5",
   "metadata": {},
   "outputs": [],
   "source": [
    "import bagit"
   ]
  },
  {
   "cell_type": "markdown",
   "id": "7acb230e-31c5-4129-8d76-39f216240eed",
   "metadata": {},
   "source": [
    "## Bag the Files\n",
    "\n",
    "The purpose of the “bag” is to create information about the file structure, basic information that can demonstrate that the information has not changed, and to provide basic context (information about where the files came from, who filed them, and what they are). It is an open specification, so there are few requirements about how the files are structured. In this case, I am taking all of the files within a specific folder, using the Python bagit library to generate the fixity information, and explaining each step throughout the rest of this notebook:\n",
    "\n",
    "### BagInfo Metadata\n",
    "\n",
    "A well-formed bag should include as much information on the “tag” as possible, since this is where we can include information about the source and provenance of the data. This “BagInfo” information can be added using arguments in the functions that create bags. This example creates a dictionary of the bag information called `my_BagInfo`, which will be inserted as an argument during bag creation. If you use this code, replace information below with you the information appropriate to the project you’re working on."
   ]
  },
  {
   "cell_type": "code",
   "execution_count": 4,
   "id": "1510ac10-2dae-41f0-9bcc-e6ae357d85fb",
   "metadata": {},
   "outputs": [
    {
     "name": "stdout",
     "output_type": "stream",
     "text": [
      "Bag Info:\n",
      " {'Contact-Name': 'Jesse Johnston', 'Contact-Email': 'morskyjezek@gmail.com', 'External-Description': 'NEH Grant data files downloaded from NEH in December 2020.', 'Source-Organization': 'National Endowment for the Humanities (NEH)', 'Source-URL': 'https://securegrants.neh.gov/open/data/', 'Collected-Date': '2020-12-14'}\n"
     ]
    }
   ],
   "source": [
    "# create baginfo data\n",
    "my_BagInfo = {\n",
    "    'Contact-Name' : 'Jesse Johnston',\n",
    "    'Contact-Email': 'morskyjezek@gmail.com',\n",
    "    'External-Description': 'NEH Grant data files downloaded from NEH in December 2020.',\n",
    "    'Source-Organization': 'National Endowment for the Humanities (NEH)',\n",
    "    'Source-URL': 'https://securegrants.neh.gov/open/data/',\n",
    "    'Collected-Date': '2020-12-14'\n",
    "}\n",
    "\n",
    "print('Bag Info:\\n',my_BagInfo)"
   ]
  },
  {
   "cell_type": "markdown",
   "id": "f34df733-e3eb-459f-b212-9aec548675f5",
   "metadata": {},
   "source": [
    "### Bagging the files\n",
    "\n",
    "Now that we have the tool available via the library that we imported and created basic metadata for the bag, we can move on to “bag” the files. In this case, the files that we wanted to bag were in a directory named neh-grants-data-2012. We use the make_bag() function to make the bag, and we pass in as arguments the location of the files that we want to bag, the bag info (`my_BagInfo` dictionary), and in this case designated the utf-8 text encoding:"
   ]
  },
  {
   "cell_type": "code",
   "execution_count": null,
   "id": "c00380fe-9103-443e-acd2-d85adf653eda",
   "metadata": {},
   "outputs": [],
   "source": [
    "# create the bag\n",
    "bag = bagit.make_bag('neh-grants-data-202012', bag_info = my_BagInfo, encoding='utf-8')"
   ]
  },
  {
   "cell_type": "markdown",
   "id": "9c1d4d42-5ae6-4bc5-9314-eb1be7e373fb",
   "metadata": {},
   "source": [
    "### Examine the Bag\n",
    "\n",
    "To get an idea what's in the bag, you can explore the `bag` object and its data. \n",
    "For example, use the `entries.items()` method to display a list of the files and fixity information:"
   ]
  },
  {
   "cell_type": "code",
   "execution_count": 5,
   "id": "1863b573-05fc-4849-92b6-70083e71d1c2",
   "metadata": {},
   "outputs": [
    {
     "ename": "NameError",
     "evalue": "name 'bag' is not defined",
     "output_type": "error",
     "traceback": [
      "\u001b[0;31m---------------------------------------------------------------------------\u001b[0m",
      "\u001b[0;31mNameError\u001b[0m                                 Traceback (most recent call last)",
      "\u001b[0;32m<ipython-input-5-ffd4f87479dc>\u001b[0m in \u001b[0;36m<module>\u001b[0;34m\u001b[0m\n\u001b[1;32m      1\u001b[0m \u001b[0mline_count\u001b[0m \u001b[0;34m=\u001b[0m \u001b[0;36m0\u001b[0m\u001b[0;34m\u001b[0m\u001b[0;34m\u001b[0m\u001b[0m\n\u001b[0;32m----> 2\u001b[0;31m \u001b[0;32mfor\u001b[0m \u001b[0mpath\u001b[0m\u001b[0;34m,\u001b[0m \u001b[0mfixity\u001b[0m \u001b[0;32min\u001b[0m \u001b[0mbag\u001b[0m\u001b[0;34m.\u001b[0m\u001b[0mentries\u001b[0m\u001b[0;34m.\u001b[0m\u001b[0mitems\u001b[0m\u001b[0;34m(\u001b[0m\u001b[0;34m)\u001b[0m\u001b[0;34m:\u001b[0m\u001b[0;34m\u001b[0m\u001b[0;34m\u001b[0m\u001b[0m\n\u001b[0m\u001b[1;32m      3\u001b[0m     \u001b[0mline_count\u001b[0m \u001b[0;34m+=\u001b[0m \u001b[0;36m1\u001b[0m\u001b[0;34m\u001b[0m\u001b[0;34m\u001b[0m\u001b[0m\n\u001b[1;32m      4\u001b[0m     \u001b[0mprint\u001b[0m\u001b[0;34m(\u001b[0m\u001b[0;34m\"%s. path:%s sha256:%s\"\u001b[0m \u001b[0;34m%\u001b[0m \u001b[0;34m(\u001b[0m\u001b[0mline_count\u001b[0m\u001b[0;34m,\u001b[0m \u001b[0mpath\u001b[0m\u001b[0;34m,\u001b[0m \u001b[0mfixity\u001b[0m\u001b[0;34m[\u001b[0m\u001b[0;34m'sha256'\u001b[0m\u001b[0;34m]\u001b[0m\u001b[0;34m)\u001b[0m\u001b[0;34m)\u001b[0m\u001b[0;34m\u001b[0m\u001b[0;34m\u001b[0m\u001b[0m\n",
      "\u001b[0;31mNameError\u001b[0m: name 'bag' is not defined"
     ]
    }
   ],
   "source": [
    "line_count = 0\n",
    "for path, fixity in bag.entries.items():\n",
    "    line_count += 1\n",
    "    print(\"%s. path:%s sha256:%s\" % (line_count, path, fixity['sha256']))"
   ]
  },
  {
   "cell_type": "markdown",
   "id": "830cccec-0200-4a8b-9ff0-d25905e06b0a",
   "metadata": {},
   "source": [
    "You can also read the file contents of the `neh-grants-data-202012/manifest-sha256.txt` thus:"
   ]
  },
  {
   "cell_type": "code",
   "execution_count": null,
   "id": "27a21f88-e2c0-4c22-ae27-b2a26bd06133",
   "metadata": {},
   "outputs": [
    {
     "name": "stdout",
     "output_type": "stream",
     "text": [
      "zsh:1: no such file or directory: neh-grants-data-202012/manifest-sha256.txt\n"
     ]
    }
   ],
   "source": [
    "!cat `neh-grants-data-202012/manifest-sha256.txt`"
   ]
  },
  {
   "cell_type": "markdown",
   "id": "048c7204-bd19-4296-8576-c5d25c0d53d3",
   "metadata": {},
   "source": [
    "### Validate the Bag\n",
    "\n",
    "Now, we can use the `is_valid()` function to see if the bag object is ready, and if it is indeed an object that we can validate is a well-formed BagIt object:"
   ]
  },
  {
   "cell_type": "code",
   "execution_count": null,
   "id": "a4d69053-967e-4ee4-9f68-5fa56a56720d",
   "metadata": {},
   "outputs": [],
   "source": [
    "# check to see if the bag is valid\n",
    "if bag.is_valid():\n",
    "    print(\"yay :)\")\n",
    "else:\n",
    "    print(\"boo :(\")"
   ]
  },
  {
   "cell_type": "markdown",
   "id": "df74a286-841f-4af7-aeaf-8a5f0b3821dc",
   "metadata": {},
   "source": [
    "What does this do? Checks to see if the bag contains the required metadata (bag info, fixity) and checks the number of files"
   ]
  },
  {
   "cell_type": "markdown",
   "id": "34748d4a-003a-4af1-9085-11cc73f0292b",
   "metadata": {},
   "source": [
    "## Conclusion\n",
    "\n",
    "Now we have created basic metadata for this group of files, two types of fixity signatures (sha256 and sha512), and an inventory of the files (see `neh-grants-data-202012/manifest-sha256.txt`). This will serve as a basic description of the original files. In the next activities, we will continue to work with this information, but the original files will remain unchanged and available for further consultation or work beyond this project. All of our work will be to extract, transform, and clean the data that we pull from these files, which will be the basis for further computation, visualization, or other analysis."
   ]
  },
  {
   "cell_type": "markdown",
   "id": "95c79afe-16f6-483b-a7c9-8273fb46597e",
   "metadata": {},
   "source": [
    "## Resources\n",
    "\n",
    "See these additional resources for more detailed information:\n",
    "* State Archives of North Carolina, \"[Bagger GUI User Guide](https://files.nc.gov/dncr-archives/documents/files/using_bagger.pdf)\" (Updated 2012, v. 1.5), available as of March 2018.\n",
    "* M. Phillips, [\"What do we put in our BagIt bag-info.txt files?\"](https://vphill.com/journal/post/4142/) (2015).\n",
    "* UNT Libraries, UNT OAIS Information Package Specification (2015), https://www.library.unt.edu/sites/default/files/documents/digital-libraries-uploads/Appendix_M_UNT_Libraries_OAIS_Information_Package_Specification.pdf"
   ]
  }
 ],
 "metadata": {
  "kernelspec": {
   "display_name": "Python 3",
   "language": "python",
   "name": "python3"
  },
  "language_info": {
   "codemirror_mode": {
    "name": "ipython",
    "version": 3
   },
   "file_extension": ".py",
   "mimetype": "text/x-python",
   "name": "python",
   "nbconvert_exporter": "python",
   "pygments_lexer": "ipython3",
   "version": "3.8.8"
  }
 },
 "nbformat": 4,
 "nbformat_minor": 5
}
