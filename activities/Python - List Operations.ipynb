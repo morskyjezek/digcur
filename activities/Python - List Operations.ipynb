{
 "cells": [
  {
   "cell_type": "markdown",
   "metadata": {},
   "source": [
    "# List Operations\n",
    "\n",
    "Let's take a look at some of the things that we can do with lists. Lists are a mutable sequence of items that we can refer to by index, modify, concatenate, and more. Python represents dictionaries as a series of elements contained by single apostrophres, separated by commas, within a set of square brackets. Lists can be assigned to a variable using the square bracket notation (`[]`) as follows:"
   ]
  },
  {
   "cell_type": "code",
   "execution_count": 1,
   "metadata": {
    "collapsed": true
   },
   "outputs": [],
   "source": [
    "cheeses = ['brie', 'edam', 'gouda', 'cheddar']\n",
    "empty = []\n",
    "numbers = [35, 780, 42, 508]"
   ]
  },
  {
   "cell_type": "markdown",
   "metadata": {},
   "source": [
    "We now have three dictionaries: `cheeses`, `empty`, and `numbers`."
   ]
  },
  {
   "cell_type": "code",
   "execution_count": 2,
   "metadata": {
    "collapsed": false
   },
   "outputs": [
    {
     "name": "stdout",
     "output_type": "stream",
     "text": [
      "[35, 780, 42, 508]\n"
     ]
    }
   ],
   "source": [
    "print(numbers)"
   ]
  },
  {
   "cell_type": "code",
   "execution_count": 3,
   "metadata": {
    "collapsed": true
   },
   "outputs": [],
   "source": [
    "numbers[0] = 35"
   ]
  },
  {
   "cell_type": "code",
   "execution_count": 4,
   "metadata": {
    "collapsed": false
   },
   "outputs": [
    {
     "ename": "SyntaxError",
     "evalue": "keyword can't be an expression (<ipython-input-4-bfdee8d97f9a>, line 1)",
     "output_type": "error",
     "traceback": [
      "\u001b[0;36m  File \u001b[0;32m\"<ipython-input-4-bfdee8d97f9a>\"\u001b[0;36m, line \u001b[0;32m1\u001b[0m\n\u001b[0;31m    print(numbers[0] = 35)\u001b[0m\n\u001b[0m         ^\u001b[0m\n\u001b[0;31mSyntaxError\u001b[0m\u001b[0;31m:\u001b[0m keyword can't be an expression\n"
     ]
    }
   ],
   "source": [
    "print(numbers[0] = 35)"
   ]
  },
  {
   "cell_type": "code",
   "execution_count": 5,
   "metadata": {
    "collapsed": false
   },
   "outputs": [
    {
     "name": "stdout",
     "output_type": "stream",
     "text": [
      "[35, 780, 42, 508] ['brie', 'edam', 'gouda', 'cheddar'] []\n"
     ]
    }
   ],
   "source": [
    "print(numbers, cheeses, empty)"
   ]
  },
  {
   "cell_type": "code",
   "execution_count": 6,
   "metadata": {
    "collapsed": false
   },
   "outputs": [
    {
     "name": "stdout",
     "output_type": "stream",
     "text": [
      "True\n"
     ]
    }
   ],
   "source": [
    "if numbers[0] == 35:\n",
    "    print('True')"
   ]
  },
  {
   "cell_type": "code",
   "execution_count": 7,
   "metadata": {
    "collapsed": false
   },
   "outputs": [
    {
     "name": "stdout",
     "output_type": "stream",
     "text": [
      "[35, 86207, 42, 508]\n"
     ]
    }
   ],
   "source": [
    "numbers[1] = 86207\n",
    "print(numbers)"
   ]
  },
  {
   "cell_type": "code",
   "execution_count": 8,
   "metadata": {
    "collapsed": false
   },
   "outputs": [
    {
     "name": "stdout",
     "output_type": "stream",
     "text": [
      "['brie', 'edam', 'gouda', 'cheddar', 'gloucester']\n"
     ]
    }
   ],
   "source": [
    "cheeses.append('gloucester')\n",
    "print(cheeses)"
   ]
  },
  {
   "cell_type": "code",
   "execution_count": 9,
   "metadata": {
    "collapsed": false
   },
   "outputs": [
    {
     "name": "stdout",
     "output_type": "stream",
     "text": [
      "[70, 172414, 84, 1016]\n"
     ]
    }
   ],
   "source": [
    "for i in range(len(numbers)):\n",
    "    numbers[i] = numbers[i] * 2\n",
    "print(numbers)"
   ]
  },
  {
   "cell_type": "code",
   "execution_count": 11,
   "metadata": {
    "collapsed": false
   },
   "outputs": [
    {
     "name": "stdout",
     "output_type": "stream",
     "text": [
      "['edam', 'gouda', 'cheddar', 'gloucester']\n",
      "['gouda', 'cheddar']\n"
     ]
    }
   ],
   "source": [
    "print(cheeses)\n",
    "\n",
    "def chop(listToChange):\n",
    "    length = len(listToChange)\n",
    "    del listToChange[length - 1]\n",
    "    del listToChange[0]\n",
    "\n",
    "    print(listToChange)\n",
    "    \n",
    "chop(cheeses)"
   ]
  },
  {
   "cell_type": "code",
   "execution_count": 12,
   "metadata": {
    "collapsed": false
   },
   "outputs": [
    {
     "name": "stdout",
     "output_type": "stream",
     "text": [
      "[]\n"
     ]
    }
   ],
   "source": [
    "chop(cheeses)"
   ]
  },
  {
   "cell_type": "code",
   "execution_count": 13,
   "metadata": {
    "collapsed": false
   },
   "outputs": [
    {
     "name": "stdout",
     "output_type": "stream",
     "text": [
      "[172414, 84]\n"
     ]
    }
   ],
   "source": [
    "chop(numbers)"
   ]
  },
  {
   "cell_type": "code",
   "execution_count": 14,
   "metadata": {
    "collapsed": false
   },
   "outputs": [
    {
     "name": "stdout",
     "output_type": "stream",
     "text": [
      "[]\n"
     ]
    }
   ],
   "source": [
    "print(cheeses)"
   ]
  },
  {
   "cell_type": "code",
   "execution_count": 13,
   "metadata": {
    "collapsed": false
   },
   "outputs": [
    {
     "name": "stdout",
     "output_type": "stream",
     "text": [
      "['brie', 'edam', 'gouda', 'cheddar', 'gloucester', 'brie', 'gouda', 'edam', 'cheddar', 'limburger', 'brie', 'gouda', 'edam', 'cheddar', 'limburger', 'brie', 'gouda', 'edam', 'cheddar', 'limburger', 'brie', 'gouda', 'edam', 'cheddar', 'limburger']\n"
     ]
    }
   ],
   "source": [
    "cheeses.extend(['brie','gouda','edam','cheddar','limburger'])\n",
    "print(cheeses)"
   ]
  },
  {
   "cell_type": "code",
   "execution_count": 18,
   "metadata": {
    "collapsed": false
   },
   "outputs": [
    {
     "name": "stdout",
     "output_type": "stream",
     "text": [
      "['gouda', 'edam', 'cheddar']\n"
     ]
    }
   ],
   "source": [
    "chop(cheeses)"
   ]
  },
  {
   "cell_type": "code",
   "execution_count": 19,
   "metadata": {
    "collapsed": false
   },
   "outputs": [
    {
     "name": "stdout",
     "output_type": "stream",
     "text": [
      "['edam']\n"
     ]
    }
   ],
   "source": [
    "chop(cheeses)"
   ]
  },
  {
   "cell_type": "code",
   "execution_count": 21,
   "metadata": {
    "collapsed": false
   },
   "outputs": [
    {
     "name": "stdout",
     "output_type": "stream",
     "text": [
      "['e', 'd', 'a', 'm']\n"
     ]
    }
   ],
   "source": [
    "sliced = list(cheeses[0])\n",
    "print(sliced)"
   ]
  },
  {
   "cell_type": "code",
   "execution_count": 22,
   "metadata": {
    "collapsed": false
   },
   "outputs": [
    {
     "name": "stdout",
     "output_type": "stream",
     "text": [
      "['edam']\n",
      "['e', 'd', 'a', 'm']\n"
     ]
    }
   ],
   "source": [
    "print(cheeses)\n",
    "print(sliced)"
   ]
  },
  {
   "cell_type": "markdown",
   "metadata": {},
   "source": [
    "The dictionaries and functions above, as well as the content, was inspired by Dr. Chuck's intro to [Lists at Python 4 Everybody](https://www.py4e.com/html3/08-lists)."
   ]
  }
 ],
 "metadata": {
  "anaconda-cloud": {},
  "kernelspec": {
   "display_name": "Python [Root]",
   "language": "python",
   "name": "Python [Root]"
  },
  "language_info": {
   "codemirror_mode": {
    "name": "ipython",
    "version": 3
   },
   "file_extension": ".py",
   "mimetype": "text/x-python",
   "name": "python",
   "nbconvert_exporter": "python",
   "pygments_lexer": "ipython3",
   "version": "3.5.1"
  }
 },
 "nbformat": 4,
 "nbformat_minor": 0
}
