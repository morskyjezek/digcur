{
 "cells": [
  {
   "cell_type": "markdown",
   "id": "22461136-0eac-401d-b6a7-68dcbc2bae6b",
   "metadata": {},
   "source": [
    "# Working with Wikidata and File Formats\n",
    "\n",
    "This notebook is a DRAFT. The notebook begins outlining how to interact with wikidata via the notebook, and\n",
    "uses SPARQL queries to ask about entities in wikidata, with the goal of processing information\n",
    "about file formats that are listed in the wikibase.\n",
    "\n",
    "If not installed, install the qwikidata library. See https://qwikidata.readthedocs.io/en/stable/readme.html for more information."
   ]
  },
  {
   "cell_type": "code",
   "execution_count": 1,
   "id": "60e6197a-9b6f-4634-a072-45ef338534df",
   "metadata": {},
   "outputs": [
    {
     "name": "stdout",
     "output_type": "stream",
     "text": [
      "Collecting qwikidata\n",
      "  Downloading qwikidata-0.4.0-py3-none-any.whl (20 kB)\n",
      "Requirement already satisfied: mypy-extensions in /Users/rickypunzalan/anaconda3/lib/python3.8/site-packages (from qwikidata) (0.4.3)\n",
      "Requirement already satisfied: requests in /Users/rickypunzalan/anaconda3/lib/python3.8/site-packages (from qwikidata) (2.25.1)\n",
      "Requirement already satisfied: idna<3,>=2.5 in /Users/rickypunzalan/anaconda3/lib/python3.8/site-packages (from requests->qwikidata) (2.10)\n",
      "Requirement already satisfied: urllib3<1.27,>=1.21.1 in /Users/rickypunzalan/anaconda3/lib/python3.8/site-packages (from requests->qwikidata) (1.26.4)\n",
      "Requirement already satisfied: certifi>=2017.4.17 in /Users/rickypunzalan/anaconda3/lib/python3.8/site-packages (from requests->qwikidata) (2020.12.5)\n",
      "Requirement already satisfied: chardet<5,>=3.0.2 in /Users/rickypunzalan/anaconda3/lib/python3.8/site-packages (from requests->qwikidata) (4.0.0)\n",
      "Installing collected packages: qwikidata\n",
      "Successfully installed qwikidata-0.4.0\n"
     ]
    }
   ],
   "source": [
    "!pip install qwikidata"
   ]
  },
  {
   "cell_type": "code",
   "execution_count": 2,
   "id": "823fb317-0e71-442e-aec0-391b1eaa832d",
   "metadata": {},
   "outputs": [
    {
     "data": {
      "text/plain": [
       "WikidataItem(label=Jerome Kern, id=Q313270, description=American composer of musical theater and popular music (1885-1945), aliases=['Jerome David Kern'], enwiki_title=Jerome Kern)"
      ]
     },
     "execution_count": 2,
     "metadata": {},
     "output_type": "execute_result"
    }
   ],
   "source": [
    "from qwikidata.entity import WikidataItem, WikidataLexeme, WikidataProperty\n",
    "from qwikidata.linked_data_interface import get_entity_dict_from_api\n",
    "\n",
    "# create an item representing \"Jerome Kern\"\n",
    "Q_Jerry_Kern = \"Q313270\"\n",
    "q313270_dict = get_entity_dict_from_api(Q_Jerry_Kern)\n",
    "q313270 = WikidataItem(q313270_dict)\n",
    "\n",
    "q313270"
   ]
  },
  {
   "cell_type": "code",
   "execution_count": 14,
   "id": "55aad04d-321f-4118-90d7-6976ac8a3bb0",
   "metadata": {},
   "outputs": [
    {
     "name": "stdout",
     "output_type": "stream",
     "text": [
      "pageid\n",
      "ns\n",
      "title\n",
      "lastrevid\n",
      "modified\n",
      "type\n",
      "id\n",
      "labels\n",
      "descriptions\n",
      "aliases\n",
      "claims\n",
      "sitelinks\n"
     ]
    }
   ],
   "source": [
    "# look through the dictionary\n",
    "for item in q313270_dict:\n",
    "    print(item)\n",
    "    #print(item,':',q313270_dict[item]) #<-- print keys and values"
   ]
  },
  {
   "cell_type": "code",
   "execution_count": 21,
   "id": "61cf7d86-8354-492d-88da-b4c21853b9f8",
   "metadata": {},
   "outputs": [
    {
     "data": {
      "text/plain": [
       "{'it': {'language': 'it', 'value': 'compositore statunitense'},\n",
       " 'fr': {'language': 'fr', 'value': 'compositeur américain'},\n",
       " 'de': {'language': 'de', 'value': 'US-amerikanischer Komponist'},\n",
       " 'fa': {'language': 'fa', 'value': 'آهنگساز آمریکایی'},\n",
       " 'nb': {'language': 'nb', 'value': 'amerikansk komponist'},\n",
       " 'nn': {'language': 'nn', 'value': 'amerikansk komponist'},\n",
       " 'da': {'language': 'da', 'value': 'amerikansk komponist'},\n",
       " 'sv': {'language': 'sv', 'value': 'amerikansk kompositör'},\n",
       " 'en': {'language': 'en',\n",
       "  'value': 'American composer of musical theater and popular music (1885-1945)'},\n",
       " 'nl': {'language': 'nl', 'value': 'Amerikaans componist (1885-1945)'},\n",
       " 'uk': {'language': 'uk', 'value': 'американський композитор'},\n",
       " 'he': {'language': 'he', 'value': 'מלחין יהודי אמריקני'},\n",
       " 'cs': {'language': 'cs', 'value': 'americký skladatel'},\n",
       " 'ca': {'language': 'ca', 'value': 'compositor estatunidenc'},\n",
       " 'id': {'language': 'id', 'value': 'Komposer Amerika'}}"
      ]
     },
     "execution_count": 21,
     "metadata": {},
     "output_type": "execute_result"
    }
   ],
   "source": [
    "# display contents of an element\n",
    "q313270_dict['descriptions']"
   ]
  },
  {
   "cell_type": "code",
   "execution_count": 44,
   "id": "9cb765d8-e087-4189-978a-175d233aee7f",
   "metadata": {},
   "outputs": [
    {
     "name": "stdout",
     "output_type": "stream",
     "text": [
      "American composer of musical theater and popular music (1885-1945)\n"
     ]
    }
   ],
   "source": [
    "en_descrip = q313270_dict['descriptions']['en']['value']\n",
    "\n",
    "print(en_descrip)"
   ]
  },
  {
   "cell_type": "code",
   "execution_count": 23,
   "id": "771ee5f4-d504-4e23-a135-a9653a1c1eb1",
   "metadata": {},
   "outputs": [
    {
     "name": "stdout",
     "output_type": "stream",
     "text": [
      "{'head': {'vars': ['count']}, 'results': {'bindings': [{'count': {'datatype': 'http://www.w3.org/2001/XMLSchema#integer', 'type': 'literal', 'value': '9390415'}}]}}\n"
     ]
    }
   ],
   "source": [
    "from qwikidata.sparql import (get_subclasses_of_item,\n",
    "                              return_sparql_query_results)\n",
    "\n",
    "# send any sparql query to the wikidata query service and get full result back\n",
    "# here we use an example that counts the number of humans\n",
    "sparql_query = \"\"\"\n",
    "SELECT (COUNT(?item) AS ?count)\n",
    "WHERE {\n",
    "        ?item wdt:P31/wdt:P279* wd:Q5 .\n",
    "}\n",
    "\"\"\"\n",
    "res = return_sparql_query_results(sparql_query)\n",
    "\n",
    "print(res)"
   ]
  },
  {
   "cell_type": "code",
   "execution_count": 33,
   "id": "bf8d27df-02e7-4012-89f7-129676514f21",
   "metadata": {},
   "outputs": [
    {
     "data": {
      "text/plain": [
       "'9390415'"
      ]
     },
     "execution_count": 33,
     "metadata": {},
     "output_type": "execute_result"
    }
   ],
   "source": [
    "res['results']['bindings'][0]['count']['value']"
   ]
  },
  {
   "cell_type": "code",
   "execution_count": 41,
   "id": "c6cadcc9-e965-435e-90f2-d1d8407f5cb0",
   "metadata": {},
   "outputs": [
    {
     "name": "stdout",
     "output_type": "stream",
     "text": [
      "268 ['Q235557', 'Q86920', 'Q167772', 'Q223535', 'Q229762', 'Q243303', 'Q278934', 'Q285972', 'Q287067', 'Q290741', 'Q336705', 'Q379545', 'Q467454', 'Q497118', 'Q507860', 'Q527723', 'Q594447', 'Q682626', 'Q691652', 'Q863883', 'Q1056408', 'Q1135858', 'Q1224822', 'Q1343033', 'Q1351368', 'Q1363415', 'Q1485661', 'Q1572121', 'Q1727359', 'Q1840684', 'Q1931564', 'Q1955133', 'Q2141493', 'Q2206173', 'Q2427787', 'Q2720536', 'Q3077335', 'Q3498805', 'Q3502441', 'Q3930596', 'Q4781113', 'Q4836790', 'Q5008632', 'Q5090461', 'Q5090500', 'Q5156830', 'Q5227180', 'Q5248648', 'Q5359789', 'Q5426535', 'Q6046575', 'Q7079133', 'Q7203483', 'Q7508366', 'Q16361936', 'Q16545707', 'Q17042621', 'Q17074854', 'Q17087630', 'Q17560478', 'Q17636230', 'Q18011768', 'Q18359031', 'Q20155966', 'Q26697935', 'Q27198004', 'Q27823178', 'Q27824058', 'Q27826463', 'Q27915156', 'Q27915171', 'Q27915172', 'Q27915173', 'Q27915174', 'Q27967078', 'Q27978793', 'Q28009469', 'Q28049484', 'Q28049572', 'Q28344234', 'Q28846068', 'Q28846076', 'Q28846144', 'Q28846213', 'Q28858032', 'Q29642901', 'Q29644049', 'Q29651120', 'Q29904526', 'Q29905212', 'Q29943235', 'Q29943476', 'Q29944450', 'Q34274654', 'Q34289060', 'Q34735959', 'Q34739013', 'Q34746188', 'Q42573997', 'Q42574058', 'Q45989477', 'Q48570159', 'Q53756508', 'Q55281818', 'Q57696248', 'Q58787678', 'Q81986407', 'Q100324157', 'Q14717', 'Q1141412', 'Q1149007', 'Q1421584', 'Q1593782', 'Q31398150', 'Q37760740', 'Q19358669', 'Q27894992', 'Q28379876', 'Q105854818', 'Q42332', 'Q184473', 'Q279979', 'Q772992', 'Q1886335', 'Q7121072', 'Q17484151', 'Q25103897', 'Q26853769', 'Q28206733', 'Q300036', 'Q758853', 'Q3415066', 'Q17144022', 'Q100165244', 'Q100165439', 'Q100165480', 'Q100165626', 'Q100165780', 'Q100166033', 'Q8436198', 'Q136218', 'Q194831', 'Q270131', 'Q592312', 'Q635758', 'Q784695', 'Q943442', 'Q2026749', 'Q4298914', 'Q16910955', 'Q27824016', 'Q1924634', 'Q2141903', 'Q10658696', 'Q27996264', 'Q28049403', 'Q98713463', 'Q105599390', 'Q105599400', 'Q29650342', 'Q771510', 'Q2597575', 'Q27959794', 'Q27959899', 'Q72199233', 'Q1053358', 'Q27959500', 'Q27959524', 'Q63082925', 'Q1384925', 'Q22907900', 'Q17560541', 'Q576465', 'Q1480633', 'Q29943361', 'Q29943364', 'Q785247', 'Q2330096', 'Q57695955', 'Q58787903', 'Q125650', 'Q1423339', 'Q1547957', 'Q28757850', 'Q39170567', 'Q29167474', 'Q29167475', 'Q29167476', 'Q29167477', 'Q29167495', 'Q59851707', 'Q56827160', 'Q56827161', 'Q877050', 'Q893139', 'Q1973327', 'Q7448307', 'Q1952448', 'Q6026738', 'Q34311120', 'Q100235486', 'Q2078', 'Q939636', 'Q1047541', 'Q1072083', 'Q1122267', 'Q1961044', 'Q2044200', 'Q3054349', 'Q3564764', 'Q2313301', 'Q3570403', 'Q26205771', 'Q26207712', 'Q26207734', 'Q26207792', 'Q26207808', 'Q26207821', 'Q26207986', 'Q26208253', 'Q26211338', 'Q26211510', 'Q26211528', 'Q26211536', 'Q28346137', 'Q280761', 'Q27894844', 'Q26329975', 'Q26383099', 'Q26385770', 'Q178051', 'Q192869', 'Q215106', 'Q654383', 'Q17154458', 'Q62617958', 'Q2584726', 'Q63061679', 'Q7670377', 'Q27866048', 'Q26791581', 'Q2385777', 'Q5260569', 'Q71274998', 'Q71275233', 'Q71432876', 'Q71433176', 'Q71828821', 'Q71829168', 'Q71831258', 'Q71832451', 'Q71837258', 'Q71856089', 'Q71858982', 'Q71859176', 'Q71859354', 'Q71859512', 'Q71859659', 'Q71973058', 'Q64139617', 'Q28206714', 'Q26329648', 'Q75597003', 'Q75597419', 'Q75597761', 'Q75598901', 'Q75710135', 'Q75710254']\n"
     ]
    }
   ],
   "source": [
    "# use convenience function to get subclasses of an item as a list of item ids\n",
    "Q_id = \"Q235557\"\n",
    "subclasses = get_subclasses_of_item(Q_id)\n",
    "\n",
    "print(len(subclasses), subclasses)"
   ]
  },
  {
   "cell_type": "code",
   "execution_count": null,
   "id": "311e57cb-622c-41e6-a9de-3989f7bc4583",
   "metadata": {},
   "outputs": [],
   "source": [
    "# create a property representing \"subclass of\"\n",
    "P_SUBCLASS_OF = \"P279\"\n",
    "p279_dict = get_entity_dict_from_api(P_SUBCLASS_OF)\n",
    "p279 = WikidataProperty(p279_dict)\n",
    "\n",
    "# create a lexeme representing \"bank\"\n",
    "L_BANK = \"L3354\"\n",
    "l3354_dict = get_entity_dict_from_api(L_BANK)\n",
    "l3354 = WikidataLexeme(l3354_dict)"
   ]
  },
  {
   "cell_type": "markdown",
   "id": "8c0a1bc5-988e-4439-bb6b-25597a175bfc",
   "metadata": {},
   "source": [
    "# Query the File Format Entities\n",
    "\n",
    "The next blocks use `qwikidata` to send a SPARQL query to wikidata. \n",
    "The query looks for all of the items associated with file format or\n",
    "file format family. \n",
    "\n",
    "As of October 2021, the following query suggests that there should be 13,699 items \n",
    "represented by these file entities:\n",
    "\n",
    "```\n",
    "SELECT (COUNT(?item) AS ?count)\n",
    "WHERE {\n",
    "        ?item wdt:P31/wdt:P279* wd:Q235557 .\n",
    "}\n",
    "```\n",
    "\n",
    "This query was derived from the query that generates the table at https://www.wikidata.org/wiki/Wikidata:WikiProject_Informatics/Structures/File_formats/List"
   ]
  },
  {
   "cell_type": "code",
   "execution_count": 45,
   "id": "df02da6e-99a7-47d8-ae03-b32bafb5a29d",
   "metadata": {},
   "outputs": [
    {
     "name": "stdout",
     "output_type": "stream",
     "text": [
      "2\n"
     ]
    }
   ],
   "source": [
    "from qwikidata.sparql import (get_subclasses_of_item,\n",
    "                              return_sparql_query_results)\n",
    "\n",
    "# send any sparql query to the wikidata query service and get full result back\n",
    "# here we use an example that counts the number of humans\n",
    "sparql_query = \"\"\"\n",
    "SELECT ?item \n",
    "\n",
    "WHERE { \n",
    "    ?item wdt:P31*/wdt:P279* wd:Q235557 \n",
    "}\n",
    "\"\"\"\n",
    "file_format_results = return_sparql_query_results(sparql_query)\n",
    "\n",
    "print(len(file_format_results))"
   ]
  },
  {
   "cell_type": "code",
   "execution_count": 53,
   "id": "7a587f38-9687-42d4-91ad-cdf2106004a7",
   "metadata": {},
   "outputs": [
    {
     "name": "stdout",
     "output_type": "stream",
     "text": [
      "head\n",
      "results\n"
     ]
    }
   ],
   "source": [
    "for key in file_format_results:\n",
    "    print(key)"
   ]
  },
  {
   "cell_type": "code",
   "execution_count": 96,
   "id": "37db4be9-80ad-4df2-b42a-43926ce79f1d",
   "metadata": {},
   "outputs": [
    {
     "name": "stdout",
     "output_type": "stream",
     "text": [
      "Q452197\n"
     ]
    }
   ],
   "source": [
    "# each entity URL is in a dictionary called 'bindings' in the 'results' dictionary\n",
    "# to get the entity ID, split off the last element of the URL:\n",
    "\n",
    "test_string = 'http://www.wikidata.org/entity/Q452197'\n",
    "\n",
    "id = test_string.split('/')[-1]\n",
    "\n",
    "print(id)"
   ]
  },
  {
   "cell_type": "code",
   "execution_count": 97,
   "id": "b8ea20b6-d9aa-4c37-ab82-245450b73ecd",
   "metadata": {
    "tags": []
   },
   "outputs": [
    {
     "data": {
      "text/plain": [
       "13699"
      ]
     },
     "execution_count": 97,
     "metadata": {},
     "output_type": "execute_result"
    }
   ],
   "source": [
    "format_related_entities_list = list()\n",
    "\n",
    "for format in file_format_results['results']['bindings']:\n",
    "    if format['item']['type'] == 'uri':\n",
    "        format_related_entities_list.append(format['item']['value'].split('/')[-1])\n",
    "\n",
    "len(format_related_entities_list)"
   ]
  },
  {
   "cell_type": "code",
   "execution_count": 100,
   "id": "41a31beb-47fd-46d4-a2e2-52f0157bb0bf",
   "metadata": {
    "tags": []
   },
   "outputs": [
    {
     "name": "stdout",
     "output_type": "stream",
     "text": [
      "Q452197\n",
      "Q1388170\n",
      "Q2623363\n",
      "Q3063023\n",
      "Q16530692\n",
      "Q61047486\n",
      "Q62391975\n",
      "Q64952115\n",
      "Q98381664\n",
      "Q98381938\n",
      "Q29946121\n"
     ]
    }
   ],
   "source": [
    "c = 0 \n",
    "\n",
    "for entity in format_related_entities_list:\n",
    "    c += 1\n",
    "    print(entity)\n",
    "    if c > 10:\n",
    "        break"
   ]
  },
  {
   "cell_type": "code",
   "execution_count": null,
   "id": "620549d5-46f1-42e2-bd89-ee35fdd0958a",
   "metadata": {},
   "outputs": [],
   "source": []
  }
 ],
 "metadata": {
  "kernelspec": {
   "display_name": "Python 3",
   "language": "python",
   "name": "python3"
  },
  "language_info": {
   "codemirror_mode": {
    "name": "ipython",
    "version": 3
   },
   "file_extension": ".py",
   "mimetype": "text/x-python",
   "name": "python",
   "nbconvert_exporter": "python",
   "pygments_lexer": "ipython3",
   "version": "3.8.8"
  }
 },
 "nbformat": 4,
 "nbformat_minor": 5
}
