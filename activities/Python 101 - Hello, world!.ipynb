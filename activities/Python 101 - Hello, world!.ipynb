{
 "cells": [
  {
   "cell_type": "markdown",
   "metadata": {},
   "source": [
    "# Python 101 - Basics\n",
    "\n",
    "This notebook demonstrated some of the basics of the programming language Python. We look into the basic \n",
    "structure of a function, which is the way that you can bundle and reuse code in Python. \n",
    "We find that although we may not know exactly how the language works, \n",
    "there is a common syntax, which we can see, and still modify to make it do something else. \n",
    "We created our first programs, it's that easy!\n",
    "\n",
    "We also look through the basics of how to make a \"statement,\" which is a one-line\n",
    "text unit in Python that the interpreter (the way that the language \"interprets\" to give \n",
    "instructions to the kernel/CPU). The interpreter will evaluate the statement - possibly \n",
    "by giving a numerical result or a Boolean answer (i.e., `True` or `False`). \n",
    "\n",
    "We explore some basic data types. The language uses data types to control what it can or can't\n",
    "do with values that it is given. For example, _strings_ can be subjected to certain operations, or \"methods,\"\n",
    "while _integers_ may have others. You can use basic mathematical symbols, such as `+` and `-` to manipulate\n",
    "values. This notebook doesn't include the details, but make sure you review other symbols, \n",
    "such as `*` and `**` and `/` and `%`, if you are going to do more advanced calcuations in this language.\n",
    "\n",
    "For the purposes of this course, which aims to explore the use of Python to gather information from the file system, \n",
    "such as directory lists and file metadata, we are mostly going to focus on strings, lists, and dictionaries. \n",
    "But be aware that there are other data types in Python, which may be more useful as you do other things. "
   ]
  },
  {
   "cell_type": "markdown",
   "metadata": {},
   "source": [
    "### Statements\n",
    "\n",
    "These are units of code on one line. Python can _evaluate_ the statement, computing a response. \n",
    "\n",
    "You can use mathematical symbols to evaluate expressions involving numerical values. "
   ]
  },
  {
   "cell_type": "code",
   "execution_count": 1,
   "metadata": {},
   "outputs": [
    {
     "data": {
      "text/plain": [
       "4"
      ]
     },
     "execution_count": 1,
     "metadata": {},
     "output_type": "execute_result"
    }
   ],
   "source": [
    "2 + 2"
   ]
  },
  {
   "cell_type": "code",
   "execution_count": 2,
   "metadata": {},
   "outputs": [
    {
     "data": {
      "text/plain": [
       "True"
      ]
     },
     "execution_count": 2,
     "metadata": {},
     "output_type": "execute_result"
    }
   ],
   "source": [
    "2 == 2"
   ]
  },
  {
   "cell_type": "code",
   "execution_count": 3,
   "metadata": {},
   "outputs": [
    {
     "data": {
      "text/plain": [
       "False"
      ]
     },
     "execution_count": 3,
     "metadata": {},
     "output_type": "execute_result"
    }
   ],
   "source": [
    "2 == 4"
   ]
  },
  {
   "cell_type": "code",
   "execution_count": 4,
   "metadata": {},
   "outputs": [
    {
     "data": {
      "text/plain": [
       "32566"
      ]
     },
     "execution_count": 4,
     "metadata": {},
     "output_type": "execute_result"
    }
   ],
   "source": [
    "32568 - 2"
   ]
  },
  {
   "cell_type": "code",
   "execution_count": 5,
   "metadata": {},
   "outputs": [
    {
     "data": {
      "text/plain": [
       "16"
      ]
     },
     "execution_count": 5,
     "metadata": {},
     "output_type": "execute_result"
    }
   ],
   "source": [
    "4 * 4"
   ]
  },
  {
   "cell_type": "code",
   "execution_count": 6,
   "metadata": {},
   "outputs": [
    {
     "data": {
      "text/plain": [
       "16"
      ]
     },
     "execution_count": 6,
     "metadata": {},
     "output_type": "execute_result"
    }
   ],
   "source": [
    "4 ** 2"
   ]
  },
  {
   "cell_type": "code",
   "execution_count": 7,
   "metadata": {},
   "outputs": [
    {
     "data": {
      "text/plain": [
       "2.0"
      ]
     },
     "execution_count": 7,
     "metadata": {},
     "output_type": "execute_result"
    }
   ],
   "source": [
    "4 / 2"
   ]
  },
  {
   "cell_type": "code",
   "execution_count": 9,
   "metadata": {},
   "outputs": [
    {
     "data": {
      "text/plain": [
       "False"
      ]
     },
     "execution_count": 9,
     "metadata": {},
     "output_type": "execute_result"
    }
   ],
   "source": [
    "'UMD Library' == 'UMD library'"
   ]
  },
  {
   "cell_type": "code",
   "execution_count": 13,
   "metadata": {},
   "outputs": [
    {
     "data": {
      "text/plain": [
       "False"
      ]
     },
     "execution_count": 13,
     "metadata": {},
     "output_type": "execute_result"
    }
   ],
   "source": [
    "34 < 34"
   ]
  },
  {
   "cell_type": "code",
   "execution_count": 14,
   "metadata": {},
   "outputs": [
    {
     "data": {
      "text/plain": [
       "True"
      ]
     },
     "execution_count": 14,
     "metadata": {},
     "output_type": "execute_result"
    }
   ],
   "source": [
    "'UMD Library' != 'UMD Archives'"
   ]
  },
  {
   "cell_type": "code",
   "execution_count": 15,
   "metadata": {},
   "outputs": [
    {
     "data": {
      "text/plain": [
       "7"
      ]
     },
     "execution_count": 15,
     "metadata": {},
     "output_type": "execute_result"
    }
   ],
   "source": [
    "# comment\n",
    "3 + 4"
   ]
  },
  {
   "cell_type": "markdown",
   "metadata": {},
   "source": [
    "### Variables\n",
    "\n",
    "You can store information using a \"variable.\" This allows you to place a value, or returned response, in a\n",
    "reusable container. Variables are assigned using the `=` character as an operator. "
   ]
  },
  {
   "cell_type": "code",
   "execution_count": 16,
   "metadata": {},
   "outputs": [
    {
     "name": "stdout",
     "output_type": "stream",
     "text": [
      "Testudo\n"
     ]
    }
   ],
   "source": [
    "mascot = 'Testudo'\n",
    "\n",
    "print(mascot)"
   ]
  },
  {
   "cell_type": "code",
   "execution_count": 18,
   "metadata": {},
   "outputs": [
    {
     "name": "stdout",
     "output_type": "stream",
     "text": [
      "Testudo\n"
     ]
    },
    {
     "data": {
      "text/plain": [
       "7"
      ]
     },
     "execution_count": 18,
     "metadata": {},
     "output_type": "execute_result"
    }
   ],
   "source": [
    "print(mascot)\n",
    "len(mascot)"
   ]
  },
  {
   "cell_type": "code",
   "execution_count": 2,
   "metadata": {},
   "outputs": [],
   "source": [
    "founder = 'Thomas Jefferson'\n",
    "LC_date = 1800\n",
    "UMD_date = 1856\n",
    "mascot = 'Testudo'\n",
    "LC = 'Library of Congress'\n",
    "Uni = 'University of Maryland'"
   ]
  },
  {
   "cell_type": "code",
   "execution_count": 20,
   "metadata": {},
   "outputs": [
    {
     "data": {
      "text/plain": [
       "False"
      ]
     },
     "execution_count": 20,
     "metadata": {},
     "output_type": "execute_result"
    }
   ],
   "source": [
    "# Re-Use variables in expressions, which will evaluate according to the stored values. \n",
    "\n",
    "LC_date > UMD_date"
   ]
  },
  {
   "cell_type": "markdown",
   "metadata": {},
   "source": [
    "### Data Types\n",
    "\n",
    "We're primarily going to use strings and lists, but there are many types of variables. Here are a few examples\n",
    "that introduce strings and how to use slicing and splitting and indexing to identify specific characters in a string. \n",
    "\n",
    "To determine the type of a variable or value, use the `type()` function. \n",
    "\n",
    "Some variables and values can be changed into other data types. For example, if you have an integer, you \n",
    "can convert it to a string using the `str()` function. "
   ]
  },
  {
   "cell_type": "markdown",
   "metadata": {},
   "source": [
    "#### Strings"
   ]
  },
  {
   "cell_type": "code",
   "execution_count": 30,
   "metadata": {},
   "outputs": [
    {
     "name": "stdout",
     "output_type": "stream",
     "text": [
      "The Library of Congress was founded in 1800\n"
     ]
    }
   ],
   "source": [
    "#concatenate strings with +\n",
    "print('The ' + LC + ' was founded in ' + str(LC_date))"
   ]
  },
  {
   "cell_type": "code",
   "execution_count": 34,
   "metadata": {},
   "outputs": [
    {
     "name": "stdout",
     "output_type": "stream",
     "text": [
      "The LC variable has 19 characters\n"
     ]
    }
   ],
   "source": [
    "print('The LC variable has ' + str(len(LC)) + ' characters')"
   ]
  },
  {
   "cell_type": "code",
   "execution_count": 3,
   "metadata": {},
   "outputs": [
    {
     "name": "stdout",
     "output_type": "stream",
     "text": [
      "Library\n"
     ]
    }
   ],
   "source": [
    "# slice string using the square brackets\n",
    "print(LC[0:7])"
   ]
  },
  {
   "cell_type": "code",
   "execution_count": 42,
   "metadata": {},
   "outputs": [
    {
     "data": {
      "text/plain": [
       "['Library', 'of', 'Congress']"
      ]
     },
     "execution_count": 42,
     "metadata": {},
     "output_type": "execute_result"
    }
   ],
   "source": [
    "LC.split(' ')"
   ]
  },
  {
   "cell_type": "code",
   "execution_count": 44,
   "metadata": {},
   "outputs": [
    {
     "data": {
      "text/plain": [
       "['Lib', 'a', 'yOfCong', 'ess']"
      ]
     },
     "execution_count": 44,
     "metadata": {},
     "output_type": "execute_result"
    }
   ],
   "source": [
    "string_no_space = 'LibraryOfCongress'\n",
    "\n",
    "string_no_space.split()"
   ]
  },
  {
   "cell_type": "code",
   "execution_count": 45,
   "metadata": {},
   "outputs": [
    {
     "name": "stdout",
     "output_type": "stream",
     "text": [
      "Help on built-in function print in module builtins:\n",
      "\n",
      "print(...)\n",
      "    print(value, ..., sep=' ', end='\\n', file=sys.stdout, flush=False)\n",
      "    \n",
      "    Prints the values to a stream, or to sys.stdout by default.\n",
      "    Optional keyword arguments:\n",
      "    file:  a file-like object (stream); defaults to the current sys.stdout.\n",
      "    sep:   string inserted between values, default a space.\n",
      "    end:   string appended after the last value, default a newline.\n",
      "    flush: whether to forcibly flush the stream.\n",
      "\n"
     ]
    }
   ],
   "source": [
    "help(print)"
   ]
  },
  {
   "cell_type": "code",
   "execution_count": 46,
   "metadata": {},
   "outputs": [],
   "source": [
    "length_of_LC = len(LC)\n",
    "len_Uni = len(Uni)"
   ]
  },
  {
   "cell_type": "code",
   "execution_count": 48,
   "metadata": {},
   "outputs": [
    {
     "name": "stdout",
     "output_type": "stream",
     "text": [
      "19 22\n"
     ]
    }
   ],
   "source": [
    "print(length_of_LC, len_Uni)"
   ]
  },
  {
   "cell_type": "code",
   "execution_count": 47,
   "metadata": {},
   "outputs": [
    {
     "data": {
      "text/plain": [
       "False"
      ]
     },
     "execution_count": 47,
     "metadata": {},
     "output_type": "execute_result"
    }
   ],
   "source": [
    "length_of_LC > len_Uni"
   ]
  },
  {
   "cell_type": "code",
   "execution_count": 49,
   "metadata": {},
   "outputs": [
    {
     "name": "stdout",
     "output_type": "stream",
     "text": [
      "Our UMD mascot is Testudo .\n"
     ]
    }
   ],
   "source": [
    "print('Our UMD mascot is', mascot, '.')"
   ]
  },
  {
   "cell_type": "code",
   "execution_count": 50,
   "metadata": {},
   "outputs": [
    {
     "data": {
      "text/plain": [
       "['Library', 'of', 'Congress']"
      ]
     },
     "execution_count": 50,
     "metadata": {},
     "output_type": "execute_result"
    }
   ],
   "source": [
    "LC.split()"
   ]
  },
  {
   "cell_type": "code",
   "execution_count": 7,
   "metadata": {},
   "outputs": [
    {
     "name": "stdout",
     "output_type": "stream",
     "text": [
      "['Library', 'of', 'Congress']\n"
     ]
    }
   ],
   "source": [
    "Library_words = LC.split()\n",
    "\n",
    "print(Library_words)"
   ]
  },
  {
   "cell_type": "code",
   "execution_count": 52,
   "metadata": {},
   "outputs": [
    {
     "name": "stdout",
     "output_type": "stream",
     "text": [
      "Library\n",
      "of\n",
      "Congress\n"
     ]
    }
   ],
   "source": [
    "for word in Library_words:\n",
    "    print(word)"
   ]
  },
  {
   "cell_type": "code",
   "execution_count": 53,
   "metadata": {},
   "outputs": [
    {
     "data": {
      "text/plain": [
       "3"
      ]
     },
     "execution_count": 53,
     "metadata": {},
     "output_type": "execute_result"
    }
   ],
   "source": [
    "len(Library_words)"
   ]
  },
  {
   "cell_type": "code",
   "execution_count": 8,
   "metadata": {},
   "outputs": [
    {
     "data": {
      "text/plain": [
       "['Congress', 'Library', 'of']"
      ]
     },
     "execution_count": 8,
     "metadata": {},
     "output_type": "execute_result"
    }
   ],
   "source": [
    "sorted(Library_words)"
   ]
  },
  {
   "cell_type": "code",
   "execution_count": 9,
   "metadata": {},
   "outputs": [
    {
     "name": "stdout",
     "output_type": "stream",
     "text": [
      "['Library', 'of', 'Congress']\n"
     ]
    }
   ],
   "source": [
    "# The function does not alter the order of the list\n",
    "print(Library_words)"
   ]
  },
  {
   "cell_type": "code",
   "execution_count": 10,
   "metadata": {},
   "outputs": [
    {
     "name": "stdout",
     "output_type": "stream",
     "text": [
      "['Library', 'of', 'Congress', 'is']\n"
     ]
    }
   ],
   "source": [
    "Library_words.append('is')\n",
    "\n",
    "print(Library_words)"
   ]
  },
  {
   "cell_type": "code",
   "execution_count": 12,
   "metadata": {},
   "outputs": [
    {
     "name": "stdout",
     "output_type": "stream",
     "text": [
      "['Library', 'of', 'Congress', 'is', ['a', 'large', 'library']]\n"
     ]
    }
   ],
   "source": [
    "Library_words.append(['a', 'large', 'library'])\n",
    "\n",
    "print(Library_words)"
   ]
  },
  {
   "cell_type": "code",
   "execution_count": 15,
   "metadata": {},
   "outputs": [
    {
     "name": "stdout",
     "output_type": "stream",
     "text": [
      "['Library', 'Congress', 'is', ['a', 'large', 'library']]\n"
     ]
    }
   ],
   "source": [
    "# remove an item by giving its value\n",
    "\n",
    "Library_words.remove('of')\n",
    "\n",
    "print(Library_words)"
   ]
  },
  {
   "cell_type": "code",
   "execution_count": 21,
   "metadata": {},
   "outputs": [
    {
     "name": "stdout",
     "output_type": "stream",
     "text": [
      "['Library', 'of', 'Congress', ['a', 'large', 'library']]\n"
     ]
    }
   ],
   "source": [
    "# insert at a specific index using assignment\n",
    "\n",
    "Library_words[1] = 'of'\n",
    "\n",
    "Library_words[2] = 'Congress'\n",
    "\n",
    "print(Library_words)"
   ]
  },
  {
   "cell_type": "code",
   "execution_count": 22,
   "metadata": {},
   "outputs": [
    {
     "data": {
      "text/plain": [
       "['a', 'large', 'library']"
      ]
     },
     "execution_count": 22,
     "metadata": {},
     "output_type": "execute_result"
    }
   ],
   "source": [
    "# you can remove a specific element by index\n",
    "\n",
    "Library_words.pop(3)"
   ]
  },
  {
   "cell_type": "code",
   "execution_count": 23,
   "metadata": {},
   "outputs": [
    {
     "name": "stdout",
     "output_type": "stream",
     "text": [
      "['Library', 'of', 'Congress']\n"
     ]
    }
   ],
   "source": [
    "print(Library_words)"
   ]
  },
  {
   "cell_type": "code",
   "execution_count": 58,
   "metadata": {},
   "outputs": [
    {
     "name": "stdout",
     "output_type": "stream",
     "text": [
      "Congress of Library\n"
     ]
    }
   ],
   "source": [
    "# refer to items in the list with their indexes\n",
    "\n",
    "print(Library_words[2], Library_words[1], Library_words[0])"
   ]
  },
  {
   "cell_type": "markdown",
   "metadata": {},
   "source": [
    "#### Lists"
   ]
  },
  {
   "cell_type": "code",
   "execution_count": 61,
   "metadata": {},
   "outputs": [
    {
     "name": "stdout",
     "output_type": "stream",
     "text": [
      "['brie', 'gouda', 'provolone', 'swiss', 'ricotta', 'gorgonzola', 'cheddar']\n"
     ]
    }
   ],
   "source": [
    "cheeses = ['brie', 'gouda', 'provolone', 'swiss', 'ricotta', 'gorgonzola', 'cheddar']\n",
    "\n",
    "print(cheeses)\n"
   ]
  },
  {
   "cell_type": "code",
   "execution_count": 64,
   "metadata": {},
   "outputs": [
    {
     "name": "stdout",
     "output_type": "stream",
     "text": [
      "brie 4\n",
      "gouda 5\n",
      "provolone 9\n",
      "swiss 5\n",
      "ricotta 7\n",
      "gorgonzola 10\n",
      "cheddar 7\n"
     ]
    }
   ],
   "source": [
    "for cheese in cheeses:\n",
    "    print(cheese, len(cheese))\n"
   ]
  },
  {
   "cell_type": "code",
   "execution_count": 67,
   "metadata": {},
   "outputs": [
    {
     "data": {
      "text/plain": [
       "True"
      ]
     },
     "execution_count": 67,
     "metadata": {},
     "output_type": "execute_result"
    }
   ],
   "source": [
    "'brie' in cheeses"
   ]
  },
  {
   "cell_type": "markdown",
   "metadata": {},
   "source": [
    "Consult Charles Severance's _Python for Everbody_ for more information on the following:\n",
    "* [Variables](https://www.py4e.com/html3/02-variables)\n",
    "* [Functions](https://www.py4e.com/html3/04-functions)\n",
    "* [Strings](https://www.py4e.com/html3/06-strings)\n",
    "* [Lists](https://www.py4e.com/html3/08-lists)\n",
    "\n",
    "For much more detail, see the Python Docs tutorial at https://docs.python.org/3/tutorial/datastructures.html. "
   ]
  }
 ],
 "metadata": {
  "kernelspec": {
   "display_name": "Python 3",
   "language": "python",
   "name": "python3"
  },
  "language_info": {
   "codemirror_mode": {
    "name": "ipython",
    "version": 3
   },
   "file_extension": ".py",
   "mimetype": "text/x-python",
   "name": "python",
   "nbconvert_exporter": "python",
   "pygments_lexer": "ipython3",
   "version": "3.7.1"
  }
 },
 "nbformat": 4,
 "nbformat_minor": 2
}
