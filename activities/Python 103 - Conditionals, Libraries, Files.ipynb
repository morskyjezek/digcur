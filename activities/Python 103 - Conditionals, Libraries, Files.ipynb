{
 "cells": [
  {
   "cell_type": "markdown",
   "metadata": {},
   "source": [
    "# Python 103 - Libraries, conditionals, input(), and files \n",
    "\n",
    "This notebook goes through additional foundations for working in Python. \n",
    "We already covered basics of the language, the concepts of functions, \n",
    "iteration, strings, and lists. \n",
    "\n",
    "This week we delved more into control of operations based on conditions of the data (i.e., \"conditionals),\n",
    "and we also explored how to extend the function of python by importing various \n",
    "\"libraries\", asking for user input, and using files as input. \n",
    "\n",
    "For more detail on these concepts, please see:\n",
    "\n",
    "* Severance, _Python for Everybody_:\n",
    "  * [Lists](https://www.py4e.com/html3/08-lists)\n",
    "  * [Files](https://www.py4e.com/html3/07-files)\n",
    "* etc"
   ]
  },
  {
   "cell_type": "markdown",
   "metadata": {},
   "source": [
    "## Extending Python: Libraries\n",
    "\n",
    "In Python, you can easily import \"libraries,\" which are groups of additional code\n",
    "that allow you to extend the functionality. For example, if you want to make \n",
    "a program that will query information from a webpage, you need to be able to explain\n",
    "to Python how to interact with the hypertext protocol and ask for responses\n",
    "as a web browser would. For this case, you can \"import\" a library called `requests`. Additional \n",
    "libraries allow you to interact with information in the file system, as you \n",
    "would in the shell or command line, or to use specific types of data files, such as .csv. \n",
    "We will also make use of `csv` to process information in CSV files, `json` to use JSON, \n",
    "and `lxml` and/or `ETree` to process XML. \n",
    "\n",
    "The syntax to import a library is `import`. There are different flavors of importing a library \n",
    "as shown here:"
   ]
  },
  {
   "cell_type": "code",
   "execution_count": 18,
   "metadata": {},
   "outputs": [],
   "source": [
    "import requests\n",
    "\n",
    "from lxml import etree\n",
    "\n",
    "import string as s\n",
    "import xml.etree.ElementTree as ET"
   ]
  },
  {
   "cell_type": "markdown",
   "metadata": {},
   "source": [
    "Line 1: Basic import, in this case for the requests module.\n",
    "\n",
    "Line 3: This imports a specific part (`etree`) of a larger module (`lxml`). Basic construction: from X import Y\n",
    "\n",
    "Lines 5 & 6: Provide an alias for a module, which can make it easier to refer to refer to a module with a\n",
    "long name. Basic construction: import LONG_NAME.LONGER.NAAAAAAME as y"
   ]
  },
  {
   "cell_type": "markdown",
   "metadata": {},
   "source": [
    "## Exploring the Conditional if/else\n",
    "\n",
    "The basic construction is `if` followed by a condition to check, then instructions for what \n",
    "to do, then `else` if the condition is not satisfied, with additional instructions. Note that \n",
    "this basic pattern can be extended if there are multiple conditions, often with the `elif` \n",
    "(else if). We will only explore the basic if/else here. "
   ]
  },
  {
   "cell_type": "code",
   "execution_count": 1,
   "metadata": {},
   "outputs": [
    {
     "data": {
      "text/plain": [
       "'esseJ'"
      ]
     },
     "execution_count": 1,
     "metadata": {},
     "output_type": "execute_result"
    }
   ],
   "source": [
    "## This function traverses through each character in the string input as `in_string`\n",
    "## The traverse is done using iteration in the for loop (line 6)\n",
    "## In line 7, the character i is added to the front of the string, which\n",
    "## creates a reverse. We could then use this reverse in a later function to check for palindromes.\n",
    "def reverse(in_string):\n",
    "    s = ''\n",
    "    for i in in_string:\n",
    "        s = i + s\n",
    "    return s\n",
    "\n",
    "reverse('Jesse')"
   ]
  },
  {
   "cell_type": "code",
   "execution_count": 2,
   "metadata": {},
   "outputs": [],
   "source": [
    "mascot = 'Testudo'\n",
    "founder = 'Thomas Jefferson'\n",
    "\n",
    "LC_date = 1800"
   ]
  },
  {
   "cell_type": "code",
   "execution_count": 3,
   "metadata": {},
   "outputs": [
    {
     "data": {
      "text/plain": [
       "'odutseT'"
      ]
     },
     "execution_count": 3,
     "metadata": {},
     "output_type": "execute_result"
    }
   ],
   "source": [
    "reverse(mascot)"
   ]
  },
  {
   "cell_type": "code",
   "execution_count": 4,
   "metadata": {},
   "outputs": [
    {
     "data": {
      "text/plain": [
       "'nosreffeJ samohT'"
      ]
     },
     "execution_count": 4,
     "metadata": {},
     "output_type": "execute_result"
    }
   ],
   "source": [
    "reverse(founder)"
   ]
  },
  {
   "cell_type": "code",
   "execution_count": 5,
   "metadata": {},
   "outputs": [
    {
     "ename": "TypeError",
     "evalue": "'int' object is not iterable",
     "output_type": "error",
     "traceback": [
      "\u001b[0;31m---------------------------------------------------------------------------\u001b[0m",
      "\u001b[0;31mTypeError\u001b[0m                                 Traceback (most recent call last)",
      "\u001b[0;32m<ipython-input-5-2aec55b922f7>\u001b[0m in \u001b[0;36m<module>\u001b[0;34m()\u001b[0m\n\u001b[0;32m----> 1\u001b[0;31m \u001b[0mreverse\u001b[0m\u001b[0;34m(\u001b[0m\u001b[0mLC_date\u001b[0m\u001b[0;34m)\u001b[0m\u001b[0;34m\u001b[0m\u001b[0m\n\u001b[0m",
      "\u001b[0;32m<ipython-input-1-b92292b2cb9c>\u001b[0m in \u001b[0;36mreverse\u001b[0;34m(in_string)\u001b[0m\n\u001b[1;32m      5\u001b[0m \u001b[0;32mdef\u001b[0m \u001b[0mreverse\u001b[0m\u001b[0;34m(\u001b[0m\u001b[0min_string\u001b[0m\u001b[0;34m)\u001b[0m\u001b[0;34m:\u001b[0m\u001b[0;34m\u001b[0m\u001b[0m\n\u001b[1;32m      6\u001b[0m     \u001b[0ms\u001b[0m \u001b[0;34m=\u001b[0m \u001b[0;34m''\u001b[0m\u001b[0;34m\u001b[0m\u001b[0m\n\u001b[0;32m----> 7\u001b[0;31m     \u001b[0;32mfor\u001b[0m \u001b[0mi\u001b[0m \u001b[0;32min\u001b[0m \u001b[0min_string\u001b[0m\u001b[0;34m:\u001b[0m\u001b[0;34m\u001b[0m\u001b[0m\n\u001b[0m\u001b[1;32m      8\u001b[0m         \u001b[0ms\u001b[0m \u001b[0;34m=\u001b[0m \u001b[0mi\u001b[0m \u001b[0;34m+\u001b[0m \u001b[0ms\u001b[0m\u001b[0;34m\u001b[0m\u001b[0m\n\u001b[1;32m      9\u001b[0m     \u001b[0;32mreturn\u001b[0m \u001b[0ms\u001b[0m\u001b[0;34m\u001b[0m\u001b[0m\n",
      "\u001b[0;31mTypeError\u001b[0m: 'int' object is not iterable"
     ]
    }
   ],
   "source": [
    "reverse(LC_date)"
   ]
  },
  {
   "cell_type": "markdown",
   "metadata": {},
   "source": [
    "The above raises a type error. We cannot use the `for x:` syntax if the `x` is an integer type. \n",
    "As the helpful error points out, it is not iterable. \n",
    "\n",
    "Let's explore using a conditional statement that can check whether or not the \n",
    "data is suitable for this function. \n",
    "\n",
    "Conditionals in python use a general construction like this: \n",
    "\n",
    "```python \n",
    "if ____:\n",
    "    #condition here\n",
    "else ____:\n",
    "```"
   ]
  },
  {
   "cell_type": "code",
   "execution_count": 6,
   "metadata": {},
   "outputs": [
    {
     "name": "stdout",
     "output_type": "stream",
     "text": [
      "Please enter a string!\n"
     ]
    }
   ],
   "source": [
    "def reverse(in_string):\n",
    "    if type(in_string) == str:\n",
    "        s = ''\n",
    "        for i in in_string:\n",
    "            s = i + s\n",
    "        return s\n",
    "    else:\n",
    "        print('Please enter a string!')\n",
    "\n",
    "reverse(LC_date)"
   ]
  },
  {
   "cell_type": "code",
   "execution_count": 7,
   "metadata": {},
   "outputs": [
    {
     "data": {
      "text/plain": [
       "True"
      ]
     },
     "execution_count": 7,
     "metadata": {},
     "output_type": "execute_result"
    }
   ],
   "source": [
    "# palindrome checking\n",
    "def palindrome(in_string):\n",
    "    if in_string == reverse(in_string):\n",
    "        return True\n",
    "    else:\n",
    "        return False\n",
    "\n",
    "palindrome('JesseJ')"
   ]
  },
  {
   "cell_type": "code",
   "execution_count": 8,
   "metadata": {},
   "outputs": [
    {
     "data": {
      "text/plain": [
       "False"
      ]
     },
     "execution_count": 8,
     "metadata": {},
     "output_type": "execute_result"
    }
   ],
   "source": [
    "palindrome(founder)"
   ]
  },
  {
   "cell_type": "code",
   "execution_count": 9,
   "metadata": {},
   "outputs": [
    {
     "name": "stdout",
     "output_type": "stream",
     "text": [
      "Please enter a string!\n"
     ]
    },
    {
     "data": {
      "text/plain": [
       "False"
      ]
     },
     "execution_count": 9,
     "metadata": {},
     "output_type": "execute_result"
    }
   ],
   "source": [
    "palindrome(LC_date)"
   ]
  },
  {
   "cell_type": "markdown",
   "metadata": {},
   "source": [
    "## input()\n",
    "\n",
    "Let's say that you want to ask the user for input. \n",
    "The basic syntax for asking for input is `input()`. This can be assigned to a variable and then reused. "
   ]
  },
  {
   "cell_type": "code",
   "execution_count": 58,
   "metadata": {},
   "outputs": [
    {
     "name": "stdout",
     "output_type": "stream",
     "text": [
      "Please enter an X or a Y: 235\n",
      "Please enter an x or y!\n"
     ]
    }
   ],
   "source": [
    "# another toy example of the if/elif/else\n",
    "your_input = input('Please enter an X or a Y: ')\n",
    "\n",
    "if your_input.lower() == 'x':\n",
    "    print('You entered x!')\n",
    "elif your_input.lower() == 'y':\n",
    "    print('You entered y!')\n",
    "else:\n",
    "    print('Please enter an x or y!')"
   ]
  },
  {
   "cell_type": "markdown",
   "metadata": {},
   "source": [
    "We can reuse our functions from above and see if the input is a palindrome. \n",
    "We will build on the previous functions, `reverse()` and `palindrome()`."
   ]
  },
  {
   "cell_type": "code",
   "execution_count": 11,
   "metadata": {},
   "outputs": [
    {
     "name": "stdout",
     "output_type": "stream",
     "text": [
      "Please enter your palindrome here to be checked: JesseJ\n"
     ]
    },
    {
     "data": {
      "text/plain": [
       "True"
      ]
     },
     "execution_count": 11,
     "metadata": {},
     "output_type": "execute_result"
    }
   ],
   "source": [
    "phrase = input('Please enter your palindrome here to be checked: ')\n",
    "\n",
    "palindrome(phrase)"
   ]
  },
  {
   "cell_type": "markdown",
   "metadata": {},
   "source": [
    "We could make a function that includes asking for input, then reuses the above two functions:"
   ]
  },
  {
   "cell_type": "code",
   "execution_count": 15,
   "metadata": {},
   "outputs": [
    {
     "name": "stdout",
     "output_type": "stream",
     "text": [
      "Please enter your palindrome here to be checked: retror\n"
     ]
    },
    {
     "data": {
      "text/plain": [
       "False"
      ]
     },
     "execution_count": 15,
     "metadata": {},
     "output_type": "execute_result"
    }
   ],
   "source": [
    "def ask_for_palindrome():\n",
    "    '''This function asks for user input, it checks if the input is a string, then it determines if the string is a palindrome.\n",
    "    The function returns True or False'''\n",
    "    phrase = input('Please enter your palindrome here to be checked: ')\n",
    "    return palindrome(phrase)\n",
    "\n",
    "ask_for_palindrome()"
   ]
  },
  {
   "cell_type": "markdown",
   "metadata": {},
   "source": [
    "## Working with Files\n",
    "\n",
    "There are two basic ways to open files and work with the data inside them. One is to use \n",
    "the `open()` function. This requires you to close the file when done, using the `close()` function. \n",
    "The second way is to use a more complex but efficient way, using a \n",
    "contextual statement `with open() as f:`. In this second way, \n",
    "the file opens and is assigned to a variable `f`. You can refer to the data using the variabl, and when \n",
    "the operation within the indented loop is completed, the file is closed. \n",
    "\n",
    "(Note: Close is most important if you have written data to the file, so we will usually  \n",
    "use the `with open()` construction. If you specify that the file is read only using the `r`\n",
    "option, as below, this is less critical but it is still good to practice closing the file.)\n",
    "\n",
    "Examples:"
   ]
  },
  {
   "cell_type": "code",
   "execution_count": 24,
   "metadata": {},
   "outputs": [
    {
     "name": "stdout",
     "output_type": "stream",
     "text": [
      "Line count: 1910\n"
     ]
    }
   ],
   "source": [
    "fhand = open('../assets/mbox-short.txt', 'r')\n",
    "\n",
    "count = 0\n",
    "\n",
    "for line in fhand:\n",
    "    count = count + 1\n",
    "\n",
    "print('Line count:', count)\n",
    "\n",
    "fhand.close()"
   ]
  },
  {
   "cell_type": "code",
   "execution_count": 25,
   "metadata": {},
   "outputs": [
    {
     "name": "stdout",
     "output_type": "stream",
     "text": [
      "Line count: 1910\n"
     ]
    }
   ],
   "source": [
    "with open('../assets/mbox-short.txt', 'r') as f:\n",
    "    count = 0\n",
    "    for line in f:\n",
    "        count += 1\n",
    "    print('Line count:', count)"
   ]
  },
  {
   "cell_type": "markdown",
   "metadata": {},
   "source": [
    "We could also ask for the file as an input:"
   ]
  },
  {
   "cell_type": "code",
   "execution_count": 27,
   "metadata": {},
   "outputs": [
    {
     "name": "stdout",
     "output_type": "stream",
     "text": [
      "Please enter the path to the file: ../assets/mbox-short.txt\n",
      "Line count: 1910\n"
     ]
    }
   ],
   "source": [
    "fhand = input('Please enter the path to the file: ')\n",
    "\n",
    "with open(fhand, 'r') as f:\n",
    "    count = 0\n",
    "    for line in f:\n",
    "        count += 1\n",
    "    print('Line count:', count)"
   ]
  },
  {
   "cell_type": "markdown",
   "metadata": {},
   "source": [
    "We can read the contents of the file using the basic `open()` and `read()`, like this:"
   ]
  },
  {
   "cell_type": "code",
   "execution_count": 2,
   "metadata": {},
   "outputs": [
    {
     "name": "stdout",
     "output_type": "stream",
     "text": [
      "Please enter the path to the file: ../assets/mbox-short.txt\n",
      "94626\n"
     ]
    }
   ],
   "source": [
    "fhand = input('Please enter the path to the file: ')\n",
    "\n",
    "file_text = open(fhand).read()\n",
    "\n",
    "print(len(file_text))"
   ]
  },
  {
   "cell_type": "markdown",
   "metadata": {},
   "source": [
    "We could use another file to look for basic aspects of text, match strings, etc. "
   ]
  },
  {
   "cell_type": "code",
   "execution_count": 44,
   "metadata": {},
   "outputs": [
    {
     "name": "stdout",
     "output_type": "stream",
     "text": [
      "1 Article 1.\n",
      "2 Article 2.\n",
      "3 Article 3.\n",
      "4 Article 4.\n",
      "5 Article 5.\n",
      "6 Article 6.\n",
      "7 Article 7.\n",
      "8 Article 8.\n",
      "9 Article 9.\n",
      "10 Article 10.\n",
      "11 Article 11.\n",
      "12 Article 12.\n",
      "13 Article 13.\n",
      "14 Article 14.\n",
      "15 Article 15.\n",
      "16 Article 16.\n",
      "17 Article 17.\n",
      "18 Article 18.\n",
      "19 Article 19.\n",
      "20 Article 20.\n",
      "21 Article 21.\n",
      "22 Article 22.\n",
      "23 Article 23.\n",
      "24 Article 24.\n",
      "25 Article 25.\n",
      "26 Article 26.\n",
      "27 Article 27.\n",
      "28 Article 28.\n",
      "29 Article 29.\n",
      "30 Article 30.\n",
      "\n",
      "The Universal Declaration of Human Rights has 30 articles.\n"
     ]
    }
   ],
   "source": [
    "# How many articles are in the UN Declaration of Human Rights?\n",
    "\n",
    "num_articles = 0\n",
    "\n",
    "with open('../assets/universal-human-rights.txt', 'r', encoding='utf-8') as text:\n",
    "    for line in text:\n",
    "        if line.startswith('Article'):\n",
    "            num_articles += 1\n",
    "            print(num_articles, line, end='')\n",
    "\n",
    "print('\\nThe Universal Declaration of Human Rights has',num_articles,'articles.')"
   ]
  },
  {
   "cell_type": "code",
   "execution_count": 46,
   "metadata": {},
   "outputs": [
    {
     "name": "stdout",
     "output_type": "stream",
     "text": [
      "1 Whereas recognition of the inherent dignity and of the equal and inalienable rights of all members of the human family is the foundation of freedom, justice and peace in the world,\n",
      "\n",
      "2 Whereas disregard and contempt for human rights have resulted in barbarous acts which have outraged the conscience of mankind, and the advent of a world in which human beings shall enjoy freedom of speech and belief and freedom from fear and want has been proclaimed as the highest aspiration of the common people,\n",
      "\n",
      "3 Whereas it is essential, if man is not to be compelled to have recourse, as a last resort, to rebellion against tyranny and oppression, that human rights should be protected by the rule of law,\n",
      "\n",
      "4 Whereas it is essential to promote the development of friendly relations between nations,\n",
      "\n",
      "5 Whereas the peoples of the United Nations have in the Charter reaffirmed their faith in fundamental human rights, in the dignity and worth of the human person and in the equal rights of men and women and have determined to promote social progress and better standards of life in larger freedom,\n",
      "\n",
      "6 Whereas Member States have pledged themselves to achieve, in co-operation with the United Nations, the promotion of universal respect for and observance of human rights and fundamental freedoms,\n",
      "\n",
      "7 Whereas a common understanding of these rights and freedoms is of the greatest importance for the full realization of this pledge,\n",
      "\n",
      "['Whereas recognition of the inherent dignity and of the equal and inalienable rights of all members of the human family is the foundation of freedom, justice and peace in the world,\\n', 'Whereas disregard and contempt for human rights have resulted in barbarous acts which have outraged the conscience of mankind, and the advent of a world in which human beings shall enjoy freedom of speech and belief and freedom from fear and want has been proclaimed as the highest aspiration of the common people,\\n', 'Whereas it is essential, if man is not to be compelled to have recourse, as a last resort, to rebellion against tyranny and oppression, that human rights should be protected by the rule of law,\\n', 'Whereas it is essential to promote the development of friendly relations between nations,\\n', 'Whereas the peoples of the United Nations have in the Charter reaffirmed their faith in fundamental human rights, in the dignity and worth of the human person and in the equal rights of men and women and have determined to promote social progress and better standards of life in larger freedom,\\n', 'Whereas Member States have pledged themselves to achieve, in co-operation with the United Nations, the promotion of universal respect for and observance of human rights and fundamental freedoms,\\n', 'Whereas a common understanding of these rights and freedoms is of the greatest importance for the full realization of this pledge,\\n']\n"
     ]
    }
   ],
   "source": [
    "num_whereas = 0\n",
    "list_of_whereas = []\n",
    "\n",
    "with open('../assets/universal-human-rights.txt', 'r') as text:\n",
    "    for line in text:\n",
    "        if line.startswith('Whereas'):\n",
    "            num_whereas += 1\n",
    "            list_of_whereas.append(line)\n",
    "            print(num_whereas, line)\n",
    "\n",
    "print(list_of_whereas)"
   ]
  },
  {
   "cell_type": "code",
   "execution_count": 54,
   "metadata": {},
   "outputs": [
    {
     "name": "stdout",
     "output_type": "stream",
     "text": [
      "\n",
      ",egdelp siht fo noitazilaer lluf eht rof ecnatropmi tsetaerg eht fo si smodeerf dna sthgir eseht fo gnidnatsrednu nommoc a saerehW\n",
      "pledge, this of realization full the for importance greatest the of is freedoms and rights these of understanding common a Whereas \n"
     ]
    }
   ],
   "source": [
    "#this reverses the letters\n",
    "def reverse_chars(i):\n",
    "    backwards_whereas = ''\n",
    "    for item in list_of_whereas[i]:\n",
    "        backwards_whereas = item + backwards_whereas\n",
    "    return backwards_whereas\n",
    "\n",
    "print(reverse_chars(6))\n",
    "\n",
    "#this reverses the words\n",
    "def reverse_phrase(i):\n",
    "    backwards_whereas = ''\n",
    "    for item in list_of_whereas[i].split():\n",
    "        backwards_whereas = (item + ' ') + backwards_whereas\n",
    "    return backwards_whereas\n",
    "\n",
    "print(reverse_phrase(6))"
   ]
  },
  {
   "cell_type": "markdown",
   "metadata": {},
   "source": [
    "## Reflection Activities\n",
    "\n",
    "Please answer these questions outside of class and upload your answers via ELMS:\n",
    "\n",
    "1. Using the code blocks above that show how to identify lines based on their starting words, \n",
    "   write a new block of code that remixes that to count the number of lines that are \"Whereas\"\n",
    "   statements, the number of articles, and the number of other lines. Use the notebook to \n",
    "   work out your thoughts, save the code in a file name `line_counters.py`. Upload the file to ELMS.\n",
    "1. Write a block of code that prompts the user for a file path. The code then\n",
    "   takes the file at that path and counts the lines in the file. Use the notebook to \n",
    "   work out your thoughts, save the code in a file name `input_and_count.py`. Upload the file to ELMS.\n",
    "1. Write a block of code that will count the strings (that is, basically, **count the words**, which are \n",
    "   all the contiguous strings with no spaces). The code should print out the number of words when you run it. \n",
    "   (Bonus: You might add a few refinements or explore with this one. For example, \n",
    "   if you want to compare the words, how might you remove uppercase/lowercase? \n",
    "   What would you do about punctuation? \n",
    "   Could you write something that counts a specific letter, like `r`, or identifies instances of \n",
    "   repeated letters?)\n",
    "   Use the notebook to work out your thoughts, \n",
    "   save the code in a file name `count_words.py`. Upload the file to ELMS."
   ]
  }
 ],
 "metadata": {
  "kernelspec": {
   "display_name": "Python 3",
   "language": "python",
   "name": "python3"
  },
  "language_info": {
   "codemirror_mode": {
    "name": "ipython",
    "version": 3
   },
   "file_extension": ".py",
   "mimetype": "text/x-python",
   "name": "python",
   "nbconvert_exporter": "python",
   "pygments_lexer": "ipython3",
   "version": "3.7.1"
  }
 },
 "nbformat": 4,
 "nbformat_minor": 2
}
