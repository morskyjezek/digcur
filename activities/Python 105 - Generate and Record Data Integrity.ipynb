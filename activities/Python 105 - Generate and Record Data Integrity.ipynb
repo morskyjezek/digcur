{
 "cells": [
  {
   "cell_type": "markdown",
   "metadata": {},
   "source": [
    "# Python 105 - Harvesting Integrity Metadata\n",
    "\n",
    "There are a few final touches that can improve our file inventory, including\n",
    "more robust integrity information, identifying the mimetype, and recording Tika output. \n",
    "\n",
    "This workbook walks through the creation and recording of more robust \n",
    "integrity information using checksums."
   ]
  },
  {
   "cell_type": "markdown",
   "metadata": {},
   "source": [
    "## Setup\n",
    "\n",
    "Import the libraries and functions, as developed in the previous notebooks.\n",
    "The `hashlib` module supports the generation of checksum information."
   ]
  },
  {
   "cell_type": "code",
   "execution_count": 1,
   "metadata": {},
   "outputs": [],
   "source": [
    "import os\n",
    "from os.path import join, getsize\n",
    "import csv\n",
    "import hashlib"
   ]
  },
  {
   "cell_type": "code",
   "execution_count": 2,
   "metadata": {},
   "outputs": [
    {
     "data": {
      "text/plain": [
       "{'DSA',\n",
       " 'DSA-SHA',\n",
       " 'MD4',\n",
       " 'MD5',\n",
       " 'MDC2',\n",
       " 'RIPEMD160',\n",
       " 'SHA',\n",
       " 'SHA1',\n",
       " 'SHA224',\n",
       " 'SHA256',\n",
       " 'SHA384',\n",
       " 'SHA512',\n",
       " 'blake2b',\n",
       " 'blake2s',\n",
       " 'dsaEncryption',\n",
       " 'dsaWithSHA',\n",
       " 'ecdsa-with-SHA1',\n",
       " 'md4',\n",
       " 'md5',\n",
       " 'mdc2',\n",
       " 'ripemd160',\n",
       " 'sha',\n",
       " 'sha1',\n",
       " 'sha224',\n",
       " 'sha256',\n",
       " 'sha384',\n",
       " 'sha3_224',\n",
       " 'sha3_256',\n",
       " 'sha3_384',\n",
       " 'sha3_512',\n",
       " 'sha512',\n",
       " 'shake_128',\n",
       " 'shake_256',\n",
       " 'whirlpool'}"
      ]
     },
     "execution_count": 2,
     "metadata": {},
     "output_type": "execute_result"
    }
   ],
   "source": [
    "# check what algorithms are available in your setup. We'll focus on MD5 and SHA\n",
    "hashlib.algorithms_available"
   ]
  },
  {
   "cell_type": "code",
   "execution_count": 13,
   "metadata": {},
   "outputs": [
    {
     "name": "stdout",
     "output_type": "stream",
     "text": [
      "/Users/rickypunzalan/Desktop/digcur/activities\n"
     ]
    },
    {
     "data": {
      "text/plain": [
       "['.DS_Store',\n",
       " 'audio',\n",
       " 'image',\n",
       " 'pdf',\n",
       " 'presentation',\n",
       " 'video',\n",
       " 'web-files-small-metadata.csv']"
      ]
     },
     "execution_count": 13,
     "metadata": {},
     "output_type": "execute_result"
    }
   ],
   "source": [
    "print(os.getcwd())\n",
    "sampleDir = join('..','assets','Bundle-web-files-small')\n",
    "os.listdir(sampleDir)"
   ]
  },
  {
   "cell_type": "code",
   "execution_count": 17,
   "metadata": {},
   "outputs": [
    {
     "name": "stdout",
     "output_type": "stream",
     "text": [
      "../assets/Bundle-web-files-small/web-files-small-metadata.csv\n"
     ]
    },
    {
     "data": {
      "text/plain": [
       "str"
      ]
     },
     "execution_count": 17,
     "metadata": {},
     "output_type": "execute_result"
    }
   ],
   "source": [
    "sampleFile = join(sampleDir,'web-files-small-metadata.csv')\n",
    "\n",
    "print(sampleFile)\n",
    "type(sampleFile)"
   ]
  },
  {
   "cell_type": "code",
   "execution_count": 26,
   "metadata": {},
   "outputs": [
    {
     "name": "stdout",
     "output_type": "stream",
     "text": [
      "c28c08c3e94fe867c81b73502405d7a9\n"
     ]
    }
   ],
   "source": [
    "# use the following example to create an MD5 checksum\n",
    "# the .md5() method creates MD5, the file passed in is encoded \n",
    "m = hashlib.md5(sampleFile.encode())\n",
    "# use the hexdigest to printout a hex value of the hash \n",
    "print(m.hexdigest())"
   ]
  },
  {
   "cell_type": "code",
   "execution_count": 27,
   "metadata": {},
   "outputs": [],
   "source": [
    "# make a function\n",
    "def create_md5_digest(file):\n",
    "    '''This is a simple function to create an md5 checksum.\n",
    "    \n",
    "    The accepted file value should be a string representing a valid path.'''\n",
    "    m = hashlib.md5(file.encode())\n",
    "    return m.hexdigest()"
   ]
  },
  {
   "cell_type": "code",
   "execution_count": 28,
   "metadata": {},
   "outputs": [
    {
     "data": {
      "text/plain": [
       "'c28c08c3e94fe867c81b73502405d7a9'"
      ]
     },
     "execution_count": 28,
     "metadata": {},
     "output_type": "execute_result"
    }
   ],
   "source": [
    "create_md5_digest(sampleFile)"
   ]
  },
  {
   "cell_type": "markdown",
   "metadata": {},
   "source": [
    "### Add to metadata harvesting script\n",
    "\n",
    "Now, let's add to the metadata harvesting code from the previous notebook (Python 104)."
   ]
  },
  {
   "cell_type": "code",
   "execution_count": 30,
   "metadata": {},
   "outputs": [
    {
     "name": "stdout",
     "output_type": "stream",
     "text": [
      "Looked through the file tree. Found 23 files.\n",
      "Wrote the file manifest with extensions!\n"
     ]
    }
   ],
   "source": [
    "# first use os.walk() as in the notebook, Python 104\n",
    "\n",
    "## get information about each of the files\n",
    "\n",
    "# first let's set some counters\n",
    "fileCount = 0\n",
    "# and a list to hold the information about the file, and another to hold the fileInfo\n",
    "fileInfo = list()\n",
    "manifestInfo = list()\n",
    "\n",
    "for folderName, subfolders, filenames in os.walk(sampleDir):    \n",
    "    for filename in filenames:\n",
    "        fileCount += 1\n",
    "        index = fileCount\n",
    "        filename = filename \n",
    "        folder = folderName\n",
    "        path = os.path.join(folderName, filename)\n",
    "        size = os.path.getsize(path)\n",
    "        extension = filename.split('.')[-1]\n",
    "        # add in checksum\n",
    "        checksumMD5 = create_md5_digest(os.path.join(folderName,filename))\n",
    "#        print('Found:', filename, folder, path, size, extension)\n",
    "\n",
    "        fileInfo = [\n",
    "            index,\n",
    "            filename,\n",
    "            folder,\n",
    "            path,\n",
    "            size,\n",
    "            extension,\n",
    "            #add in checksum\n",
    "            checksumMD5\n",
    "            ]\n",
    "        manifestInfo.append(fileInfo)\n",
    "print('Looked through the file tree. Found',len(manifestInfo),'files.')\n",
    "\n",
    "## write to a CSV\n",
    "\n",
    "# set up the csv, create a header row\n",
    "headers = [\n",
    "    'index',\n",
    "    'filename',\n",
    "    'in_folder_path',\n",
    "    'full_file_path',\n",
    "    'size',\n",
    "    'extension',\n",
    "    # add in md5\n",
    "    'checksum_md5'\n",
    "    ]\n",
    "\n",
    "# write the information using csvwriter()\n",
    "with open('file-manifest-with-extension-and-md5.csv', 'w') as f:\n",
    "    writer = csv.writer(f)\n",
    "    writer.writerow(headers)\n",
    "    for file in manifestInfo:\n",
    "#        print(file)\n",
    "        writer.writerow(file)\n",
    "    print('Wrote the file manifest with extensions!')   "
   ]
  },
  {
   "cell_type": "markdown",
   "metadata": {},
   "source": [
    "Check the value for Returned value for `web-files-small-metadata.csv` printed above, and the value in the CSV output by the above code. If the values match, this indicates a successful checksum! \n",
    "\n",
    "For more exploration, try adding the SHA256 or another type of digest value. \n",
    "Also, try modifying the functions created in the previous notebook (see completed functions in the \n",
    "worked examples in the 2019-03-14 notebook in the `class-notes` folder). "
   ]
  }
 ],
 "metadata": {
  "kernelspec": {
   "display_name": "Python 3",
   "language": "python",
   "name": "python3"
  },
  "language_info": {
   "codemirror_mode": {
    "name": "ipython",
    "version": 3
   },
   "file_extension": ".py",
   "mimetype": "text/x-python",
   "name": "python",
   "nbconvert_exporter": "python",
   "pygments_lexer": "ipython3",
   "version": "3.6.4"
  }
 },
 "nbformat": 4,
 "nbformat_minor": 2
}
